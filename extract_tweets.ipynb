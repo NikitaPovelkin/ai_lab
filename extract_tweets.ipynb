{
 "cells": [
  {
   "cell_type": "code",
   "execution_count": 4,
   "id": "2f04ce7d",
   "metadata": {},
   "outputs": [
    {
     "name": "stdout",
     "output_type": "stream",
     "text": [
      "Er kopierte\n"
     ]
    }
   ],
   "source": [
    "from Giveme5W1H.extractor.document import Document\n",
    "from Giveme5W1H.extractor.extractor import MasterExtractor\n",
    "\n",
    "extractor = MasterExtractor()\n",
    "doc = Document.from_text(titleshort, date_publish)\n",
    "\n",
    "doc = extractor.parse(doc)\n",
    "\n",
    "top_who_answer = doc.get_top_answer('who').get_parts_as_text()\n",
    "top_what_answer = doc.get_top_answer('what').get_parts_as_text()\n",
    "top_when_answer = doc.get_top_answer('when').get_parts_as_text()\n",
    "top_where_answer = doc.get_top_answer('where').get_parts_as_text()\n",
    "top_why_answer = doc.get_top_answer('why').get_parts_as_text()\n",
    "top_how_answer = doc.get_top_answer('how').get_parts_as_text()"
   ]
  },
  {
   "cell_type": "code",
   "execution_count": 5,
   "id": "0693e9e7",
   "metadata": {},
   "outputs": [],
   "source": [
    "import pandas as pd\n",
    "import numpy as np\n",
    "\n"
   ]
  }
 ],
 "metadata": {
  "kernelspec": {
   "display_name": "Python 3 (ipykernel)",
   "language": "python",
   "name": "python3"
  },
  "language_info": {
   "codemirror_mode": {
    "name": "ipython",
    "version": 3
   },
   "file_extension": ".py",
   "mimetype": "text/x-python",
   "name": "python",
   "nbconvert_exporter": "python",
   "pygments_lexer": "ipython3",
   "version": "3.9.12"
  }
 },
 "nbformat": 4,
 "nbformat_minor": 5
}
