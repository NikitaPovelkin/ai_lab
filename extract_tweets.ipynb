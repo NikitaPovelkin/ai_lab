{
 "cells": [
  {
   "cell_type": "code",
   "execution_count": 1,
   "id": "2f04ce7d",
   "metadata": {},
   "outputs": [],
   "source": [
    "import pandas as pd\n",
    "import numpy as np\n",
    "import os\n",
    "from Giveme5W1H.extractor.document import Document\n",
    "from Giveme5W1H.extractor.extractor import MasterExtractor"
   ]
  },
  {
   "cell_type": "markdown",
   "id": "4f976e98",
   "metadata": {},
   "source": [
    "# Cleaning Tweets"
   ]
  },
  {
   "cell_type": "code",
   "execution_count": 2,
   "id": "0693e9e7",
   "metadata": {},
   "outputs": [],
   "source": [
    "def prepare_tweets_from(dataframe):\n",
    "    dataframe = dataframe.drop(['id', 'username'], axis=1)\n",
    "\n",
    "    url_regex = r'https?:\\/\\/(www\\.)?[-a-zA-Z0-9@:%._\\+~#=]{1,256}\\.[a-zA-Z0-9()]{1,6}\\b([-a-zA-Z0-9()@:%_\\+.~#?&//=]*)'\n",
    "    hashtag_regex = r'#[a-z0-9A-Z_]+'\n",
    "    newline_regex = r'(\\r\\n|\\r|\\n)'\n",
    "\n",
    "    dataframe['text'] = dataframe['text'].str.replace(url_regex, '', regex=True)\n",
    "    dataframe['text'] = dataframe['text'].str.replace(hashtag_regex, '', regex=True)\n",
    "    dataframe['text'] = dataframe['text'].str.replace(\"%\", ' percent ', regex=False)\n",
    "    dataframe['text'] = dataframe['text'].str.strip()\n",
    "    dataframe['text'] = dataframe['text'].str.strip(\":\")\n",
    "    dataframe = dataframe[dataframe['text'].str.strip().astype(bool)]\n",
    "    dataframe = dataframe.drop_duplicates(subset='text', keep=\"first\")\n",
    "    \n",
    "    return dataframe\n",
    "\n",
    "def evaluate_(tweets_df):\n",
    "    tweets_list = tweets_df.values.tolist()\n",
    "    extractor = MasterExtractor()\n",
    "    result_dict = {}\n",
    "    idx = 0\n",
    "    \n",
    "    for tweet in tweets_list:\n",
    "        row = {}\n",
    "        display(tweet[1])\n",
    "        doc = Document.from_text(tweet[1], tweet[1], tweet[0])\n",
    "        doc = extractor.parse(doc)\n",
    "        row['who'] = doc.get_top_answer('who')\n",
    "        row['what'] = doc.get_top_answer('what')\n",
    "        row['when'] = doc.get_top_answer('when')\n",
    "        row['where'] = doc.get_top_answer('where')\n",
    "        row['why'] = doc.get_top_answer('why')\n",
    "        row['how'] = doc.get_top_answer('how')\n",
    "        result_dict[str(idx)] = row\n",
    "        idx += 1\n",
    "    \n",
    "    return result_dict"
   ]
  },
  {
   "cell_type": "code",
   "execution_count": 8,
   "id": "0d2e1e4a",
   "metadata": {},
   "outputs": [
    {
     "data": {
      "text/html": [
       "<div>\n",
       "<style scoped>\n",
       "    .dataframe tbody tr th:only-of-type {\n",
       "        vertical-align: middle;\n",
       "    }\n",
       "\n",
       "    .dataframe tbody tr th {\n",
       "        vertical-align: top;\n",
       "    }\n",
       "\n",
       "    .dataframe thead th {\n",
       "        text-align: right;\n",
       "    }\n",
       "</style>\n",
       "<table border=\"1\" class=\"dataframe\">\n",
       "  <thead>\n",
       "    <tr style=\"text-align: right;\">\n",
       "      <th></th>\n",
       "      <th>date</th>\n",
       "      <th>text</th>\n",
       "    </tr>\n",
       "  </thead>\n",
       "  <tbody>\n",
       "    <tr>\n",
       "      <th>0</th>\n",
       "      <td>2021-12-24T01:14:33+00:00</td>\n",
       "      <td>South Korea pardons ex-president Park Geun-hye</td>\n",
       "    </tr>\n",
       "    <tr>\n",
       "      <th>1</th>\n",
       "      <td>2022-03-08T16:28:08+00:00</td>\n",
       "      <td>UK to phase out Russian oil imports by end of ...</td>\n",
       "    </tr>\n",
       "    <tr>\n",
       "      <th>2</th>\n",
       "      <td>2022-03-03T02:27:13+00:00</td>\n",
       "      <td>One million refugees have now fled Ukraine to ...</td>\n",
       "    </tr>\n",
       "    <tr>\n",
       "      <th>3</th>\n",
       "      <td>2022-03-03T19:10:42+00:00</td>\n",
       "      <td>UK announces sanctions on Russian oligarchs Al...</td>\n",
       "    </tr>\n",
       "    <tr>\n",
       "      <th>4</th>\n",
       "      <td>2022-02-25T16:43:14+00:00</td>\n",
       "      <td>Russia kicked out of 2022 Eurovision Song Cont...</td>\n",
       "    </tr>\n",
       "    <tr>\n",
       "      <th>...</th>\n",
       "      <td>...</td>\n",
       "      <td>...</td>\n",
       "    </tr>\n",
       "    <tr>\n",
       "      <th>524</th>\n",
       "      <td>2022-05-16T16:41:19+00:00</td>\n",
       "      <td>Blackpool footballer Jake Daniels becomes firs...</td>\n",
       "    </tr>\n",
       "    <tr>\n",
       "      <th>525</th>\n",
       "      <td>2022-05-17T17:13:11+00:00</td>\n",
       "      <td>UK MP arrested on suspicion of sexual offences...</td>\n",
       "    </tr>\n",
       "    <tr>\n",
       "      <th>526</th>\n",
       "      <td>2022-05-16T21:34:56+00:00</td>\n",
       "      <td>Hundreds of Ukrainian fighters holed up in Azo...</td>\n",
       "    </tr>\n",
       "    <tr>\n",
       "      <th>527</th>\n",
       "      <td>2022-05-19T10:01:19+00:00</td>\n",
       "      <td>London's Metropolitan Police ends investigatio...</td>\n",
       "    </tr>\n",
       "    <tr>\n",
       "      <th>528</th>\n",
       "      <td>2022-05-18T12:07:21+00:00</td>\n",
       "      <td>Russian soldier accused of killing unarmed Ukr...</td>\n",
       "    </tr>\n",
       "  </tbody>\n",
       "</table>\n",
       "<p>529 rows × 2 columns</p>\n",
       "</div>"
      ],
      "text/plain": [
       "                          date  \\\n",
       "0    2021-12-24T01:14:33+00:00   \n",
       "1    2022-03-08T16:28:08+00:00   \n",
       "2    2022-03-03T02:27:13+00:00   \n",
       "3    2022-03-03T19:10:42+00:00   \n",
       "4    2022-02-25T16:43:14+00:00   \n",
       "..                         ...   \n",
       "524  2022-05-16T16:41:19+00:00   \n",
       "525  2022-05-17T17:13:11+00:00   \n",
       "526  2022-05-16T21:34:56+00:00   \n",
       "527  2022-05-19T10:01:19+00:00   \n",
       "528  2022-05-18T12:07:21+00:00   \n",
       "\n",
       "                                                  text  \n",
       "0       South Korea pardons ex-president Park Geun-hye  \n",
       "1    UK to phase out Russian oil imports by end of ...  \n",
       "2    One million refugees have now fled Ukraine to ...  \n",
       "3    UK announces sanctions on Russian oligarchs Al...  \n",
       "4    Russia kicked out of 2022 Eurovision Song Cont...  \n",
       "..                                                 ...  \n",
       "524  Blackpool footballer Jake Daniels becomes firs...  \n",
       "525  UK MP arrested on suspicion of sexual offences...  \n",
       "526  Hundreds of Ukrainian fighters holed up in Azo...  \n",
       "527  London's Metropolitan Police ends investigatio...  \n",
       "528  Russian soldier accused of killing unarmed Ukr...  \n",
       "\n",
       "[529 rows x 2 columns]"
      ]
     },
     "execution_count": 8,
     "metadata": {},
     "output_type": "execute_result"
    }
   ],
   "source": [
    "tweets_df = pd.read_csv('./data/source/tweets-bbcbreaking.csv')\n",
    "cleaned_tweets = prepare_tweets_from(tweets_df)\n",
    "cleaned_tweets"
   ]
  },
  {
   "cell_type": "code",
   "execution_count": 9,
   "id": "809dda02",
   "metadata": {},
   "outputs": [
    {
     "data": {
      "text/plain": [
       "'South Korea pardons ex-president Park Geun-hye'"
      ]
     },
     "metadata": {},
     "output_type": "display_data"
    },
    {
     "data": {
      "text/plain": [
       "'UK to phase out Russian oil imports by end of this year, minister says, as part of its response to invasion of Ukraine'"
      ]
     },
     "metadata": {},
     "output_type": "display_data"
    },
    {
     "data": {
      "text/plain": [
       "'One million refugees have now fled Ukraine to neighbouring countries, the UN says, as Russian invasion continues'"
      ]
     },
     "metadata": {},
     "output_type": "display_data"
    },
    {
     "data": {
      "text/plain": [
       "\"UK announces sanctions on Russian oligarchs Alisher Usmanov and Igor Shuvalov following Russia's invasion of Ukraine\""
      ]
     },
     "metadata": {},
     "output_type": "display_data"
    },
    {
     "data": {
      "text/plain": [
       "'Russia kicked out of 2022 Eurovision Song Contest by the European Broadcasting Union following Ukraine invasion'"
      ]
     },
     "metadata": {},
     "output_type": "display_data"
    },
    {
     "data": {
      "text/plain": [
       "'Woman in her 30s dies in London after tree falls on car, as Storm Eunice lashes UK'"
      ]
     },
     "metadata": {},
     "output_type": "display_data"
    },
    {
     "data": {
      "text/plain": [
       "'Russia says some of its troops are being pulled out from Ukraine border'"
      ]
     },
     "metadata": {},
     "output_type": "display_data"
    },
    {
     "data": {
      "text/plain": [
       "'UK economy grew by 7.5 Percent last year despite Omicron causing slowdown'"
      ]
     },
     "metadata": {},
     "output_type": "display_data"
    },
    {
     "data": {
      "text/plain": [
       "'Indian singing icon Lata Mangeshkar, the “Nightingale of Bollywood”, dies at 92'"
      ]
     },
     "metadata": {},
     "output_type": "display_data"
    },
    {
     "data": {
      "text/plain": [
       "'Nine-year-old boy dies and a man is in hospital after tree falls on them in Staffordshire during Storm Malik'"
      ]
     },
     "metadata": {},
     "output_type": "display_data"
    },
    {
     "data": {
      "text/plain": [
       "'Covid tests for fully vaccinated travellers arriving in England to be scrapped from 4am on 11 February, the UK government confirms'"
      ]
     },
     "metadata": {},
     "output_type": "display_data"
    },
    {
     "data": {
      "text/plain": [
       "'Obituary: Meat Loaf, the singer whose bombastic rock operas catapulted him to the status of musical icon'"
      ]
     },
     "metadata": {},
     "output_type": "display_data"
    },
    {
     "data": {
      "text/plain": [
       "'UK cost of living rises by 5.4 Percent in the 12 months to December, its fastest pace for 30 years'"
      ]
     },
     "metadata": {},
     "output_type": "display_data"
    },
    {
     "data": {
      "text/plain": [
       "'Tsunami hits Tonga after giant underwater volcano eruption sends shockwaves across South Pacific'"
      ]
     },
     "metadata": {},
     "output_type": "display_data"
    },
    {
     "data": {
      "text/plain": [
       "'Novak Djokovic’s appeal over his deportation from Australia adjourned until Monday'"
      ]
     },
     "metadata": {},
     "output_type": "display_data"
    },
    {
     "data": {
      "text/plain": [
       "'Travellers to England will not need pre-departure Covid test and will only need a lateral flow test within two days of arriving, PM Boris Johnson says'"
      ]
     },
     "metadata": {},
     "output_type": "display_data"
    },
    {
     "data": {
      "text/plain": [
       "\"North Korea launches 'unidentified projectile' into sea\""
      ]
     },
     "metadata": {},
     "output_type": "display_data"
    },
    {
     "data": {
      "text/plain": [
       "'Chris Whitty, Jonathan Van-Tam and Tony Blair are knighted, Joanna Lumley is made a dame, and Spice Girl Mel B gets an'"
      ]
     },
     "metadata": {},
     "output_type": "display_data"
    },
    {
     "data": {
      "text/plain": [
       "'UK Chancellor Rishi Sunak announces £1bn fund for hospitality firms hit by Covid'"
      ]
     },
     "metadata": {},
     "output_type": "display_data"
    },
    {
     "data": {
      "text/plain": [
       "'UK Prime Minister\\xa0Boris Johnson\\xa0“reserves possibility” of further Covid measures in England, but says there are “still some things we need to be clearer about”'"
      ]
     },
     "metadata": {},
     "output_type": "display_data"
    },
    {
     "data": {
      "text/plain": [
       "'Tennis player Emma Raducanu named BBC Sports Personality of the Year 2021'"
      ]
     },
     "metadata": {},
     "output_type": "display_data"
    },
    {
     "data": {
      "text/plain": [
       "'UK government says all 11 countries will be removed from its travel red list from 4am on Wednesday'"
      ]
     },
     "metadata": {},
     "output_type": "display_data"
    },
    {
     "data": {
      "text/plain": [
       "'Travellers heading to UK will now have to have Covid test before their departure in effort to limit spread of virus, government says'"
      ]
     },
     "metadata": {},
     "output_type": "display_data"
    },
    {
     "data": {
      "text/plain": [
       "'Giant ash cloud sends people sprinting for cover after volcano erupts in Indonesia'"
      ]
     },
     "metadata": {},
     "output_type": "display_data"
    },
    {
     "data": {
      "text/plain": [
       "\"Women's Tennis Association announces immediate suspension of all tournaments in China over concern for Chinese tennis player Peng Shuai\""
      ]
     },
     "metadata": {},
     "output_type": "display_data"
    },
    {
     "data": {
      "text/plain": [
       "'Six cases of Omicron coronavirus variant identified in Scotland'"
      ]
     },
     "metadata": {},
     "output_type": "display_data"
    },
    {
     "data": {
      "text/plain": [
       "'Anyone entering UK must take a PCR test, face mask rules are to be tightened and booster jabs policy overhauled, Prime Minister Boris Johnson announces'"
      ]
     },
     "metadata": {},
     "output_type": "display_data"
    },
    {
     "data": {
      "text/plain": [
       "'All over-40s should be offered Covid vaccine booster jabs, UK government vaccine advisors say'"
      ]
     },
     "metadata": {},
     "output_type": "display_data"
    },
    {
     "data": {
      "text/plain": [
       "'Prince Charles lays a wreath on behalf of the Queen at the Cenotaph in London as part of Remembrance Sunday commemorations'"
      ]
     },
     "metadata": {},
     "output_type": "display_data"
    },
    {
     "data": {
      "text/plain": [
       "'The Queen will not attend the Remembrance Sunday service at the Cenotaph in London because she has sprained her back'"
      ]
     },
     "metadata": {},
     "output_type": "display_data"
    },
    {
     "data": {
      "text/plain": [
       "'Britney Spears released from conservatorship that controlled parts of her life after 13 years'"
      ]
     },
     "metadata": {},
     "output_type": "display_data"
    },
    {
     "data": {
      "text/plain": [
       "'World on course to heat by 2.4C despite pledges made at COP26 climate summit, analysis suggests'"
      ]
     },
     "metadata": {},
     "output_type": "display_data"
    },
    {
     "data": {
      "text/plain": [
       "'Frontline NHS staff in England will have to be fully vaccinated against Covid, the BBC has been told, with workers given until spring to have both jabs'"
      ]
     },
     "metadata": {},
     "output_type": "display_data"
    },
    {
     "data": {
      "text/plain": [
       "\"Conservative Owen Paterson's suspension put on hold as UK MPs vote to review the way their behaviour is policed\""
      ]
     },
     "metadata": {},
     "output_type": "display_data"
    },
    {
     "data": {
      "text/plain": [
       "'Indian Prime Minister Narendra Modi pledges his country will target net zero carbon emissions by 2070, two decades later than COP26 climate conference target'"
      ]
     },
     "metadata": {},
     "output_type": "display_data"
    },
    {
     "data": {
      "text/plain": [
       "'The Queen advised by doctors to rest for two further weeks and will not undertake official visits during this time, Buckingham Palace says'"
      ]
     },
     "metadata": {},
     "output_type": "display_data"
    },
    {
     "data": {
      "text/plain": [
       "'UK economy to return to pre-Covid levels by end of 2021, Chancellor Rishi Sunak announces in Budget speech'"
      ]
     },
     "metadata": {},
     "output_type": "display_data"
    },
    {
     "data": {
      "text/plain": [
       "\"The Queen will not go to next week's COP26 climate change summit in Glasgow\\xa0to meet world leaders, after being advised to rest, Buckingham Palace says\""
      ]
     },
     "metadata": {},
     "output_type": "display_data"
    },
    {
     "data": {
      "text/plain": [
       "'Former Rangers, Everton and Scotland manager Walter Smith dies at age 73'"
      ]
     },
     "metadata": {},
     "output_type": "display_data"
    },
    {
     "data": {
      "text/plain": [
       "\"UK National Living Wage set to be raised to £9.50 an hour, from £8.91 an hour, in Wednesday's budget\""
      ]
     },
     "metadata": {},
     "output_type": "display_data"
    },
    {
     "data": {
      "text/plain": [
       "'US announces it will reopen its borders to fully vaccinated travellers from 8 November'"
      ]
     },
     "metadata": {},
     "output_type": "display_data"
    },
    {
     "data": {
      "text/plain": [
       "'Dubai ruler Sheikh Mohammed Al-Maktoum ordered the hacking of mobile phones during his divorce custody case with Princess Haya, UK court says'"
      ]
     },
     "metadata": {},
     "output_type": "display_data"
    },
    {
     "data": {
      "text/plain": [
       "'After years of controversy, Japan’s Princess Mako will marry her former classmate, a commoner, this month and give up her royal status'"
      ]
     },
     "metadata": {},
     "output_type": "display_data"
    },
    {
     "data": {
      "text/plain": [
       "'5,000 overseas lorry drivers and 5,500 poultry workers will be eligible for three-month UK visas until Christmas Eve'"
      ]
     },
     "metadata": {},
     "output_type": "display_data"
    },
    {
     "data": {
      "text/plain": [
       "'Two Canadians detained in China since 2018 are flying home, Trudeau says, after a US deal freed a Huawei executive'"
      ]
     },
     "metadata": {},
     "output_type": "display_data"
    },
    {
     "data": {
      "text/plain": [
       "'North Korea fires two ballistic missiles, South Korea says'"
      ]
     },
     "metadata": {},
     "output_type": "display_data"
    },
    {
     "data": {
      "text/plain": [
       "'Taliban announce government for Afghanistan, led by one of their founders, with an FBI-wanted militant as interior\\r\\nminister'"
      ]
     },
     "metadata": {},
     "output_type": "display_data"
    },
    {
     "data": {
      "text/plain": [
       "'Russian state-backed news channel RT\\'s licence to broadcast in UK revoked \"with immediate effect\", regulator Ofcom says'"
      ]
     },
     "metadata": {},
     "output_type": "display_data"
    },
    {
     "data": {
      "text/plain": [
       "'Legendary Australian leg-spinner Shane Warne, one of the greatest cricketers of all time, dies of suspected heart attack aged 52'"
      ]
     },
     "metadata": {},
     "output_type": "display_data"
    },
    {
     "data": {
      "text/plain": [
       "'Vladimir Putin insists Ukraine invasion \"going to plan\" as humanitarian crisis grows in cities under Russian bombardment'"
      ]
     },
     "metadata": {},
     "output_type": "display_data"
    },
    {
     "data": {
      "text/plain": [
       "'Russia bombs theatre in Ukrainian city of Mariupol where hundreds of civilians were sheltering, deputy mayor says'"
      ]
     },
     "metadata": {},
     "output_type": "display_data"
    },
    {
     "data": {
      "text/plain": [
       "\"London's Metropolitan Police breached the rights of organisers of planned vigil for Sarah Everard, judges rule\""
      ]
     },
     "metadata": {},
     "output_type": "display_data"
    },
    {
     "data": {
      "text/plain": [
       "'Will Smith was asked to leave Oscars ceremony after hitting Chris Rock but refused, Academy says'"
      ]
     },
     "metadata": {},
     "output_type": "display_data"
    },
    {
     "data": {
      "text/plain": [
       "'\"Nothing very promising\" in peace talks with Ukraine so far, Russian President Putin\\'s spokesman says\\r\\n\\r\\nFollow live updates here'"
      ]
     },
     "metadata": {},
     "output_type": "display_data"
    },
    {
     "data": {
      "text/plain": [
       "'“My behaviour was unacceptable and inexcusable” - Will Smith apologises after slapping Chris Rock at the Oscars'"
      ]
     },
     "metadata": {},
     "output_type": "display_data"
    },
    {
     "data": {
      "text/plain": [
       "'The Oscars film academy \"condemns\" Will Smith\\'s slapping of Chris Rock and says it has launched formal review of incident'"
      ]
     },
     "metadata": {},
     "output_type": "display_data"
    },
    {
     "data": {
      "text/plain": [
       "'Russian billionaire Roman Abramovich suffered symptoms of suspected poisoning at peace talks in Kyiv earlier this month, spokesperson says'"
      ]
     },
     "metadata": {},
     "output_type": "display_data"
    },
    {
     "data": {
      "text/plain": [
       "'More than 200 babies in England might have survived if they had been given better maternity care by NHS Trust, BBC learns'"
      ]
     },
     "metadata": {},
     "output_type": "display_data"
    },
    {
     "data": {
      "text/plain": [
       "'Russia says it will \"drastically reduce\" assault on Ukraine\\'s capital Kyiv, where its advance is stalled'"
      ]
     },
     "metadata": {},
     "output_type": "display_data"
    },
    {
     "data": {
      "text/plain": [
       "'Police recommend 20 fines should initially be issued over Downing Street parties that breached Covid lockdown rules'"
      ]
     },
     "metadata": {},
     "output_type": "display_data"
    },
    {
     "data": {
      "text/plain": [
       "'EU signs US gas deal to curb reliance on Russian energy'"
      ]
     },
     "metadata": {},
     "output_type": "display_data"
    },
    {
     "data": {
      "text/plain": [
       "'Drummer with US rock group Foo Fighters, Taylor Hawkins, dies aged 50, band announces'"
      ]
     },
     "metadata": {},
     "output_type": "display_data"
    },
    {
     "data": {
      "text/plain": [
       "'The Wanted star Tom Parker dies aged 33 after being diagnosed with terminal brain cancer'"
      ]
     },
     "metadata": {},
     "output_type": "display_data"
    },
    {
     "data": {
      "text/plain": [
       "'\"The list of those I have hurt is long\": Actor Will Smith resigns from Oscars Academy after slapping Chris Rock'"
      ]
     },
     "metadata": {},
     "output_type": "display_data"
    },
    {
     "data": {
      "text/plain": [
       "'Tory MP David Warburton suspended from the parliamentary party pending investigation into allegations about conduct'"
      ]
     },
     "metadata": {},
     "output_type": "display_data"
    },
    {
     "data": {
      "text/plain": [
       "'\"This is a very tragic situation\": At least six people dead after automatic gunfire in busy nightlife area of Sacramento in California'"
      ]
     },
     "metadata": {},
     "output_type": "display_data"
    },
    {
     "data": {
      "text/plain": [
       "'Shell to shut all petrol stations in Russia and will stop all spot purchases of oil from the country'"
      ]
     },
     "metadata": {},
     "output_type": "display_data"
    },
    {
     "data": {
      "text/plain": [
       "'Second attempt to evacuate people trapped in besieged Ukrainian city of Mariupol failed, as reports say ceasefire broken again'"
      ]
     },
     "metadata": {},
     "output_type": "display_data"
    },
    {
     "data": {
      "text/plain": [
       "'McDonald’s will temporarily close all its restaurants in Russia, saying it “cannot ignore the needless human suffering unfolding in Ukraine”'"
      ]
     },
     "metadata": {},
     "output_type": "display_data"
    },
    {
     "data": {
      "text/plain": [
       "'Two million people have now fled Ukraine into neighbouring countries, UN tells BBC\\r\\n\\r\\n Live updates here'"
      ]
     },
     "metadata": {},
     "output_type": "display_data"
    },
    {
     "data": {
      "text/plain": [
       "\"Russian strikes hit maternity and children's hospital in Ukrainian city of Mariupol, officials say\""
      ]
     },
     "metadata": {},
     "output_type": "display_data"
    },
    {
     "data": {
      "text/plain": [
       "'Man given genetically modified pig heart in world-first surgery dies two months after operation, US hospital says'"
      ]
     },
     "metadata": {},
     "output_type": "display_data"
    },
    {
     "data": {
      "text/plain": [
       "'US bans Russian oil imports as part of international moves against energy sector to punish Moscow for invading Ukraine'"
      ]
     },
     "metadata": {},
     "output_type": "display_data"
    },
    {
     "data": {
      "text/plain": [
       "'Twitter\\'s board agrees to $44bn takeover by Elon Musk, who has promised to \"unlock\" the social media giant\\'s potential'"
      ]
     },
     "metadata": {},
     "output_type": "display_data"
    },
    {
     "data": {
      "text/plain": [
       "\"EU unveils plan to ban all Russian oil imports in major new sanctions package over Moscow's war in Ukraine\\r\\n\\r\\nFollow latest here\""
      ]
     },
     "metadata": {},
     "output_type": "display_data"
    },
    {
     "data": {
      "text/plain": [
       "'Ketanji Brown Jackson to become first black female justice in the 233-year history of US Supreme Court after Senate confirmation'"
      ]
     },
     "metadata": {},
     "output_type": "display_data"
    },
    {
     "data": {
      "text/plain": [
       "'Russia suspended from UN Human Rights Council'"
      ]
     },
     "metadata": {},
     "output_type": "display_data"
    },
    {
     "data": {
      "text/plain": [
       "'MI5 agent alleged to have exploited his status to abuse a partner cannot be named by the BBC, High Court rules'"
      ]
     },
     "metadata": {},
     "output_type": "display_data"
    },
    {
     "data": {
      "text/plain": [
       "'Scientists may have found the first fossil remains of a dinosaur that died on the very day a huge asteroid collided with the Earth'"
      ]
     },
     "metadata": {},
     "output_type": "display_data"
    },
    {
     "data": {
      "text/plain": [
       "'Ed Sheeran wins High Court copyright battle over 2017 hit Shape of You'"
      ]
     },
     "metadata": {},
     "output_type": "display_data"
    },
    {
     "data": {
      "text/plain": [
       "'Tesla boss Elon Musk buys 9.2 Percent stake in Twitter worth almost $3bn'"
      ]
     },
     "metadata": {},
     "output_type": "display_data"
    },
    {
     "data": {
      "text/plain": [
       "\"She held on as Hong Kong's leader through mass protests. Now, Carrie Lam says she won't seek a second term in power\""
      ]
     },
     "metadata": {},
     "output_type": "display_data"
    },
    {
     "data": {
      "text/plain": [
       "'\"It\\'s time to stop burning our planet and start investing in the abundant renewable energy\"\\r\\n\\r\\nUN Secretary General Antonio Guterres says \"leaders must lead\" but also urges people to \"demand that renewable energy is introduced now at speed and at scale\"'"
      ]
     },
     "metadata": {},
     "output_type": "display_data"
    },
    {
     "data": {
      "text/plain": [
       "'UN says it\\'s \"now or never\" to avoid disastrous climate change - but we can do it if we make drastic changes to how we live'"
      ]
     },
     "metadata": {},
     "output_type": "display_data"
    },
    {
     "data": {
      "text/plain": [
       "'Obituary: Legendary EastEnders actress June Brown'"
      ]
     },
     "metadata": {},
     "output_type": "display_data"
    },
    {
     "data": {
      "text/plain": [
       "'June Brown, who played Dot Cotton on BBC soap EastEnders for more than 30 years, dies aged 95'"
      ]
     },
     "metadata": {},
     "output_type": "display_data"
    },
    {
     "data": {
      "text/plain": [
       "'BBC witnesses more evidence of atrocities against civilians near Kyiv, as Ukraine accuses Russia of genocide'"
      ]
     },
     "metadata": {},
     "output_type": "display_data"
    },
    {
     "data": {
      "text/plain": [
       "'Russian warship Moskva has sunk, state media says, a day after it was reported damaged by fire or a Ukrainian missile strike'"
      ]
     },
     "metadata": {},
     "output_type": "display_data"
    },
    {
     "data": {
      "text/plain": [
       "\"Blood money being paid for Russian oil, Ukraine's President Zelensky tells BBC\""
      ]
     },
     "metadata": {},
     "output_type": "display_data"
    },
    {
     "data": {
      "text/plain": [
       "'Some UK asylum seekers to be sent 4,000 miles away to Rwanda and military to take control of patrolling Channel, PM Boris Johnson announces'"
      ]
     },
     "metadata": {},
     "output_type": "display_data"
    },
    {
     "data": {
      "text/plain": [
       "'Police arrest man suspected of shooting 10 commuters in rush hour attack at New York City subway station'"
      ]
     },
     "metadata": {},
     "output_type": "display_data"
    },
    {
     "data": {
      "text/plain": [
       "'IS fanatic Ali Harbi Ali given whole-life jail sentence for murdering UK MP Sir David Amess'"
      ]
     },
     "metadata": {},
     "output_type": "display_data"
    },
    {
     "data": {
      "text/plain": [
       "'UK Prime Minister Boris Johnson and Chancellor Rishi Sunak will be fined over Downing Street lockdown parties'"
      ]
     },
     "metadata": {},
     "output_type": "display_data"
    },
    {
     "data": {
      "text/plain": [
       "'DJ Tim Westwood steps down from Capital Xtra show following sexual misconduct claims'"
      ]
     },
     "metadata": {},
     "output_type": "display_data"
    },
    {
     "data": {
      "text/plain": [
       "'Emmanuel Macron set for clear victory in France’s presidential election, beating far right candidate Marine Le Pen, projections show'"
      ]
     },
     "metadata": {},
     "output_type": "display_data"
    },
    {
     "data": {
      "text/plain": [
       "'Government policies of discharging patients from hospital to care homes in England at start of pandemic were \"unlawful\", High Court judges rule'"
      ]
     },
     "metadata": {},
     "output_type": "display_data"
    },
    {
     "data": {
      "text/plain": [
       "\"Neil Parish says he's resigning as an MP after admitting he watched pornography twice in the House of Commons\""
      ]
     },
     "metadata": {},
     "output_type": "display_data"
    },
    {
     "data": {
      "text/plain": [
       "'Conservative MP Neil Parish, who is being investigated for allegedly watching pornography in the House of Commons, expected to resign - BBC told'"
      ]
     },
     "metadata": {},
     "output_type": "display_data"
    },
    {
     "data": {
      "text/plain": [
       "'British-born Islamic State militant Alexanda Kotey sentenced to life over murders of American hostages in Syria'"
      ]
     },
     "metadata": {},
     "output_type": "display_data"
    },
    {
     "data": {
      "text/plain": [
       "'Former Wimbledon champion Boris Becker jailed for two and half years for hiding assets to avoid paying debts'"
      ]
     },
     "metadata": {},
     "output_type": "display_data"
    },
    {
     "data": {
      "text/plain": [
       "'Conservative MP Neil Parish investigated for allegedly watching pornography in the House of Commons'"
      ]
     },
     "metadata": {},
     "output_type": "display_data"
    },
    {
     "data": {
      "text/plain": [
       "'US President Biden proposes record $33bn aid package to help Ukraine, hours after Russia warns West against sending more weapons'"
      ]
     },
     "metadata": {},
     "output_type": "display_data"
    },
    {
     "data": {
      "text/plain": [
       "'Man charged with murders of four family members stabbed to death in south-east London'"
      ]
     },
     "metadata": {},
     "output_type": "display_data"
    },
    {
     "data": {
      "text/plain": [
       "'Evacuation of civilians trapped in a steel plant in the Ukrainian city of Mariupol is underway, UN says\\r\\n\\r\\nFollow the latest'"
      ]
     },
     "metadata": {},
     "output_type": "display_data"
    },
    {
     "data": {
      "text/plain": [
       "'British national killed in Ukraine and second is missing, Foreign Office says'"
      ]
     },
     "metadata": {},
     "output_type": "display_data"
    },
    {
     "data": {
      "text/plain": [
       "'Ex-Radio 1 DJ Tim Westwood accused of sexual misconduct by multiple women, in joint investigation by BBC and Guardian'"
      ]
     },
     "metadata": {},
     "output_type": "display_data"
    },
    {
     "data": {
      "text/plain": [
       "'Will Smith banned from Oscars gala and other Academy events for 10 years after slapping comic Chris Rock at the Oscars'"
      ]
     },
     "metadata": {},
     "output_type": "display_data"
    },
    {
     "data": {
      "text/plain": [
       "\"UK Chancellor Rishi Sunak's wife Akshata Murty announces she will pay UK taxes on her overseas income, following a row over her non-dom status\""
      ]
     },
     "metadata": {},
     "output_type": "display_data"
    },
    {
     "data": {
      "text/plain": [
       "\"Russian President Vladimir Putin's daughters targeted by new UK sanctions\""
      ]
     },
     "metadata": {},
     "output_type": "display_data"
    },
    {
     "data": {
      "text/plain": [
       "'Man jailed for life with minimum term of 36 years for murder of London primary school teacher Sabina Nessa'"
      ]
     },
     "metadata": {},
     "output_type": "display_data"
    },
    {
     "data": {
      "text/plain": [
       "'Dozens feared dead and more than 100 wounded after missile strike on railway station used to evacuate civilians in Ukraine'"
      ]
     },
     "metadata": {},
     "output_type": "display_data"
    },
    {
     "data": {
      "text/plain": [
       "\"UK Prime Minister Boris Johnson is in Kyiv for talks with Ukraine's President Zelensky\""
      ]
     },
     "metadata": {},
     "output_type": "display_data"
    },
    {
     "data": {
      "text/plain": [
       "'New York police name Frank James, 62, as person of interest in subway shooting that injured more than 20'"
      ]
     },
     "metadata": {},
     "output_type": "display_data"
    },
    {
     "data": {
      "text/plain": [
       "'Multiple people injured in subway shooting in Brooklyn, New York'"
      ]
     },
     "metadata": {},
     "output_type": "display_data"
    },
    {
     "data": {
      "text/plain": [
       "'UK police issue at least 30 more Downing Street lockdown fines'"
      ]
     },
     "metadata": {},
     "output_type": "display_data"
    },
    {
     "data": {
      "text/plain": [
       "'UK MP Imran Ahmad Khan guilty of sexually assaulting 15-year-old boy at party in 2008'"
      ]
     },
     "metadata": {},
     "output_type": "display_data"
    },
    {
     "data": {
      "text/plain": [
       "'Man found guilty of murdering UK MP Sir David Amess, who was stabbed more than 20 times during constituency surgery'"
      ]
     },
     "metadata": {},
     "output_type": "display_data"
    },
    {
     "data": {
      "text/plain": [
       "'Russia bans UK Prime Minister Boris Johnson and other senior ministers from entering Russia over the UK\\'s \"hostile\" stance on the war in Ukraine'"
      ]
     },
     "metadata": {},
     "output_type": "display_data"
    },
    {
     "data": {
      "text/plain": [
       "'Report into fatal shooting by actor Alec Baldwin finds production company showed \"plain indifference\" to employee safety'"
      ]
     },
     "metadata": {},
     "output_type": "display_data"
    },
    {
     "data": {
      "text/plain": [
       "\"Police say they have spoken to First Minister Nicola Sturgeon after she was filmed apparently breaching Scotland's face mask rules and no further action necessary\""
      ]
     },
     "metadata": {},
     "output_type": "display_data"
    },
    {
     "data": {
      "text/plain": [
       "'Seven people killed in missile strikes in western Ukrainian city of Lviv, officials say, in a marked escalation in attacks'"
      ]
     },
     "metadata": {},
     "output_type": "display_data"
    },
    {
     "data": {
      "text/plain": [
       "'Mother, stepdad and teenage boy guilty of murdering five-year-old Logan Mwangi'"
      ]
     },
     "metadata": {},
     "output_type": "display_data"
    },
    {
     "data": {
      "text/plain": [
       "'James Watson found guilty of murdering six-year-old Rikki Neave 28 years ago'"
      ]
     },
     "metadata": {},
     "output_type": "display_data"
    },
    {
     "data": {
      "text/plain": [
       "'Russian President Vladimir Putin abandons plan to storm last Mariupol hold-out'"
      ]
     },
     "metadata": {},
     "output_type": "display_data"
    },
    {
     "data": {
      "text/plain": [
       "'A woman who has given more than £2m to the Conservative Party was listed as a director of a company secretly owned by a sanctioned Russian oligarch, documents seen by the BBC indicate'"
      ]
     },
     "metadata": {},
     "output_type": "display_data"
    },
    {
     "data": {
      "text/plain": [
       "'UK MPs approve inquiry into whether Prime Minister Boris Johnson misled Parliament over parties held during Covid lockdown'"
      ]
     },
     "metadata": {},
     "output_type": "display_data"
    },
    {
     "data": {
      "text/plain": [
       "'Intense fighting north west of Kyiv as reports suggest bulk of Russian forces just 25km from the Ukrainian capital\\r\\n\\r\\nFollow live updates'"
      ]
     },
     "metadata": {},
     "output_type": "display_data"
    },
    {
     "data": {
      "text/plain": [
       "'Three people, including one child, killed in maternity hospital bombing in Mariupol, says Ukraine official'"
      ]
     },
     "metadata": {},
     "output_type": "display_data"
    },
    {
     "data": {
      "text/plain": [
       "'At least 35 people killed and 134 injured in Russian missile attack on military training base in western Ukraine, Lviv regional governor says\\r\\n\\r\\nFollow live updates'"
      ]
     },
     "metadata": {},
     "output_type": "display_data"
    },
    {
     "data": {
      "text/plain": [
       "'A China Eastern Airlines Boeing 737 plane carrying 133 people on board crashed in Guangxi province, Chinese state media is reporting'"
      ]
     },
     "metadata": {},
     "output_type": "display_data"
    },
    {
     "data": {
      "text/plain": [
       "'Russian billionaire and ex-Arsenal shareholder Alisher Usmanov says he ditched UK mansions before sanctions came into force'"
      ]
     },
     "metadata": {},
     "output_type": "display_data"
    },
    {
     "data": {
      "text/plain": [
       "'London Metropolitan Police\\'s approach to tackling corruption within its ranks is \"fundamentally flawed\", watchdog finds'"
      ]
     },
     "metadata": {},
     "output_type": "display_data"
    },
    {
     "data": {
      "text/plain": [
       "'North Korea tests banned intercontinental missile for first time since 2017, according to South Korea'"
      ]
     },
     "metadata": {},
     "output_type": "display_data"
    },
    {
     "data": {
      "text/plain": [
       "'Madeleine Albright, first woman to become US secretary of state, dies aged 84'"
      ]
     },
     "metadata": {},
     "output_type": "display_data"
    },
    {
     "data": {
      "text/plain": [
       "'Gas incident closes London Aquatics Centre'"
      ]
     },
     "metadata": {},
     "output_type": "display_data"
    },
    {
     "data": {
      "text/plain": [
       "'UK prices rose by 6.2 Percent in the 12 months to February - the fastest for 30 years - as fuel, energy and food costs surged'"
      ]
     },
     "metadata": {},
     "output_type": "display_data"
    },
    {
     "data": {
      "text/plain": [
       "'World number one Ashleigh Barty has announced her retirement from tennis to \"chase other dreams\" – aged just 25'"
      ]
     },
     "metadata": {},
     "output_type": "display_data"
    },
    {
     "data": {
      "text/plain": [
       "'British-Iranian nationals Nazanin Zaghari-Ratcliffe and Anoosheh Ashoori back in UK after years of Iranian detention'"
      ]
     },
     "metadata": {},
     "output_type": "display_data"
    },
    {
     "data": {
      "text/plain": [
       "'US President Joe Biden calls Russia\\'s Vladimir Putin a \"war criminal\", something the Kremlin says is \"unforgivable rhetoric\"'"
      ]
     },
     "metadata": {},
     "output_type": "display_data"
    },
    {
     "data": {
      "text/plain": [
       "'British-Iranian Nazanin Zaghari-Ratcliffe is on her way home to UK after nearly six years in detention in Iran, says MP'"
      ]
     },
     "metadata": {},
     "output_type": "display_data"
    },
    {
     "data": {
      "text/plain": [
       "'Rachael Blackmore makes history and becomes first female jockey to win Cheltenham Gold Cup'"
      ]
     },
     "metadata": {},
     "output_type": "display_data"
    },
    {
     "data": {
      "text/plain": [
       "'Wayne Couzens, the police officer who killed Sarah Everard, charged with four counts of indecent exposure that predate her murder'"
      ]
     },
     "metadata": {},
     "output_type": "display_data"
    },
    {
     "data": {
      "text/plain": [
       "'Chelsea FC owner Roman Abramovich says he is selling the club with \"net proceeds\" to go to charitable foundation to help victims of war in Ukraine'"
      ]
     },
     "metadata": {},
     "output_type": "display_data"
    },
    {
     "data": {
      "text/plain": [
       "'Russian missile strike hits TV tower in Ukrainian capital Kyiv, killing five people, emergency services say'"
      ]
     },
     "metadata": {},
     "output_type": "display_data"
    },
    {
     "data": {
      "text/plain": [
       "'Fifa and Uefa ban all Russian football clubs and national teams from all competitions'"
      ]
     },
     "metadata": {},
     "output_type": "display_data"
    },
    {
     "data": {
      "text/plain": [
       "'BP to offload 19.75 Percent stake in Russian state-owned oil firm Rosneft after Russia\\'s \"act of aggression in Ukraine\"'"
      ]
     },
     "metadata": {},
     "output_type": "display_data"
    },
    {
     "data": {
      "text/plain": [
       "'EU to provide weapons to Ukraine, close its airspace to Russian flights and ban two Russian state media outlets\\r\\n\\r\\nFollow live updates'"
      ]
     },
     "metadata": {},
     "output_type": "display_data"
    },
    {
     "data": {
      "text/plain": [
       "'Ukraine forces battle Russian troops on streets of second-largest city, Kharkiv, officials say. Follow live updates'"
      ]
     },
     "metadata": {},
     "output_type": "display_data"
    },
    {
     "data": {
      "text/plain": [
       "'EU, US and allies agree to cut off a number of Russian banks from main international payment system Swift'"
      ]
     },
     "metadata": {},
     "output_type": "display_data"
    },
    {
     "data": {
      "text/plain": [
       "'Chelsea\\'s Russian owner Roman Abramovich to hand over \"stewardship and care\" of club to its charitable foundation'"
      ]
     },
     "metadata": {},
     "output_type": "display_data"
    },
    {
     "data": {
      "text/plain": [
       "\"Poland refuses to play next month's 2022 World Cup qualifier against Russia over Ukraine invasion\""
      ]
     },
     "metadata": {},
     "output_type": "display_data"
    },
    {
     "data": {
      "text/plain": [
       "'British Airways cancels all short-haul flights from Heathrow Airport until midday amid ongoing technical issues'"
      ]
     },
     "metadata": {},
     "output_type": "display_data"
    },
    {
     "data": {
      "text/plain": [
       "'UK to introduce sanctions against Russian President Vladimir Putin and Foreign Minister Sergey Lavrov following invasion of Ukraine'"
      ]
     },
     "metadata": {},
     "output_type": "display_data"
    },
    {
     "data": {
      "text/plain": [
       "'Man pleads guilty to murdering London primary school teacher Sabina Nessa'"
      ]
     },
     "metadata": {},
     "output_type": "display_data"
    },
    {
     "data": {
      "text/plain": [
       "'President Joe Biden will nominate first black female judge to the Supreme Court, Judge Ketanji Brown Jackson, US media reports'"
      ]
     },
     "metadata": {},
     "output_type": "display_data"
    },
    {
     "data": {
      "text/plain": [
       "'Champions League final moved from Russia to France following invasion of Ukraine'"
      ]
     },
     "metadata": {},
     "output_type": "display_data"
    },
    {
     "data": {
      "text/plain": [
       "'President Volodymyr Zelensky confirms pre-dawn missile strikes, targeting both military and civilian sites in Ukraine'"
      ]
     },
     "metadata": {},
     "output_type": "display_data"
    },
    {
     "data": {
      "text/plain": [
       "\"Russia's President Vladimir Putin announces a 'special military operation' in eastern Ukraine in televised speech\""
      ]
     },
     "metadata": {},
     "output_type": "display_data"
    },
    {
     "data": {
      "text/plain": [
       "\"Russia could start 'major war in Europe' any day now, Ukraine's president warns in late-night speech to nation\""
      ]
     },
     "metadata": {},
     "output_type": "display_data"
    },
    {
     "data": {
      "text/plain": [
       "\"State of emergency to be declared in Ukraine lasting 30 days, country's top security official says\""
      ]
     },
     "metadata": {},
     "output_type": "display_data"
    },
    {
     "data": {
      "text/plain": [
       "\"Scotland's legal Covid restrictions, including the wearing of face coverings, will end on 21 March\""
      ]
     },
     "metadata": {},
     "output_type": "display_data"
    },
    {
     "data": {
      "text/plain": [
       "'UK imposes sanctions on five Russian banks and freezes assets of three wealthy individuals, Prime Minister Boris Johnson announces'"
      ]
     },
     "metadata": {},
     "output_type": "display_data"
    },
    {
     "data": {
      "text/plain": [
       "'Russia to recognise the independence of two breakaway regions of Ukraine controlled by Russian-backed separatists, in a move likely to escalate fears of an invasion'"
      ]
     },
     "metadata": {},
     "output_type": "display_data"
    },
    {
     "data": {
      "text/plain": [
       "'Free mass lateral flow testing will stop on 1 April, Boris Johnson says \\r\\n\\r\\nUK PM also says from 1 April the government will \"no longer recommend use of voluntary Covid status certification\"'"
      ]
     },
     "metadata": {},
     "output_type": "display_data"
    },
    {
     "data": {
      "text/plain": [
       "'\"We will remove all remaining domestic restrictions in law\"\\r\\n\\r\\nUK PM Boris Johnson announces end to the\\xa0legal requirement to self-isolate after positive Covid test'"
      ]
     },
     "metadata": {},
     "output_type": "display_data"
    },
    {
     "data": {
      "text/plain": [
       "'Legal requirement to self-isolate after positive Covid test in England to end on Thursday, UK PM Boris Johnson confirms'"
      ]
     },
     "metadata": {},
     "output_type": "display_data"
    },
    {
     "data": {
      "text/plain": [
       "'Over-75s and the most vulnerable over-12s across UK will be offered another Covid booster jab from spring'"
      ]
     },
     "metadata": {},
     "output_type": "display_data"
    },
    {
     "data": {
      "text/plain": [
       "'Jamal Edwards, founder of the SBTV YouTube channel which helped launch Dave, Ed Sheeran and Jessie J, has died at 31'"
      ]
     },
     "metadata": {},
     "output_type": "display_data"
    },
    {
     "data": {
      "text/plain": [
       "'The Queen has tested positive for Covid and has \"mild cold-like symptoms\" but expects to carry out light duties this week, says Buckingham Palace'"
      ]
     },
     "metadata": {},
     "output_type": "display_data"
    },
    {
     "data": {
      "text/plain": [
       "'One of the passengers missing aboard a ferry that caught fire near Greece on Friday is found alive, authorities say'"
      ]
     },
     "metadata": {},
     "output_type": "display_data"
    },
    {
     "data": {
      "text/plain": [
       "'If Ukraine is invaded by Russia the shock will “echo around the world\", says UK Prime Minister Boris Johnson'"
      ]
     },
     "metadata": {},
     "output_type": "display_data"
    },
    {
     "data": {
      "text/plain": [
       "\"Great Britain stripped of silver medal in men's 4x100m relay at Tokyo Olympics after team member CJ Ujah found to have committed doping violation\""
      ]
     },
     "metadata": {},
     "output_type": "display_data"
    },
    {
     "data": {
      "text/plain": [
       "'New red weather warning issued for Storm Eunice, covering London and the south-east of England - follow live updates'"
      ]
     },
     "metadata": {},
     "output_type": "display_data"
    },
    {
     "data": {
      "text/plain": [
       "'Storm Eunice warning upgraded to red - meaning danger to life from flying debris - for parts of the UK on Friday'"
      ]
     },
     "metadata": {},
     "output_type": "display_data"
    },
    {
     "data": {
      "text/plain": [
       "'On-the-run sex offender Paul Robson caught in Skegness, England, by police four days after absconding from open prison'"
      ]
     },
     "metadata": {},
     "output_type": "display_data"
    },
    {
     "data": {
      "text/plain": [
       "'Man killed in Sydney shark attack named locally as 35-year-old British diving instructor Simon Nellist'"
      ]
     },
     "metadata": {},
     "output_type": "display_data"
    },
    {
     "data": {
      "text/plain": [
       "'Children aged between five and 11 in England to be offered low-dose Covid vaccine, UK government says, after similar move in Scotland and Wales'"
      ]
     },
     "metadata": {},
     "output_type": "display_data"
    },
    {
     "data": {
      "text/plain": [
       "\"Police to investigate claims that Prince Charles' charity offered honours help to Saudi citizen\""
      ]
     },
     "metadata": {},
     "output_type": "display_data"
    },
    {
     "data": {
      "text/plain": [
       "'Prince Andrew and Virginia Giuffre reach out-of-court settlement over civil sex assault claim filed in US'"
      ]
     },
     "metadata": {},
     "output_type": "display_data"
    },
    {
     "data": {
      "text/plain": [
       "'Novak Djokovic says he would rather skip future tournaments than be forced to get a Covid jab, in an exclusive BBC interview'"
      ]
     },
     "metadata": {},
     "output_type": "display_data"
    },
    {
     "data": {
      "text/plain": [
       "'Canadian PM invokes Emergencies Act for first time to crack down on anti-vaccine mandate protests'"
      ]
     },
     "metadata": {},
     "output_type": "display_data"
    },
    {
     "data": {
      "text/plain": [
       "'\"A crucial window for diplomacy\" - Joe Biden and Boris Johnson say during joint call that hope remains for diplomatic solution to Ukraine crisis'"
      ]
     },
     "metadata": {},
     "output_type": "display_data"
    },
    {
     "data": {
      "text/plain": [
       "'Canadian police move in to clear last protesters occupying key bridge crossing to the US'"
      ]
     },
     "metadata": {},
     "output_type": "display_data"
    },
    {
     "data": {
      "text/plain": [
       "'UK PM Boris Johnson has received questionnaire from police as part of inquiry into lockdown parties'"
      ]
     },
     "metadata": {},
     "output_type": "display_data"
    },
    {
     "data": {
      "text/plain": [
       "'British nationals in Ukraine should leave the country now, Foreign Office advises'"
      ]
     },
     "metadata": {},
     "output_type": "display_data"
    },
    {
     "data": {
      "text/plain": [
       "'State of emergency declared in Ontario, Canada over trucker protest, as rule breakers threatened with $100,000 fines and jail time'"
      ]
     },
     "metadata": {},
     "output_type": "display_data"
    },
    {
     "data": {
      "text/plain": [
       "'Home Secretary Priti Patel has released a statement thanking Dame Cressida Dick for \"the nearly four decades that she has devoted to serving the public\"'"
      ]
     },
     "metadata": {},
     "output_type": "display_data"
    },
    {
     "data": {
      "text/plain": [
       "'London mayor Sadiq Khan says he made clear the scale of change needed \"to root out racism, sexism, homophobia, bullying, discrimination and misogyny” in the Met Police\\r\\n\\r\\nHe says he was \"not satisfied\" with Dame Cressida\\'s response'"
      ]
     },
     "metadata": {},
     "output_type": "display_data"
    },
    {
     "data": {
      "text/plain": [
       "'Dame Cressida Dick to step down as head of the Met Police, BBC told'"
      ]
     },
     "metadata": {},
     "output_type": "display_data"
    },
    {
     "data": {
      "text/plain": [
       "'Prince Charles tests positive for Covid-19 and is self-isolating, Clarence House says'"
      ]
     },
     "metadata": {},
     "output_type": "display_data"
    },
    {
     "data": {
      "text/plain": [
       "'Metropolitan Police to review decision not to investigate No 10 quiz after Boris Johnson photo leak'"
      ]
     },
     "metadata": {},
     "output_type": "display_data"
    },
    {
     "data": {
      "text/plain": [
       "'Photo published showing UK Prime Minister Boris Johnson standing next to bottle of sparkling wine at what appears to be Christmas event in Downing Street during Covid restrictions'"
      ]
     },
     "metadata": {},
     "output_type": "display_data"
    },
    {
     "data": {
      "text/plain": [
       "\"Animal charity the RSPCA removes West Ham footballer Kurt Zouma's two pet cats after videos of him kicking and slapping one appear on social media\""
      ]
     },
     "metadata": {},
     "output_type": "display_data"
    },
    {
     "data": {
      "text/plain": [
       "'Law requiring people in England to isolate when they catch Covid could be scrapped a month early, UK Prime Minister Boris Johnson says'"
      ]
     },
     "metadata": {},
     "output_type": "display_data"
    },
    {
     "data": {
      "text/plain": [
       "'Scientists say they have made major breakthrough in quest to develop practical nuclear fusion'"
      ]
     },
     "metadata": {},
     "output_type": "display_data"
    },
    {
     "data": {
      "text/plain": [
       "\"Academy Awards nominations revealed, with Jane Campion's The Power of the Dog recognised in 12 Oscar categories\""
      ]
     },
     "metadata": {},
     "output_type": "display_data"
    },
    {
     "data": {
      "text/plain": [
       "'Jacob Rees-Mogg becomes Brexit opportunities minister as UK Prime Minister Boris Johnson begins cabinet reshuffle'"
      ]
     },
     "metadata": {},
     "output_type": "display_data"
    },
    {
     "data": {
      "text/plain": [
       "'Bamber Gascoigne, the original host of TV quiz show University Challenge, has died, aged 87'"
      ]
     },
     "metadata": {},
     "output_type": "display_data"
    },
    {
     "data": {
      "text/plain": [
       "'The Queen announces she wants Camilla, the Duchess of Cornwall, to be known as Queen when Prince Charles becomes King'"
      ]
     },
     "metadata": {},
     "output_type": "display_data"
    },
    {
     "data": {
      "text/plain": [
       "'A little boy whose painstaking rescue from a well gripped Morocco for days has died, the kingdom announced.'"
      ]
     },
     "metadata": {},
     "output_type": "display_data"
    },
    {
     "data": {
      "text/plain": [
       "'Five-year-old boy, named locally as Rayan, dies after being rescued from well in Morocco after four days'"
      ]
     },
     "metadata": {},
     "output_type": "display_data"
    },
    {
     "data": {
      "text/plain": [
       "'Five-year-old boy taken out of deep well in Morocco after four days trapped inside, but his condition is unknown'"
      ]
     },
     "metadata": {},
     "output_type": "display_data"
    },
    {
     "data": {
      "text/plain": [
       "'Boris Johnson names new No 10 chief of staff and communications head after resignations over Downing Street parties'"
      ]
     },
     "metadata": {},
     "output_type": "display_data"
    },
    {
     "data": {
      "text/plain": [
       "'Second senior aide to UK PM Boris Johnson, communications director Jack Doyle, resigns, sources tell BBC'"
      ]
     },
     "metadata": {},
     "output_type": "display_data"
    },
    {
     "data": {
      "text/plain": [
       "\"The DUP's Paul Givan resigns, with the deputy first minister also ejected from office\""
      ]
     },
     "metadata": {},
     "output_type": "display_data"
    },
    {
     "data": {
      "text/plain": [
       "'UK PM Boris Johnson\\'s policy chief Munira Mirza quits, condemning his \"inappropriate\" attack on Keir Starmer over Jimmy Savile'"
      ]
     },
     "metadata": {},
     "output_type": "display_data"
    },
    {
     "data": {
      "text/plain": [
       "'Islamic State terror group leader \"taken off the battlefield\" during US raid in Syria, US President Biden says'"
      ]
     },
     "metadata": {},
     "output_type": "display_data"
    },
    {
     "data": {
      "text/plain": [
       "'Energy bills to rise for millions of people in Britain from April, with average households facing annual increase of £693'"
      ]
     },
     "metadata": {},
     "output_type": "display_data"
    },
    {
     "data": {
      "text/plain": [
       "'US deploying 3,000 troops to eastern Europe amid tensions over a Russian military build-up near Ukraine'"
      ]
     },
     "metadata": {},
     "output_type": "display_data"
    },
    {
     "data": {
      "text/plain": [
       "'Manchester United footballer Mason Greenwood further arrested on suspicion of sexual assault and making threats to kill'"
      ]
     },
     "metadata": {},
     "output_type": "display_data"
    },
    {
     "data": {
      "text/plain": [
       "'\"I\\'m sorry for the things we simply didn\\'t get right and also sorry for the way that this matter has been handled\"\\r\\n\\r\\nUK PM Boris Johnson apologises following publication of Sue Gray\\'s findings on No 10 lockdown parties, adding \"I get it and I will fix it\"'"
      ]
     },
     "metadata": {},
     "output_type": "display_data"
    },
    {
     "data": {
      "text/plain": [
       "'No 10 hosted several lockdown parties and events that \"should not have been allowed to take place\" - what are the key points of Sue Gray\\'s Downing Street report?'"
      ]
     },
     "metadata": {},
     "output_type": "display_data"
    },
    {
     "data": {
      "text/plain": [
       "'Sue Gray finds \"failures of leadership and judgement\" in Downing Street over lockdown gatherings - and some behaviour was \"difficult to justify\"'"
      ]
     },
     "metadata": {},
     "output_type": "display_data"
    },
    {
     "data": {
      "text/plain": [
       "'Sue Gray’s initial findings on lockdown parties at Downing Street published by UK government'"
      ]
     },
     "metadata": {},
     "output_type": "display_data"
    },
    {
     "data": {
      "text/plain": [
       "'UK Prime Minister Boris Johnson handed results of Sue Gray report into Downing Street parties, ahead of expected public release today'"
      ]
     },
     "metadata": {},
     "output_type": "display_data"
    },
    {
     "data": {
      "text/plain": [
       "'Boris Johnson and Rishi Sunak confirm National Insurance will rise in April, despite pressure to scrap the increase'"
      ]
     },
     "metadata": {},
     "output_type": "display_data"
    },
    {
     "data": {
      "text/plain": [
       "'Sue Gray expected to deliver her report on No 10 parties to the UK PM without waiting for police inquiry to conclude'"
      ]
     },
     "metadata": {},
     "output_type": "display_data"
    },
    {
     "data": {
      "text/plain": [
       "'London\\'s Met Police investigating No 10 lockdown parties ask Sue Gray inquiry to make \"minimal reference\" to events they are investigating'"
      ]
     },
     "metadata": {},
     "output_type": "display_data"
    },
    {
     "data": {
      "text/plain": [
       "'Obituary: Barry Cryer, beloved personality who became one of the most prolific scriptwriters in British comedy'"
      ]
     },
     "metadata": {},
     "output_type": "display_data"
    },
    {
     "data": {
      "text/plain": [
       "'Comedian and writer Barry Cryer, known for his work on British TV and radio, dies aged 86'"
      ]
     },
     "metadata": {},
     "output_type": "display_data"
    },
    {
     "data": {
      "text/plain": [
       "'Liberal US Supreme Court Justice Stephen Breyer to retire later this year, reports say'"
      ]
     },
     "metadata": {},
     "output_type": "display_data"
    },
    {
     "data": {
      "text/plain": [
       "'“I can confirm that the Met is now investigating a number of events that took place at Downing Street and Whitehall in the last two years”\\r\\n\\r\\nMet Police Commissioner Cressida Dick says force will investigate “potential breaches of Covid-19 regulations”'"
      ]
     },
     "metadata": {},
     "output_type": "display_data"
    },
    {
     "data": {
      "text/plain": [
       "'Lone gunman dead after injuring several people at university in Heidelberg, Germany, police say'"
      ]
     },
     "metadata": {},
     "output_type": "display_data"
    },
    {
     "data": {
      "text/plain": [
       "'UK PM orders inquiry into claims by Conservative MP Nusrat Ghani that her Muslim faith was raised as reason why she was sacked as a minister in 2020'"
      ]
     },
     "metadata": {},
     "output_type": "display_data"
    },
    {
     "data": {
      "text/plain": [
       "'Meat Loaf, singer whose Bat Out Of Hell album is one of the best-selling of all time, dies aged 74'"
      ]
     },
     "metadata": {},
     "output_type": "display_data"
    },
    {
     "data": {
      "text/plain": [
       "'Ex-pope Benedict failed to act over four child abuse cases when he was archbishop of Munich, German probe into Catholic Church finds'"
      ]
     },
     "metadata": {},
     "output_type": "display_data"
    },
    {
     "data": {
      "text/plain": [
       "'Man remanded in custody charged with the murder of teacher Ashling Murphy in the Irish Republic'"
      ]
     },
     "metadata": {},
     "output_type": "display_data"
    },
    {
     "data": {
      "text/plain": [
       "'Working from home advice to end and mandatory face mask rules to be dropped as England Covid restrictions eased'"
      ]
     },
     "metadata": {},
     "output_type": "display_data"
    },
    {
     "data": {
      "text/plain": [
       "\"Conservative MP Christian Wakeford moves to opposition party, Labour, as UK PM Boris Johnson prepares to face MPs in Prime Minister's Questions\""
      ]
     },
     "metadata": {},
     "output_type": "display_data"
    },
    {
     "data": {
      "text/plain": [
       "'Two teenagers arrested in England as part of investigation into hostage-taking at Texas synagogue released without charge, police say'"
      ]
     },
     "metadata": {},
     "output_type": "display_data"
    },
    {
     "data": {
      "text/plain": [
       "'Irish police investigating death of teacher Ashling Murphy arrest a man in his 30s on suspicion of murder'"
      ]
     },
     "metadata": {},
     "output_type": "display_data"
    },
    {
     "data": {
      "text/plain": [
       "\"Scotland's Covid rules to be further eased from Monday, with nightclubs reopening, large indoor events resuming and social distancing rules dropped\""
      ]
     },
     "metadata": {},
     "output_type": "display_data"
    },
    {
     "data": {
      "text/plain": [
       "'UK PM Boris Johnson \"categorically\" denies anyone warned him the No 10 drinks party broke lockdown rules'"
      ]
     },
     "metadata": {},
     "output_type": "display_data"
    },
    {
     "data": {
      "text/plain": [
       "'All houses destroyed on an island devastated by deadly tsunami, Tonga government says in first words since volcano erupted'"
      ]
     },
     "metadata": {},
     "output_type": "display_data"
    },
    {
     "data": {
      "text/plain": [
       "'British man, who took hostages at Texas synagogue, had been investigated by MI5 in 2020 but was no longer considered a threat'"
      ]
     },
     "metadata": {},
     "output_type": "display_data"
    },
    {
     "data": {
      "text/plain": [
       "'FBI names man killed after taking hostages at Texas synagogue as British citizen Malik Faisal Akram'"
      ]
     },
     "metadata": {},
     "output_type": "display_data"
    },
    {
     "data": {
      "text/plain": [
       "\"Judges reject tennis star Novak Djokovic's last-ditch appeal to remain in Australia\""
      ]
     },
     "metadata": {},
     "output_type": "display_data"
    },
    {
     "data": {
      "text/plain": [
       "'Tennis star Novak Djokovic makes last-ditch court appeal to stay in Australia as deportation looms – follow live'"
      ]
     },
     "metadata": {},
     "output_type": "display_data"
    },
    {
     "data": {
      "text/plain": [
       "\"UK's former head of Cabinet Office Covid taskforce Kate Josephs apologises for having leaving drinks during Covid restrictions\""
      ]
     },
     "metadata": {},
     "output_type": "display_data"
    },
    {
     "data": {
      "text/plain": [
       "\"Downing Street apologises to the Queen for two parties held in Downing Street the night before Prince Philip's funeral\""
      ]
     },
     "metadata": {},
     "output_type": "display_data"
    },
    {
     "data": {
      "text/plain": [
       "\"UK Prime Minister Boris Johnson's former director of communications James Slack apologises for “anger and hurt” caused by leaving event at No 10 on night before Prince Philip’s funeral\""
      ]
     },
     "metadata": {},
     "output_type": "display_data"
    },
    {
     "data": {
      "text/plain": [
       "\"Australia cancels Novak Djokovic's visa again and intends to deport him, with a legal challenge now his only hope of defending Grand Slam\""
      ]
     },
     "metadata": {},
     "output_type": "display_data"
    },
    {
     "data": {
      "text/plain": [
       "'Prince Andrew loses military titles and patronages, and will no longer be called HRH'"
      ]
     },
     "metadata": {},
     "output_type": "display_data"
    },
    {
     "data": {
      "text/plain": [
       "'Self-isolation period for people who test positive for Covid is being cut to five full days in England, Health Secretary Sajid Javid says'"
      ]
     },
     "metadata": {},
     "output_type": "display_data"
    },
    {
     "data": {
      "text/plain": [
       "'Syrian man found guilty of crimes against humanity and sentenced to life by German court, in first criminal case brought over state-led torture in Syria'"
      ]
     },
     "metadata": {},
     "output_type": "display_data"
    },
    {
     "data": {
      "text/plain": [
       "\"Sir Jonathan Van-Tam to leave his role as England's deputy chief medical officer\""
      ]
     },
     "metadata": {},
     "output_type": "display_data"
    },
    {
     "data": {
      "text/plain": [
       "'Prince Andrew fails in his bid to get US judge to dismiss civil case which alleges he sexually assaulted Virginia Giuffre'"
      ]
     },
     "metadata": {},
     "output_type": "display_data"
    },
    {
     "data": {
      "text/plain": [
       "'UK Prime Minister Boris Johnson says he \"takes responsibility\" as he apologises for attending party in Downing Street garden, during lockdown in May 2020'"
      ]
     },
     "metadata": {},
     "output_type": "display_data"
    },
    {
     "data": {
      "text/plain": [
       "'Restrictions on large outdoor events in Scotland to be lifted from Monday, allowing football and rugby fans to fully return to matches'"
      ]
     },
     "metadata": {},
     "output_type": "display_data"
    },
    {
     "data": {
      "text/plain": [
       "'Novak Djokovic returns to tennis court after winning legal battle in Australia over visa'"
      ]
     },
     "metadata": {},
     "output_type": "display_data"
    },
    {
     "data": {
      "text/plain": [
       "'The past seven years have been the hottest on record globally, EU satellite system data shows'"
      ]
     },
     "metadata": {},
     "output_type": "display_data"
    },
    {
     "data": {
      "text/plain": [
       "'Tennis star Novak Djokovic wins court battle to stay in Australia and defend his Grand Slam title, after vaccine exemption row'"
      ]
     },
     "metadata": {},
     "output_type": "display_data"
    },
    {
     "data": {
      "text/plain": [
       "'At least 19 people, including nine children, have died in a fire at a New York apartment building, officials say'"
      ]
     },
     "metadata": {},
     "output_type": "display_data"
    },
    {
     "data": {
      "text/plain": [
       "'More than 150,000 people have now died within 28 days of a positive Covid test in the UK since the pandemic began'"
      ]
     },
     "metadata": {},
     "output_type": "display_data"
    },
    {
     "data": {
      "text/plain": [
       "'Life without parole for two white men who murdered black jogger Ahmaud Arbery as US judge condemns “chilling” killing'"
      ]
     },
     "metadata": {},
     "output_type": "display_data"
    },
    {
     "data": {
      "text/plain": [
       "'Fourth Covid jab not yet needed as booster dose continues to provide high protection against severe disease, say UK advisers'"
      ]
     },
     "metadata": {},
     "output_type": "display_data"
    },
    {
     "data": {
      "text/plain": [
       "'Shadow minister, and Labour MP for Birmingham Erdington, Jack Dromey has died aged 73'"
      ]
     },
     "metadata": {},
     "output_type": "display_data"
    },
    {
     "data": {
      "text/plain": [
       "'Remembering Sidney Poitier, the iconic actor and director'"
      ]
     },
     "metadata": {},
     "output_type": "display_data"
    },
    {
     "data": {
      "text/plain": [
       "'Sidney Poitier, the first black man to win a best actor Oscar, has died aged 94'"
      ]
     },
     "metadata": {},
     "output_type": "display_data"
    },
    {
     "data": {
      "text/plain": [
       "'Novak Djokovic thanks his family, Serbia and supporters in first message from detention hotel in Australia where he awaits deportation decision'"
      ]
     },
     "metadata": {},
     "output_type": "display_data"
    },
    {
     "data": {
      "text/plain": [
       "'Soldiers can now fire without warning in Kazakhstan, president says, as anti-government demonstrations continue'"
      ]
     },
     "metadata": {},
     "output_type": "display_data"
    },
    {
     "data": {
      "text/plain": [
       "'Donald Trump \"refused to accept will of the American people\" and “created a web of lies”\\r\\n\\r\\nUS President Joe Biden blames the former president for the riot at the US Capitol one year ago'"
      ]
     },
     "metadata": {},
     "output_type": "display_data"
    },
    {
     "data": {
      "text/plain": [
       "'Australia cancels visa of world tennis No.1 Novak Djokovic and intends to deport him on Thursday, with his lawyers expected to appeal'"
      ]
     },
     "metadata": {},
     "output_type": "display_data"
    },
    {
     "data": {
      "text/plain": [
       "'PCR tests scrapped for people in England who have a positive lateral flow test but no Covid symptoms from 11 January'"
      ]
     },
     "metadata": {},
     "output_type": "display_data"
    },
    {
     "data": {
      "text/plain": [
       "'Sun shield fully deployed on James Webb Space Telescope, a major milestone for the $10bn mission'"
      ]
     },
     "metadata": {},
     "output_type": "display_data"
    },
    {
     "data": {
      "text/plain": [
       "'Ex-Silicon Valley CEO Elizabeth Holmes found guilty of conspiring to defraud investors over blood-testing start-up'"
      ]
     },
     "metadata": {},
     "output_type": "display_data"
    },
    {
     "data": {
      "text/plain": [
       "\"Prince Andrew accuser Virginia Giuffre's 2009 settlement with sex offender Jeffrey Epstein is made public\""
      ]
     },
     "metadata": {},
     "output_type": "display_data"
    },
    {
     "data": {
      "text/plain": [
       "\"US television's Golden Girl Betty White, celebrated for her comic acting over eight decades, dies aged 99\""
      ]
     },
     "metadata": {},
     "output_type": "display_data"
    },
    {
     "data": {
      "text/plain": [
       "'Ghislaine Maxwell is convicted of grooming and trafficking teenage girls for abuse by Jeffrey Epstein'"
      ]
     },
     "metadata": {},
     "output_type": "display_data"
    },
    {
     "data": {
      "text/plain": [
       "'There will be no further Covid restrictions in England before the new year, UK Health Secretary Sajid Javid says, but he urges people to \"remain cautious\"'"
      ]
     },
     "metadata": {},
     "output_type": "display_data"
    },
    {
     "data": {
      "text/plain": [
       "'Archbishop Desmond Tutu, the Nobel Peace prize laureate who helped end apartheid in South Africa, has died aged 90'"
      ]
     },
     "metadata": {},
     "output_type": "display_data"
    },
    {
     "data": {
      "text/plain": [
       "'The biggest space telescope ever built lifts off into orbit, opening a new era in astronomical exploration'"
      ]
     },
     "metadata": {},
     "output_type": "display_data"
    },
    {
     "data": {
      "text/plain": [
       "'Former US police officer Kim Potter found guilty of manslaughter for fatal shooting of black motorist Daunte Wright, after claiming she mistakenly drew her gun instead of Taser'"
      ]
     },
     "metadata": {},
     "output_type": "display_data"
    },
    {
     "data": {
      "text/plain": [
       "'People catching Omicron are 50 Percent to 70 Percent less likely to need hospital care compared with previous Covid variants, UK Health Security Agency analysis says'"
      ]
     },
     "metadata": {},
     "output_type": "display_data"
    },
    {
     "data": {
      "text/plain": [
       "'UK reports more than 100,000 daily Covid cases for the first time since mass-testing began during the pandemic'"
      ]
     },
     "metadata": {},
     "output_type": "display_data"
    },
    {
     "data": {
      "text/plain": [
       "'Covid vaccine should be offered to vulnerable five to 11 year olds in UK, government advisers say'"
      ]
     },
     "metadata": {},
     "output_type": "display_data"
    },
    {
     "data": {
      "text/plain": [
       "'Wales to introduce new Covid restrictions from 26 December including rule of six in hospitality, cinemas and theatres and table service in pubs and restaurants'"
      ]
     },
     "metadata": {},
     "output_type": "display_data"
    },
    {
     "data": {
      "text/plain": [
       "'No further Covid restrictions for England before Christmas, UK PM Boris Johnson says – but he “can’t rule out any further measures after Christmas”'"
      ]
     },
     "metadata": {},
     "output_type": "display_data"
    },
    {
     "data": {
      "text/plain": [
       "\"Edinburgh's Hogmanay street party and other large events in Scotland cancelled as Covid rules tightened\""
      ]
     },
     "metadata": {},
     "output_type": "display_data"
    },
    {
     "data": {
      "text/plain": [
       "\"EastEnders star Rose Ayling-Ellis becomes first deaf contestant to win BBC One's Strictly Come Dancing\""
      ]
     },
     "metadata": {},
     "output_type": "display_data"
    },
    {
     "data": {
      "text/plain": [
       "'UK Brexit minister Lord Frost has reportedly resigned from the government over its \"political direction\"'"
      ]
     },
     "metadata": {},
     "output_type": "display_data"
    },
    {
     "data": {
      "text/plain": [
       "'Netherlands to enter into tight lockdown from Sunday to control spread of Omicron variant'"
      ]
     },
     "metadata": {},
     "output_type": "display_data"
    },
    {
     "data": {
      "text/plain": [
       "\"UK's top civil servant Simon Case will no longer lead inquiry into lockdown parties in Downing Street, after it emerged an event was held in his own office\""
      ]
     },
     "metadata": {},
     "output_type": "display_data"
    },
    {
     "data": {
      "text/plain": [
       "'27-year-old woman arrested on suspicion of child neglect after two sets of young twins killed in south London house fire'"
      ]
     },
     "metadata": {},
     "output_type": "display_data"
    },
    {
     "data": {
      "text/plain": [
       "'Liberal Democrats overcome huge Conservative majority to win North Shropshire by-election'"
      ]
     },
     "metadata": {},
     "output_type": "display_data"
    },
    {
     "data": {
      "text/plain": [
       "'Four children die in house fire in Sutton, London fire commissioner says'"
      ]
     },
     "metadata": {},
     "output_type": "display_data"
    },
    {
     "data": {
      "text/plain": [
       "'Nightclubs will close in Wales after Boxing Day and social distancing will be required in offices to limit Omicron variant, Welsh government announces'"
      ]
     },
     "metadata": {},
     "output_type": "display_data"
    },
    {
     "data": {
      "text/plain": [
       "'Bank of England raises interest rates for first time in more than three years, in response to surging inflation'"
      ]
     },
     "metadata": {},
     "output_type": "display_data"
    },
    {
     "data": {
      "text/plain": [
       "\"Queen cancels pre-Christmas family lunch, with sources suggesting it could have put too many people's Christmas arrangements at risk\""
      ]
     },
     "metadata": {},
     "output_type": "display_data"
    },
    {
     "data": {
      "text/plain": [
       "'Two children have died and others critically injured after falling from a bouncy castle that was blown into the air in Australia'"
      ]
     },
     "metadata": {},
     "output_type": "display_data"
    },
    {
     "data": {
      "text/plain": [
       "'UK reports its highest number of daily coronavirus cases since pandemic began, with 78,610 people testing positive'"
      ]
     },
     "metadata": {},
     "output_type": "display_data"
    },
    {
     "data": {
      "text/plain": [
       "'Woman jailed for minimum of 25 years for murdering partner\\'s 16-month-old daughter Star Hobson after causing \"catastrophic\" injuries'"
      ]
     },
     "metadata": {},
     "output_type": "display_data"
    },
    {
     "data": {
      "text/plain": [
       "'Double murderer David Fuller who sexually abused more than 100 female corpses in two morgues in Kent told he will spend the rest of his life in jail'"
      ]
     },
     "metadata": {},
     "output_type": "display_data"
    },
    {
     "data": {
      "text/plain": [
       "'US Covid deaths pass 800,000, more recorded than any other country, amid concerns about the spread of Omicron as winter looms'"
      ]
     },
     "metadata": {},
     "output_type": "display_data"
    },
    {
     "data": {
      "text/plain": [
       "'Covid passes for large venues like nightclubs in England win backing of MPs by 369 votes to 126, despite Conservative rebellion'"
      ]
     },
     "metadata": {},
     "output_type": "display_data"
    },
    {
     "data": {
      "text/plain": [
       "'Belarusian opposition leader Sergei Tikhanovsky, who rallied mass protests against disputed leader Alexander Lukashenko, jailed after a trial condemned as a sham'"
      ]
     },
     "metadata": {},
     "output_type": "display_data"
    },
    {
     "data": {
      "text/plain": [
       "\"Woman found guilty of murdering her partner's 16-month-old toddler, Star Hobson, who died after months of abuse\""
      ]
     },
     "metadata": {},
     "output_type": "display_data"
    },
    {
     "data": {
      "text/plain": [
       "'US citizen Anne Sacoolas will face London court in January charged with causing death of Harry Dunn by dangerous driving, prosecutors say'"
      ]
     },
     "metadata": {},
     "output_type": "display_data"
    },
    {
     "data": {
      "text/plain": [
       "\"Champions League draw declared void by European football's governing body Uefa and will be entirely redone at 14:00 GMT due to technical problem\""
      ]
     },
     "metadata": {},
     "output_type": "display_data"
    },
    {
     "data": {
      "text/plain": [
       "'One person in the UK has died with Omicron variant of coronavirus, Prime Minister Boris Johnson confirms'"
      ]
     },
     "metadata": {},
     "output_type": "display_data"
    },
    {
     "data": {
      "text/plain": [
       "'\"There is a tidal wave of Omicron coming,\" UK PM Boris Johnson warns, as he brings forward Covid booster vaccine target to end of December'"
      ]
     },
     "metadata": {},
     "output_type": "display_data"
    },
    {
     "data": {
      "text/plain": [
       "\"UK's Covid alert level raised to level four due to the spread of Omicron variant, UK's chief medical officers say\""
      ]
     },
     "metadata": {},
     "output_type": "display_data"
    },
    {
     "data": {
      "text/plain": [
       "'More than 70 people killed by tornadoes in US on Friday night, governor of Kentucky says'"
      ]
     },
     "metadata": {},
     "output_type": "display_data"
    },
    {
     "data": {
      "text/plain": [
       "'UK faces substantial wave of Omicron infections in January without further restrictions, scientists suggest'"
      ]
     },
     "metadata": {},
     "output_type": "display_data"
    },
    {
     "data": {
      "text/plain": [
       "'Dozens feared dead as tornadoes hit several US states including Kentucky and Illinois'"
      ]
     },
     "metadata": {},
     "output_type": "display_data"
    },
    {
     "data": {
      "text/plain": [
       "\"Michael Nesmith, singer and guitarist with 1960's group The Monkees, dies aged 78\""
      ]
     },
     "metadata": {},
     "output_type": "display_data"
    },
    {
     "data": {
      "text/plain": [
       "'Tests of Omicron variant in UK show third Covid vaccine booster dose offers 75 Percent protection against symptomatic infection'"
      ]
     },
     "metadata": {},
     "output_type": "display_data"
    },
    {
     "data": {
      "text/plain": [
       "'WikiLeaks founder Julian Assange closer to being extradited from UK to US, after US government wins case'"
      ]
     },
     "metadata": {},
     "output_type": "display_data"
    },
    {
     "data": {
      "text/plain": [
       "'At least 54 killed and more than 100 injured after truck packed with people crashes in Mexico'"
      ]
     },
     "metadata": {},
     "output_type": "display_data"
    },
    {
     "data": {
      "text/plain": [
       "'UK Prime Minister Boris Johnson and his wife Carrie announce birth of healthy baby girl'"
      ]
     },
     "metadata": {},
     "output_type": "display_data"
    },
    {
     "data": {
      "text/plain": [
       "'People asked to work from home and face masks to be worn in more places, as part of Plan B restrictions for England announced by Prime Minister Boris Johnson'"
      ]
     },
     "metadata": {},
     "output_type": "display_data"
    },
    {
     "data": {
      "text/plain": [
       "'@BBCPolitics \"I will regret those remarks for the rest of my days\" \\r\\n\\r\\nAllegra Stratton gives a tearful statement as she resigns as government adviser, after she was seen in video joking about lockdown Christmas party at No 10'"
      ]
     },
     "metadata": {},
     "output_type": "display_data"
    },
    {
     "data": {
      "text/plain": [
       "'UK government spokeswoman Allegra Stratton resigns after she was seen in video joking about lockdown Christmas party in Downing Street'"
      ]
     },
     "metadata": {},
     "output_type": "display_data"
    },
    {
     "data": {
      "text/plain": [
       "'Chief of Defence Staff Gen Bipin Rawat, his wife and 11 others were travelling in a helicopter that came down in hills near Coonoor'"
      ]
     },
     "metadata": {},
     "output_type": "display_data"
    },
    {
     "data": {
      "text/plain": [
       "\"India's top military commander dies in helicopter crash in south of the country\""
      ]
     },
     "metadata": {},
     "output_type": "display_data"
    },
    {
     "data": {
      "text/plain": [
       "'“I was also furious to see that clip”\\r\\n\\r\\nUK Prime Minister Boris Johnson begins  by addressing the video of Downing Street staff joking about a Christmas party - “I understand and share the anger,” he says, but adds \"no Covid rules were broken”'"
      ]
     },
     "metadata": {},
     "output_type": "display_data"
    },
    {
     "data": {
      "text/plain": [
       "'UK Prime Minister Boris Johnson apologises for video where staff joked about lockdown Christmas party and orders inquiry into whether rules were broken'"
      ]
     },
     "metadata": {},
     "output_type": "display_data"
    },
    {
     "data": {
      "text/plain": [
       "'Suspect linked to murder of journalist Jamal Khashoggi arrested while trying to board a plane in France'"
      ]
     },
     "metadata": {},
     "output_type": "display_data"
    },
    {
     "data": {
      "text/plain": [
       "\"US announces diplomatic boycott of China's 2022 Winter Olympics in Beijing\""
      ]
     },
     "metadata": {},
     "output_type": "display_data"
    },
    {
     "data": {
      "text/plain": [
       "'Ousted Myanmar leader Aung San Suu Kyi sentenced to four years in prison'"
      ]
     },
     "metadata": {},
     "output_type": "display_data"
    },
    {
     "data": {
      "text/plain": [
       "'Killing of Arthur Labinjo-Hughes to be subject of national review to protect other children from such evil crimes, UK government says'"
      ]
     },
     "metadata": {},
     "output_type": "display_data"
    },
    {
     "data": {
      "text/plain": [
       "'Parents of boy suspected of killing four students at a US high school charged with involuntary manslaughter, alleging several negligent actions they took'"
      ]
     },
     "metadata": {},
     "output_type": "display_data"
    },
    {
     "data": {
      "text/plain": [
       "'Father of six-year-old Arthur Labinjo-Hughes is jailed for 21 years and his partner for a minimum of 29 years over his torture and killing'"
      ]
     },
     "metadata": {},
     "output_type": "display_data"
    },
    {
     "data": {
      "text/plain": [
       "'Germany to ban unvaccinated people from large parts of public life, including many shops and events, Chancellor Angela Merkel says'"
      ]
     },
     "metadata": {},
     "output_type": "display_data"
    },
    {
     "data": {
      "text/plain": [
       "'Meghan, Duchess of Sussex, wins latest stage in privacy fight against Mail on Sunday publisher over publication of her personal letter to her father'"
      ]
     },
     "metadata": {},
     "output_type": "display_data"
    },
    {
     "data": {
      "text/plain": [
       "'MI6 chief warns of Chinese \"debt traps and data traps\" and denies fall of Kabul was intelligence failure in first live broadcast interview'"
      ]
     },
     "metadata": {},
     "output_type": "display_data"
    },
    {
     "data": {
      "text/plain": [
       "'Twitter co-founder Jack Dorsey expected to step down as chief executive, media reports say'"
      ]
     },
     "metadata": {},
     "output_type": "display_data"
    },
    {
     "data": {
      "text/plain": [
       "'Covid booster jabs should be offered to all UK over-18s as part of efforts to tackle new variant Omicron, government advisers say'"
      ]
     },
     "metadata": {},
     "output_type": "display_data"
    },
    {
     "data": {
      "text/plain": [
       "'Third case of Omicron coronavirus variant identified in UK, health officials say, with more likely to be found in the coming days'"
      ]
     },
     "metadata": {},
     "output_type": "display_data"
    },
    {
     "data": {
      "text/plain": [
       "'Obituary: Sir Frank Williams, Formula 1 icon and one of greatest team owners'"
      ]
     },
     "metadata": {},
     "output_type": "display_data"
    },
    {
     "data": {
      "text/plain": [
       "'Formula 1 legend Sir Frank Williams, whose team became one of the most successful in the sport, has died'"
      ]
     },
     "metadata": {},
     "output_type": "display_data"
    },
    {
     "data": {
      "text/plain": [
       "'Two people in the UK have been found to be infected with the new Covid variant, Omicron, health secretary says'"
      ]
     },
     "metadata": {},
     "output_type": "display_data"
    },
    {
     "data": {
      "text/plain": [
       "'Obituary: Stephen Sondheim, legendary US composer and lyricist who became a giant of musical theatre'"
      ]
     },
     "metadata": {},
     "output_type": "display_data"
    },
    {
     "data": {
      "text/plain": [
       "'Kurdish woman named Maryam, 24, is first victim of mass drowning in Channel to be identified, as her father in Iraq tells BBC of his grief'"
      ]
     },
     "metadata": {},
     "output_type": "display_data"
    },
    {
     "data": {
      "text/plain": [
       "'US to restrict travel from South Africa and seven other African countries because of new coronavirus variant concerns\\r\\n\\r\\nLatest'"
      ]
     },
     "metadata": {},
     "output_type": "display_data"
    },
    {
     "data": {
      "text/plain": [
       "'New variant of concern, named Omicron by World Health Organization, has been identified in South Africa, Botswana, Belgium, Hong Kong and Israel'"
      ]
     },
     "metadata": {},
     "output_type": "display_data"
    },
    {
     "data": {
      "text/plain": [
       "'Preliminary evidence suggests new Covid variant B.1.1.529 carries higher risk of reinfection than other variants, World Health Organization says'"
      ]
     },
     "metadata": {},
     "output_type": "display_data"
    },
    {
     "data": {
      "text/plain": [
       "'European Union recommends member states suspend all air travel from southern African countries affected by new Covid variant'"
      ]
     },
     "metadata": {},
     "output_type": "display_data"
    },
    {
     "data": {
      "text/plain": [
       "'France cancels high-level migrant talks in protest at letter published by UK PM Boris Johnson'"
      ]
     },
     "metadata": {},
     "output_type": "display_data"
    },
    {
     "data": {
      "text/plain": [
       "'Travellers arriving into UK from several southern African countries will have to quarantine amid warnings over a new Covid variant'"
      ]
     },
     "metadata": {},
     "output_type": "display_data"
    },
    {
     "data": {
      "text/plain": [
       "'Death toll in fire at Siberian coal mine rises to 52, as rescue operation turns into tragedy, Russian media reports'"
      ]
     },
     "metadata": {},
     "output_type": "display_data"
    },
    {
     "data": {
      "text/plain": [
       "'Five people have been arrested following the death of at least 27 people who died trying to cross the English Channel\\r\\n\\r\\nAuthorities have clarified the total number of people who have died'"
      ]
     },
     "metadata": {},
     "output_type": "display_data"
    },
    {
     "data": {
      "text/plain": [
       "'Three US men are convicted in the murder of black jogger Ahmaud Arbery, who was chased and shot dead in Georgia'"
      ]
     },
     "metadata": {},
     "output_type": "display_data"
    },
    {
     "data": {
      "text/plain": [
       "'\"I\\'m shocked and appalled... by the loss of life\"\\r\\n\\r\\nBoris Johnson says \"thoughts and sympathies\" are with victims and their families, after many migrants drown trying to reach UK\\r\\n\\r\\nDisaster underscores \"how dangerous it is\" to cross in this way, PM says'"
      ]
     },
     "metadata": {},
     "output_type": "display_data"
    },
    {
     "data": {
      "text/plain": [
       "'100 people with learning disabilities and autism in England have been held in specialist hospitals for at least 20 years, BBC learns'"
      ]
     },
     "metadata": {},
     "output_type": "display_data"
    },
    {
     "data": {
      "text/plain": [
       "'At least 30 migrants have died while heading for the UK, after their boat sank, Head of Port of Calais Jean-Marc Puissesseau says'"
      ]
     },
     "metadata": {},
     "output_type": "display_data"
    },
    {
     "data": {
      "text/plain": [
       "'Several migrants headed for UK drown in English Channel near Calais after their boat sinks, French government says'"
      ]
     },
     "metadata": {},
     "output_type": "display_data"
    },
    {
     "data": {
      "text/plain": [
       "'France and Real Madrid footballer Karim Benzema found guilty of conspiring to blackmail former teammate with sex tape'"
      ]
     },
     "metadata": {},
     "output_type": "display_data"
    },
    {
     "data": {
      "text/plain": [
       "\"I'm sorry I targeted Prince Harry's ex-girlfriend, says private investigator in BBC documentary on royals' relationship with the press\""
      ]
     },
     "metadata": {},
     "output_type": "display_data"
    },
    {
     "data": {
      "text/plain": [
       "'UK energy company Bulb, which has 1.7 million customers, announces it will enter administration'"
      ]
     },
     "metadata": {},
     "output_type": "display_data"
    },
    {
     "data": {
      "text/plain": [
       "'At least five dead and more than 40 injured, including several children, after car drove into parade in US state of Wisconsin, police say'"
      ]
     },
     "metadata": {},
     "output_type": "display_data"
    },
    {
     "data": {
      "text/plain": [
       "'Taxi driver who survived Liverpool hospital bomb says it is a \"miracle” he is alive and he is “thankful that no-one else was injured\"'"
      ]
     },
     "metadata": {},
     "output_type": "display_data"
    },
    {
     "data": {
      "text/plain": [
       "'US teenager Kyle Rittenhouse, who shot and killed two men during racial justice protests, cleared of homicide after claiming self-defence'"
      ]
     },
     "metadata": {},
     "output_type": "display_data"
    },
    {
     "data": {
      "text/plain": [
       "'US Vice-President Kamala Harris to become first woman to be given presidential powers while Joe Biden is under anaesthesia for routine colonoscopy'"
      ]
     },
     "metadata": {},
     "output_type": "display_data"
    },
    {
     "data": {
      "text/plain": [
       "'Belarus leader Alexander Lukashenko accepts migrants were helped to cross into Poland but denies inviting them, in an exclusive BBC interview'"
      ]
     },
     "metadata": {},
     "output_type": "display_data"
    },
    {
     "data": {
      "text/plain": [
       "'Austria brings in full national lockdown and makes vaccines compulsory after new wave of Covid infections'"
      ]
     },
     "metadata": {},
     "output_type": "display_data"
    },
    {
     "data": {
      "text/plain": [
       "'Indian PM Narendra Modi has announced the repeal of three controversial farm laws after months of protests.'"
      ]
     },
     "metadata": {},
     "output_type": "display_data"
    },
    {
     "data": {
      "text/plain": [
       "'British F-35 fighter jet crashes during routine operation in Mediterranean - pilot ejected safely, UK Ministry of Defence says'"
      ]
     },
     "metadata": {},
     "output_type": "display_data"
    },
    {
     "data": {
      "text/plain": [
       "'Liverpool bomber Emad Al Swealmeen began making purchases for his attack in April, counter terror police believe'"
      ]
     },
     "metadata": {},
     "output_type": "display_data"
    },
    {
     "data": {
      "text/plain": [
       "'Inflation in the UK, as measured by the Consumer Prices Index, hit 4.2 Percent in October - more than double the 2 Percent target'"
      ]
     },
     "metadata": {},
     "output_type": "display_data"
    },
    {
     "data": {
      "text/plain": [
       "'US President Joe Biden begins highly anticipated virtual meeting with Chinese counterpart Xi Jinping'"
      ]
     },
     "metadata": {},
     "output_type": "display_data"
    },
    {
     "data": {
      "text/plain": [
       "'Four men arrested over taxi explosion outside Liverpool hospital on Sunday released from police custody'"
      ]
     },
     "metadata": {},
     "output_type": "display_data"
    },
    {
     "data": {
      "text/plain": [
       "\"Police say they believe the man killed in Sunday’s explosion outside Liverpool Women's Hospital was 32-year-old Emad Al Swealmeen\""
      ]
     },
     "metadata": {},
     "output_type": "display_data"
    },
    {
     "data": {
      "text/plain": [
       "'UK terror threat level raised to severe from substantial, meaning attack is “highly likely”, in wake of Liverpool hospital blast'"
      ]
     },
     "metadata": {},
     "output_type": "display_data"
    },
    {
     "data": {
      "text/plain": [
       "'\"An improvised explosive device has been manufactured and our assumption so far is that it was built by the passenger in the taxi”\\r\\n\\r\\nHead of Counter Terror North West Unit Russ Jackson confirms explosion in Liverpool was \"a terrorist incident”'"
      ]
     },
     "metadata": {},
     "output_type": "display_data"
    },
    {
     "data": {
      "text/plain": [
       "\"Three men arrested under Terrorism Act after one person killed in car explosion outside Liverpool Women's Hospital\""
      ]
     },
     "metadata": {},
     "output_type": "display_data"
    },
    {
     "data": {
      "text/plain": [
       "'\"Glasgow has sounded the death knell for coal power\"\\r\\n\\r\\nUK PM Boris Johnson describes COP26 climate deal as a \"game-changing agreement that the world needed to see\"'"
      ]
     },
     "metadata": {},
     "output_type": "display_data"
    },
    {
     "data": {
      "text/plain": [
       "'Glasgow climate deal a \"game-changing agreement\" which sounds \"the death knell for coal power\", UK PM Boris Johnson says'"
      ]
     },
     "metadata": {},
     "output_type": "display_data"
    },
    {
     "data": {
      "text/plain": [
       "'New global climate deal agreed at COP26 in Glasgow after last-minute wrangling over agreement on cutting coal'"
      ]
     },
     "metadata": {},
     "output_type": "display_data"
    },
    {
     "data": {
      "text/plain": [
       "'The husband of British-Iranian detainee Nazanin Zaghari-Ratcliffe is ending his hunger strike after 21 days'"
      ]
     },
     "metadata": {},
     "output_type": "display_data"
    },
    {
     "data": {
      "text/plain": [
       "'Negotiators from around the world working to strike a deal as 6pm deadline to reach agreement at COP26 passes\\r\\n\\r\\nFollow the latest developments'"
      ]
     },
     "metadata": {},
     "output_type": "display_data"
    },
    {
     "data": {
      "text/plain": [
       "'US journalist Danny Fenster sentenced to 11 years in jail by Myanmar military court'"
      ]
     },
     "metadata": {},
     "output_type": "display_data"
    },
    {
     "data": {
      "text/plain": [
       "'Queen to attend Remembrance Sunday service in central London following break from engagements on medical advice'"
      ]
     },
     "metadata": {},
     "output_type": "display_data"
    },
    {
     "data": {
      "text/plain": [
       "\"Yorkshire's chief executive Mark Arthur resigns over cricket club's response to racism experienced by former player Azeem Rafiq\""
      ]
     },
     "metadata": {},
     "output_type": "display_data"
    },
    {
     "data": {
      "text/plain": [
       "'FW de Klerk - the last president of a segregated South Africa, who freed Nelson Mandela - has died aged 85'"
      ]
     },
     "metadata": {},
     "output_type": "display_data"
    },
    {
     "data": {
      "text/plain": [
       "'China and US pledge to work together on climate action, saying they recognise \"the urgency of the climate crisis\"'"
      ]
     },
     "metadata": {},
     "output_type": "display_data"
    },
    {
     "data": {
      "text/plain": [
       "'First draft of COP26 climate summit agreement published, urging countries to cut emissions to avoid temperature rises of above 1.5C'"
      ]
     },
     "metadata": {},
     "output_type": "display_data"
    },
    {
     "data": {
      "text/plain": [
       "'At least eight people killed and many injured after crowd surge at US music festival'"
      ]
     },
     "metadata": {},
     "output_type": "display_data"
    },
    {
     "data": {
      "text/plain": [
       "'US Congress passes $1tn infrastructure bill, delivering a major domestic victory for President Joe Biden'"
      ]
     },
     "metadata": {},
     "output_type": "display_data"
    },
    {
     "data": {
      "text/plain": [
       "'Climate activist Greta Thunberg labels COP26 a \"failure\", and tells rally of protesters the conference is a \"PR exercise\"'"
      ]
     },
     "metadata": {},
     "output_type": "display_data"
    },
    {
     "data": {
      "text/plain": [
       "'Experimental pill, developed by Pfizer to treat Covid, cuts risk of hospitalisation or death by 89 Percent in vulnerable adults, clinical trials suggest'"
      ]
     },
     "metadata": {},
     "output_type": "display_data"
    },
    {
     "data": {
      "text/plain": [
       "\"Yorkshire chairman Roger Hutton resigns over the cricket club's response to racism experienced by former player Azeem Rafiq\""
      ]
     },
     "metadata": {},
     "output_type": "display_data"
    },
    {
     "data": {
      "text/plain": [
       "'Entertainer, presenter and dancer Lionel Blair has died aged 92, his agent says'"
      ]
     },
     "metadata": {},
     "output_type": "display_data"
    },
    {
     "data": {
      "text/plain": [
       "'Yorkshire County Cricket Club suspended from hosting England matches following racism allegations made by former player Azeem Rafiq'"
      ]
     },
     "metadata": {},
     "output_type": "display_data"
    },
    {
     "data": {
      "text/plain": [
       "'Conservative MP Owen Paterson, at centre of UK government lobbying row, is to resign, saying last few days have been \"intolerable\"'"
      ]
     },
     "metadata": {},
     "output_type": "display_data"
    },
    {
     "data": {
      "text/plain": [
       "'UK becomes first country to approve \"game-changing\" pill to treat symptomatic Covid in the most vulnerable patients'"
      ]
     },
     "metadata": {},
     "output_type": "display_data"
    },
    {
     "data": {
      "text/plain": [
       "'Missing four-year-old Cleo Smith found alive in Australia more than two weeks after vanishing from remote campsite'"
      ]
     },
     "metadata": {},
     "output_type": "display_data"
    },
    {
     "data": {
      "text/plain": [
       "'Former Fifa officials Sepp Blatter and Michel Platini charged with fraud and other offences in Switzerland'"
      ]
     },
     "metadata": {},
     "output_type": "display_data"
    },
    {
     "data": {
      "text/plain": [
       "'At least 80 countries sign up to pledge to slash emissions of methane, a major driver of climate change'"
      ]
     },
     "metadata": {},
     "output_type": "display_data"
    },
    {
     "data": {
      "text/plain": [
       "'Two police officers plead guilty to taking and sharing photos of the bodies of two sisters found in a London park'"
      ]
     },
     "metadata": {},
     "output_type": "display_data"
    },
    {
     "data": {
      "text/plain": [
       "'First major deal at COP26 climate summit sees 100 nations promise to end deforestation by 2030 and protect \"lungs of our planet\"'"
      ]
     },
     "metadata": {},
     "output_type": "display_data"
    },
    {
     "data": {
      "text/plain": [
       "'Queen urges world leaders at Glasgow COP26 climate summit to \"achieve true statesmanship\" and create a \"safer, stabler future\" for the planet'"
      ]
     },
     "metadata": {},
     "output_type": "display_data"
    },
    {
     "data": {
      "text/plain": [
       "'More than five million people have died of Covid-19 worldwide since start of pandemic, according to Johns Hopkins University'"
      ]
     },
     "metadata": {},
     "output_type": "display_data"
    },
    {
     "data": {
      "text/plain": [
       "'Representatives from 200 countries gather in Glasgow, Scotland, at COP26 climate conference - aiming to help solve the challenge of global warming'"
      ]
     },
     "metadata": {},
     "output_type": "display_data"
    },
    {
     "data": {
      "text/plain": [
       "'A number of passengers have been injured in a crash between two trains near Salisbury, UK'"
      ]
     },
     "metadata": {},
     "output_type": "display_data"
    },
    {
     "data": {
      "text/plain": [
       "'Three people have died and one is in a critical condition in hospital after a group of paddleboarders got into difficulty in a river in south Wales'"
      ]
     },
     "metadata": {},
     "output_type": "display_data"
    },
    {
     "data": {
      "text/plain": [
       "'Facebook changes its name to Meta in major rebrand'"
      ]
     },
     "metadata": {},
     "output_type": "display_data"
    },
    {
     "data": {
      "text/plain": [
       "'Organiser of flight, in which footballer Emiliano Sala and pilot David Ibbotson died, found guilty by majority verdict of endangering safety of an aircraft'"
      ]
     },
     "metadata": {},
     "output_type": "display_data"
    },
    {
     "data": {
      "text/plain": [
       "'Killer who randomly murdered sisters Nicole Smallman and Bibaa Henry in north-west London jailed for life'"
      ]
     },
     "metadata": {},
     "output_type": "display_data"
    },
    {
     "data": {
      "text/plain": [
       "'Middle-income families in UK set to be worse off next year amid rising costs and tax rises, independent economic think tank says'"
      ]
     },
     "metadata": {},
     "output_type": "display_data"
    },
    {
     "data": {
      "text/plain": [
       "\"'Historic change' to alcohol taxes in Britain, with cheaper sparkling wine and draught beer reduced by 3p per pint, UK Chancellor Rishi Sunak announces in Budget speech\""
      ]
     },
     "metadata": {},
     "output_type": "display_data"
    },
    {
     "data": {
      "text/plain": [
       "'US health experts back use of Pfizer Covid vaccine for children aged five to 11, paving the way for full authorisation and rollout'"
      ]
     },
     "metadata": {},
     "output_type": "display_data"
    },
    {
     "data": {
      "text/plain": [
       "'Met Police will apologise to family of the two murdered sisters Bibaa Henry and Nicole Smallman, for failings in the way it responded when they were reported missing'"
      ]
     },
     "metadata": {},
     "output_type": "display_data"
    },
    {
     "data": {
      "text/plain": [
       "'Alec Baldwin says \"there are no words to convey my shock and sadness\" after fatal shooting of Halyna Hutchins on film set'"
      ]
     },
     "metadata": {},
     "output_type": "display_data"
    },
    {
     "data": {
      "text/plain": [
       "'A woman has died after Hollywood actor Alec Baldwin discharged a prop gun on the set of his new film Rust - police'"
      ]
     },
     "metadata": {},
     "output_type": "display_data"
    },
    {
     "data": {
      "text/plain": [
       "'Human remains found in Florida park are those of Brian Laundrie, missing fiancé of murdered blogger Gabby Petito, FBI confirms'"
      ]
     },
     "metadata": {},
     "output_type": "display_data"
    },
    {
     "data": {
      "text/plain": [
       "'The Queen is back at Windsor Castle and \"in good spirits\" after spending Wednesday night in hospital for checks, Buckingham Palace says'"
      ]
     },
     "metadata": {},
     "output_type": "display_data"
    },
    {
     "data": {
      "text/plain": [
       "'Ali Harbi Ali, 25, charged with murder of MP Sir David Amess and the preparation of terrorist acts'"
      ]
     },
     "metadata": {},
     "output_type": "display_data"
    },
    {
     "data": {
      "text/plain": [
       "'\"Items of interest\" linked to\\xa0fiancé\\xa0of murdered US blogger Gabbi Petito found in Florida park, FBI say'"
      ]
     },
     "metadata": {},
     "output_type": "display_data"
    },
    {
     "data": {
      "text/plain": [
       "'Gunman who killed 17 people in Parkland, Florida, in one of the deadliest US school shootings pleads guilty to murder, and could face the death penalty'"
      ]
     },
     "metadata": {},
     "output_type": "display_data"
    },
    {
     "data": {
      "text/plain": [
       "'Multiple failures by UK police and prosecutors meant child abuse allegations against late peer Lord Janner were not properly investigated, inquiry finds'"
      ]
     },
     "metadata": {},
     "output_type": "display_data"
    },
    {
     "data": {
      "text/plain": [
       "'UK PM Boris Johnson says Queen has agreed that Southend-on-Sea will be \"accorded the city status it so clearly deserves\", in honour of MP Sir David Amess, who had long campaigned for the change'"
      ]
     },
     "metadata": {},
     "output_type": "display_data"
    },
    {
     "data": {
      "text/plain": [
       "'UK PM Boris Johnson announces Southend-on-Sea will be given city status by the Queen, fulfilling a long-held ambition of the late MP Sir David Amess, who was fatally stabbed on Friday'"
      ]
     },
     "metadata": {},
     "output_type": "display_data"
    },
    {
     "data": {
      "text/plain": [
       "'Obituary: Colin Powell, from humble background to first African-American US secretary of state'"
      ]
     },
     "metadata": {},
     "output_type": "display_data"
    },
    {
     "data": {
      "text/plain": [
       "'Colin Powell, the first African-American US Secretary of State, has died aged 84 due to Covid complications'"
      ]
     },
     "metadata": {},
     "output_type": "display_data"
    },
    {
     "data": {
      "text/plain": [
       "'\"Our hearts are shattered\" - the family of Essex MP Sir David Amess call on people to \"set aside hatred\"'"
      ]
     },
     "metadata": {},
     "output_type": "display_data"
    },
    {
     "data": {
      "text/plain": [
       "'Man arrested on suspicion of murdering MP Sir David Amess - Ali Harbi Ali - is further detained under Terrorism Act'"
      ]
     },
     "metadata": {},
     "output_type": "display_data"
    },
    {
     "data": {
      "text/plain": [
       "'The fatal stabbing of Conservative MP Sir David Amess in Essex is declared a terrorist incident by police'"
      ]
     },
     "metadata": {},
     "output_type": "display_data"
    },
    {
     "data": {
      "text/plain": [
       "'\"He was one of the kindest, nicest, most gentle people in politics\"\\r\\n\\r\\nPM Boris Johnson pays tribute to Sir David Amess, who was killed after being stabbed in his constituency: We’ve lost today a fine public servant and a much-loved friend colleague'"
      ]
     },
     "metadata": {},
     "output_type": "display_data"
    },
    {
     "data": {
      "text/plain": [
       "'Obituary: Sir David Amess, the prominent campaigner'"
      ]
     },
     "metadata": {},
     "output_type": "display_data"
    },
    {
     "data": {
      "text/plain": [
       "'Conservative MP Sir David Amess dies after being stabbed at his constituency surgery in Essex, UK'"
      ]
     },
     "metadata": {},
     "output_type": "display_data"
    },
    {
     "data": {
      "text/plain": [
       "'Aerial pictures show an air ambulance at the scene in Leigh-on-Sea, Essex, where Conservative MP David Amess has been stabbed'"
      ]
     },
     "metadata": {},
     "output_type": "display_data"
    },
    {
     "data": {
      "text/plain": [
       "'Conservative MP Sir David Amess stabbed while holding constituency meeting in Leigh-on-Sea, UK, local councillors confirm'"
      ]
     },
     "metadata": {},
     "output_type": "display_data"
    },
    {
     "data": {
      "text/plain": [
       "'Stabbing reported where Conservative MP Sir David Amess was meeting constituents in Essex, UK\\r\\n\\r\\nPolice say one man has been arrested'"
      ]
     },
     "metadata": {},
     "output_type": "display_data"
    },
    {
     "data": {
      "text/plain": [
       "'Many casualties feared after explosion hits Shia mosque during Friday prayers in city of Kandahar, Afghanistan'"
      ]
     },
     "metadata": {},
     "output_type": "display_data"
    },
    {
     "data": {
      "text/plain": [
       "'Around 43,000 people may have been wrongly told their Covid PCR test was negative, after being processed by one lab in Wolverhampton, UK'"
      ]
     },
     "metadata": {},
     "output_type": "display_data"
    },
    {
     "data": {
      "text/plain": [
       "\"Police boss Philip Allott, who said women needed to be streetwise following Sarah Everard's murder by police officer, resigns as North Yorkshire Police, Fire and Crime Commissioner\""
      ]
     },
     "metadata": {},
     "output_type": "display_data"
    },
    {
     "data": {
      "text/plain": [
       "'Man who killed five people with a bow and arrow in Norway had shown signs of radicalisation, police say'"
      ]
     },
     "metadata": {},
     "output_type": "display_data"
    },
    {
     "data": {
      "text/plain": [
       "'Man armed with bow and arrows kills several people and injures others in southern Norway, police say'"
      ]
     },
     "metadata": {},
     "output_type": "display_data"
    },
    {
     "data": {
      "text/plain": [
       "'Actor William Shatner, 90, known for playing Captain Kirk in Star Trek, becomes the oldest person to go to space'"
      ]
     },
     "metadata": {},
     "output_type": "display_data"
    },
    {
     "data": {
      "text/plain": [
       "'UK\\'s early Covid response was \"one of the most important public health failures\" the country has ever experienced, report by MPs finds'"
      ]
     },
     "metadata": {},
     "output_type": "display_data"
    },
    {
     "data": {
      "text/plain": [
       "\"Austria's Chancellor Sebastian Kurz resigns amid corruption probe, and proposes foreign minister as his successor\""
      ]
     },
     "metadata": {},
     "output_type": "display_data"
    },
    {
     "data": {
      "text/plain": [
       "\"A US appeals court reinstates Texas's near total ban on abortions, two days after it was blocked in a lower court\""
      ]
     },
     "metadata": {},
     "output_type": "display_data"
    },
    {
     "data": {
      "text/plain": [
       "'Conservative MP and former UK government minister James Brokenshire, who was diagnosed with lung cancer in 2018, dies aged 53'"
      ]
     },
     "metadata": {},
     "output_type": "display_data"
    },
    {
     "data": {
      "text/plain": [
       "'Journalists Maria Ressa and Dmitry Muratov jointly win Nobel Peace Prize for their fight to defend freedom of expression'"
      ]
     },
     "metadata": {},
     "output_type": "display_data"
    },
    {
     "data": {
      "text/plain": [
       "\"South Africa and Brazil among 47 destinations to be moved off UK's travel red list from Monday, meaning passengers returning to England will no longer have to quarantine in a hotel\""
      ]
     },
     "metadata": {},
     "output_type": "display_data"
    },
    {
     "data": {
      "text/plain": [
       "'Saudi Arabian-backed takeover of Newcastle United football club completed'"
      ]
     },
     "metadata": {},
     "output_type": "display_data"
    },
    {
     "data": {
      "text/plain": [
       "'Children across much of Africa are to be vaccinated against malaria in a historic moment in the fight against the deadly disease'"
      ]
     },
     "metadata": {},
     "output_type": "display_data"
    },
    {
     "data": {
      "text/plain": [
       "'Inquiry launched into \"systematic failures\" that allowed Sarah Everard’s killer Wayne Couzens to continue to be police officer, UK Home Secretary Priti Patel confirms'"
      ]
     },
     "metadata": {},
     "output_type": "display_data"
    },
    {
     "data": {
      "text/plain": [
       "'216,000 people have been victims of sexual abuse by Catholic priests in France over last 70 years, major inquiry reveals'"
      ]
     },
     "metadata": {},
     "output_type": "display_data"
    },
    {
     "data": {
      "text/plain": [
       "'Retail tycoons, foreign royals and super-rich Russians - BBC investigation uncovers secret owners of £4bn of British property'"
      ]
     },
     "metadata": {},
     "output_type": "display_data"
    },
    {
     "data": {
      "text/plain": [
       "\"Social media platforms Facebook, WhatsApp and Instagram 'coming back online' after six-hour outage - Facebook\""
      ]
     },
     "metadata": {},
     "output_type": "display_data"
    },
    {
     "data": {
      "text/plain": [
       "'Social media services Facebook, Whatsapp and Instagram hit by worldwide outage'"
      ]
     },
     "metadata": {},
     "output_type": "display_data"
    },
    {
     "data": {
      "text/plain": [
       "\"Conservative Party donor Mohamed Amersi, who contributed to UK PM Boris Johnson's leadership campaign, involved in one of Europe's biggest corruption scandals, BBC investigation discovers\""
      ]
     },
     "metadata": {},
     "output_type": "display_data"
    },
    {
     "data": {
      "text/plain": [
       "\"Fumio Kishida has formally been announced as Japan's new prime minister, a week after he won the race to lead the ruling party\""
      ]
     },
     "metadata": {},
     "output_type": "display_data"
    },
    {
     "data": {
      "text/plain": [
       "'Former UK Prime Minister Tony Blair and his wife Cherie saved £312,000 in stamp duty when buying a £6.45m London townhouse by buying an offshore company which owned the house, leaked documents from the Pandora Papers show'"
      ]
     },
     "metadata": {},
     "output_type": "display_data"
    },
    {
     "data": {
      "text/plain": [
       "'Massive data leak, the Pandora Papers, exposes how world leaders and the super-rich are secretly buying up luxury property to hide their wealth'"
      ]
     },
     "metadata": {},
     "output_type": "display_data"
    },
    {
     "data": {
      "text/plain": [
       "'Petrol problems \"virtually over\" in Scotland, northern England, and the Midlands - but issues persist in the South East, say retailers'"
      ]
     },
     "metadata": {},
     "output_type": "display_data"
    },
    {
     "data": {
      "text/plain": [
       "'Met Police officer who murdered Sarah Everard after kidnapping and raping her under the guise of an arrest has been handed whole-life sentence'"
      ]
     },
     "metadata": {},
     "output_type": "display_data"
    },
    {
     "data": {
      "text/plain": [
       "'Ex-Met Police officer Wayne Couzens handcuffed Sarah Everard and snatched her in a \"false arrest\" before murdering her, court told'"
      ]
     },
     "metadata": {},
     "output_type": "display_data"
    },
    {
     "data": {
      "text/plain": [
       "'Former Liverpool and England World Cup-winning striker Roger Hunt dies aged 83, the Premier League club announces'"
      ]
     },
     "metadata": {},
     "output_type": "display_data"
    },
    {
     "data": {
      "text/plain": [
       "'Gloria Allred, an attorney who represented three of R. Kelly\\'s victims, says \"of all the predators that I have pursued... Mr Kelly is the worst, a dangerous sexual predator\"'"
      ]
     },
     "metadata": {},
     "output_type": "display_data"
    },
    {
     "data": {
      "text/plain": [
       "'Man charged with murder of primary school teacher Sabina Nessa, who was killed in south-east London'"
      ]
     },
     "metadata": {},
     "output_type": "display_data"
    },
    {
     "data": {
      "text/plain": [
       "'After decades of abuse allegations, singer R. Kelly found guilty on all counts in sex trafficking trial'"
      ]
     },
     "metadata": {},
     "output_type": "display_data"
    },
    {
     "data": {
      "text/plain": [
       "'Police investigating the death of Sabina Nessa arrest a 38-year-old man on suspicion of murder in what they say is significant development'"
      ]
     },
     "metadata": {},
     "output_type": "display_data"
    },
    {
     "data": {
      "text/plain": [
       "'Top Huawei executive flies home to China after being freed from house arrest in Canada in a deal with US prosecutors'"
      ]
     },
     "metadata": {},
     "output_type": "display_data"
    },
    {
     "data": {
      "text/plain": [
       "'US drops extradition request and agrees deal to free top Huawei executive detained in Canada, in case that sparked major row with China'"
      ]
     },
     "metadata": {},
     "output_type": "display_data"
    },
    {
     "data": {
      "text/plain": [
       "'38-year-old man arrested on suspicion of the murder of Sabina Nessa in south-east London, police say'"
      ]
     },
     "metadata": {},
     "output_type": "display_data"
    },
    {
     "data": {
      "text/plain": [
       "'Compensation payments for hundreds of civilian deaths linked to British armed forces in Afghanistan revealed, with lowest £104.17'"
      ]
     },
     "metadata": {},
     "output_type": "display_data"
    },
    {
     "data": {
      "text/plain": [
       "'Life expectancy for men in the UK falls for the first time in 40 years, Office for National Statistics estimates show\\r\\n\\r\\nThe Covid-19 pandemic has seen life expectancy fall across most of Europe and the US in 2020'"
      ]
     },
     "metadata": {},
     "output_type": "display_data"
    },
    {
     "data": {
      "text/plain": [
       "'Man charged with the murders of three children and a woman in Derbyshire, UK'"
      ]
     },
     "metadata": {},
     "output_type": "display_data"
    },
    {
     "data": {
      "text/plain": [
       "'Body found in US national park is that of missing travel blogger Gabby Petito and coroner believes she was murdered - FBI'"
      ]
     },
     "metadata": {},
     "output_type": "display_data"
    },
    {
     "data": {
      "text/plain": [
       "'\"A decisive decade for our world\" - Joe Biden pledges to work with allies in first speech to UN General Assembly as US president'"
      ]
     },
     "metadata": {},
     "output_type": "display_data"
    },
    {
     "data": {
      "text/plain": [
       "'Third Russian accused by UK police of involvement in 2018 attack on former double agent Sergei Skripal and his daughter Yulia in Salisbury, which left three people critically ill and one dead'"
      ]
     },
     "metadata": {},
     "output_type": "display_data"
    },
    {
     "data": {
      "text/plain": [
       "'Russia responsible for killing Alexander Litvinenko, a former Russian spy who died of polonium poisoning in 2006 in London, European Court of Human Rights finds'"
      ]
     },
     "metadata": {},
     "output_type": "display_data"
    },
    {
     "data": {
      "text/plain": [
       "'Canada\\'s Justin Trudeau says \"brighter days ahead\" after projected win in election, but he failed to make the gains he hoped for\\r\\n\\r\\nFollow live coverage'"
      ]
     },
     "metadata": {},
     "output_type": "display_data"
    },
    {
     "data": {
      "text/plain": [
       "\"UK's defence secretary orders investigation into data breach involving the details of dozens of Afghan interpreters\""
      ]
     },
     "metadata": {},
     "output_type": "display_data"
    },
    {
     "data": {
      "text/plain": [
       "'US relaxing Covid travel restrictions for fully vaccinated passengers from UK and EU, ending an 18-month ban'"
      ]
     },
     "metadata": {},
     "output_type": "display_data"
    },
    {
     "data": {
      "text/plain": [
       "'US expected to relax travel ban for passengers from UK and EU from November – follow live updates'"
      ]
     },
     "metadata": {},
     "output_type": "display_data"
    },
    {
     "data": {
      "text/plain": [
       "'John Challis, best known for playing Boycie in British TV comedy Only Fools and Horses, has died aged 79'"
      ]
     },
     "metadata": {},
     "output_type": "display_data"
    },
    {
     "data": {
      "text/plain": [
       "'France recalls ambassadors from US and Australia in wake of new security pact it describes as \"a stab in the back\"'"
      ]
     },
     "metadata": {},
     "output_type": "display_data"
    },
    {
     "data": {
      "text/plain": [
       "\"US admits drone strike in Kabul just before military pullout killed 10 innocent people - official tells BBC's US partner CBS News\""
      ]
     },
     "metadata": {},
     "output_type": "display_data"
    },
    {
     "data": {
      "text/plain": [
       "'Amber list scrapped and PCR tests no longer necessary for fully vaccinated travellers in English travel overhaul'"
      ]
     },
     "metadata": {},
     "output_type": "display_data"
    },
    {
     "data": {
      "text/plain": [
       "'Two men charged with murder of Belfast journalist Lyra McKee, who was shot dead in Londonderry in 2019'"
      ]
     },
     "metadata": {},
     "output_type": "display_data"
    },
    {
     "data": {
      "text/plain": [
       "'Liz Truss becomes new UK foreign secretary, replacing Dominic Raab'"
      ]
     },
     "metadata": {},
     "output_type": "display_data"
    },
    {
     "data": {
      "text/plain": [
       "'Gavin Williamson, criticised for his handling of disruption to schools and exams during pandemic, loses job as UK education secretary'"
      ]
     },
     "metadata": {},
     "output_type": "display_data"
    },
    {
     "data": {
      "text/plain": [
       "'Booster Covid jabs for over 50s and younger adults with health conditions recommended by UK government vaccine advisers'"
      ]
     },
     "metadata": {},
     "output_type": "display_data"
    },
    {
     "data": {
      "text/plain": [
       "'The world now sees twice as many days with temperatures over 50C, BBC analysis finds\\r\\n\\r\\nClimate change presents an increasing challenge for how we live'"
      ]
     },
     "metadata": {},
     "output_type": "display_data"
    },
    {
     "data": {
      "text/plain": [
       "'All 12 to 15-year-olds should be offered one dose of Pfizer coronavirus vaccine, UK’s chief medical officers recommend'"
      ]
     },
     "metadata": {},
     "output_type": "display_data"
    },
    {
     "data": {
      "text/plain": [
       "'Russia’s Daniil Medvedev beats Novak Djokovic in the US Open final, ending the Serb’s dream of a calendar Grand Slam'"
      ]
     },
     "metadata": {},
     "output_type": "display_data"
    },
    {
     "data": {
      "text/plain": [
       "'Vaccine passport scheme for nightclubs and large events in England will not be going ahead, Health Secretary Sajid Javid tells BBC'"
      ]
     },
     "metadata": {},
     "output_type": "display_data"
    },
    {
     "data": {
      "text/plain": [
       "'Qualifier Emma Raducanu wins US Open title - first British woman to secure a Grand Slam singles victory in 44 years'"
      ]
     },
     "metadata": {},
     "output_type": "display_data"
    },
    {
     "data": {
      "text/plain": [
       "\"Twenty years after first plane hit World Trade Center in New York, a minute's silence will shortly begin US 9/11 commemorations\""
      ]
     },
     "metadata": {},
     "output_type": "display_data"
    },
    {
     "data": {
      "text/plain": [
       "'Lawyers for Virginia Giuffre, who has accused Prince Andrew of sexual abuse, claim they have successfully served him with legal papers'"
      ]
     },
     "metadata": {},
     "output_type": "display_data"
    },
    {
     "data": {
      "text/plain": [
       "'The fall of Afghanistan to the Taliban is likely to have \"emboldened\" so-called lone wolf terrorists in the UK, director general of MI5 warns'"
      ]
     },
     "metadata": {},
     "output_type": "display_data"
    },
    {
     "data": {
      "text/plain": [
       "\"England's final cricket Test match against India at Old Trafford cancelled after a number of India's staff test positive for Covid-19\""
      ]
     },
     "metadata": {},
     "output_type": "display_data"
    },
    {
     "data": {
      "text/plain": [
       "'Emma Raducanu becomes first British woman to reach a Grand Slam singles final in 44 years, with straight-set win over Greece’s Maria Sakkari at US Open'"
      ]
     },
     "metadata": {},
     "output_type": "display_data"
    },
    {
     "data": {
      "text/plain": [
       "'MPs vote by 319 to 248 to increase taxes across UK from next year to help pay for NHS and social care'"
      ]
     },
     "metadata": {},
     "output_type": "display_data"
    },
    {
     "data": {
      "text/plain": [
       "'In her first US Open, British teenager Emma Raducanu reaches semi-finals - beating Olympic champion Belinda Bencic in straight sets'"
      ]
     },
     "metadata": {},
     "output_type": "display_data"
    },
    {
     "data": {
      "text/plain": [
       "\"UK National Insurance rate for workers to rise by 1.25 Percent, as part of Prime Minister Boris Johnson's plans to fund health and social care in England\""
      ]
     },
     "metadata": {},
     "output_type": "display_data"
    },
    {
     "data": {
      "text/plain": [
       "'Girls Aloud singer Sarah Harding, 39, who had breast cancer, has died, her mother says'"
      ]
     },
     "metadata": {},
     "output_type": "display_data"
    },
    {
     "data": {
      "text/plain": [
       "\"UK's vaccine advisory body refuses to approve vaccinating healthy children aged 12-15 years old on health grounds alone\""
      ]
     },
     "metadata": {},
     "output_type": "display_data"
    },
    {
     "data": {
      "text/plain": [
       "'New Zealand Prime Minister Jacinda Ardern has described the event as a \"terrorist attack\" by a Sri Lankan national who was under surveillance'"
      ]
     },
     "metadata": {},
     "output_type": "display_data"
    },
    {
     "data": {
      "text/plain": [
       "'Police in New Zealand shoot dead man after he entered an Auckland supermarket and stabbed multiple people, with at least six reported injured'"
      ]
     },
     "metadata": {},
     "output_type": "display_data"
    },
    {
     "data": {
      "text/plain": [
       "'Pop legends Abba to release new music, 40 years after they split'"
      ]
     },
     "metadata": {},
     "output_type": "display_data"
    },
    {
     "data": {
      "text/plain": [
       "\"Sarah Storey wins 17th Paralympic gold to become Great Britain's most successful Paralympian of all time\""
      ]
     },
     "metadata": {},
     "output_type": "display_data"
    },
    {
     "data": {
      "text/plain": [
       "'Double child killer Colin Pitchfork released from prison, UK Ministry of Justice confirms'"
      ]
     },
     "metadata": {},
     "output_type": "display_data"
    },
    {
     "data": {
      "text/plain": [
       "'UK media regulator Ofcom clears Piers Morgan over comments about Meghan, Duchess of Sussex that led to his departure from Good Morning Britain'"
      ]
     },
     "metadata": {},
     "output_type": "display_data"
    },
    {
     "data": {
      "text/plain": [
       "'Gargantuan black hole at the centre of our galaxy pictured for very first time'"
      ]
     },
     "metadata": {},
     "output_type": "display_data"
    },
    {
     "data": {
      "text/plain": [
       "'Damehood given to BBC podcast host Deborah James, days after she revealed she is receiving end-of-life care for her bowel cancer'"
      ]
     },
     "metadata": {},
     "output_type": "display_data"
    },
    {
     "data": {
      "text/plain": [
       "'Russian soldiers caught on camera shooting unarmed Ukrainian civilians in the back in footage seen by the BBC'"
      ]
     },
     "metadata": {},
     "output_type": "display_data"
    },
    {
     "data": {
      "text/plain": [
       "'Another 50 fines to be issued over Covid lockdown rule breaking in and around Downing Street, London police say'"
      ]
     },
     "metadata": {},
     "output_type": "display_data"
    },
    {
     "data": {
      "text/plain": [
       "\"Finland must apply for Nato membership without delay, its leaders announce, after Russia's invasion of Ukraine\""
      ]
     },
     "metadata": {},
     "output_type": "display_data"
    },
    {
     "data": {
      "text/plain": [
       "'UK and Sweden sign mutual security deal, pledging support if either country comes under attack'"
      ]
     },
     "metadata": {},
     "output_type": "display_data"
    },
    {
     "data": {
      "text/plain": [
       "\"Queen pulls out of reading the Queen's Speech at this year's State Opening of Parliament, Buckingham Palace announces\""
      ]
     },
     "metadata": {},
     "output_type": "display_data"
    },
    {
     "data": {
      "text/plain": [
       "\"UK opposition leader Labour's Keir Starmer says he'll quit if given Covid fine by police\""
      ]
     },
     "metadata": {},
     "output_type": "display_data"
    },
    {
     "data": {
      "text/plain": [
       "\"Sri Lanka's Prime Minister Mahinda Rajapaksa resigns amid mass protests over the country's worst economic crisis since independence\""
      ]
     },
     "metadata": {},
     "output_type": "display_data"
    },
    {
     "data": {
      "text/plain": [
       "'Russia\\'s President Vladimir Putin apologised after his foreign minister said that Nazi leader Adolf Hitler had \"Jewish blood\", Israel says'"
      ]
     },
     "metadata": {},
     "output_type": "display_data"
    },
    {
     "data": {
      "text/plain": [
       "'Ukrainian President Zelensky tells UN that Russian soldiers killed and tortured \"just for pleasure\" as he calls on world to act'"
      ]
     },
     "metadata": {},
     "output_type": "display_data"
    },
    {
     "data": {
      "text/plain": [
       "'World’s true death toll from Covid pandemic is nearly 15 million, three times the official figure, says World Health Organization'"
      ]
     },
     "metadata": {},
     "output_type": "display_data"
    },
    {
     "data": {
      "text/plain": [
       "'UK interest rates raised from 0.75 Percent to 1 Percent, their highest level since 2009, as Bank of England tries to tackle cost of living'"
      ]
     },
     "metadata": {},
     "output_type": "display_data"
    },
    {
     "data": {
      "text/plain": [
       "'Historic election result in Northern Ireland as Sinn Féin wins most assembly seats for first time, pushing DUP into second place'"
      ]
     },
     "metadata": {},
     "output_type": "display_data"
    },
    {
     "data": {
      "text/plain": [
       "'The SNP finishes as biggest party in Scottish council elections - with Labour in second after the Conservatives suffer big losses'"
      ]
     },
     "metadata": {},
     "output_type": "display_data"
    },
    {
     "data": {
      "text/plain": [
       "\"Prince Harry and Andrew will not join other royals on Buckingham Palace balcony for Queen's Platinum Jubilee celebrations\""
      ]
     },
     "metadata": {},
     "output_type": "display_data"
    },
    {
     "data": {
      "text/plain": [
       "\"UK opposition leader Labour's Keir Starmer investigated by police over alleged Covid breach last year\""
      ]
     },
     "metadata": {},
     "output_type": "display_data"
    },
    {
     "data": {
      "text/plain": [
       "\"More than 16,000 jobs at risk as convenience store McColl's collapses into administration\""
      ]
     },
     "metadata": {},
     "output_type": "display_data"
    },
    {
     "data": {
      "text/plain": [
       "'Dennis Waterman, star of TV shows Minder, The Sweeney and New Tricks, has died aged 74, his family says'"
      ]
     },
     "metadata": {},
     "output_type": "display_data"
    },
    {
     "data": {
      "text/plain": [
       "'Sex Education star Ncuti Gatwa will take over from Jodie Whittaker as the next Dr Who, the BBC announces'"
      ]
     },
     "metadata": {},
     "output_type": "display_data"
    },
    {
     "data": {
      "text/plain": [
       "'Ukraine wins the Eurovision Song Contest as folk-rap group Kalush Orchestra ride a wave of public support to be crowne'"
      ]
     },
     "metadata": {},
     "output_type": "display_data"
    },
    {
     "data": {
      "text/plain": [
       "'Liverpool beat Chelsea in the FA cup final at Wembley after a deadlocked game went to penalties - reaction'"
      ]
     },
     "metadata": {},
     "output_type": "display_data"
    },
    {
     "data": {
      "text/plain": [
       "'\"No shelling for days\" - Kharkiv\\'s mayor tells BBC that Russian forces have withdrawn far out from Ukraine\\'s second city\\r\\n\\r\\nFollow live updates'"
      ]
     },
     "metadata": {},
     "output_type": "display_data"
    },
    {
     "data": {
      "text/plain": [
       "'UK’s biggest ever lottery winners, who won £184m jackpot on a lucky dip ticket, say they now have “time to dream\"'"
      ]
     },
     "metadata": {},
     "output_type": "display_data"
    },
    {
     "data": {
      "text/plain": [
       "'MI5 agent used secret status to terrorise his girlfriend, including carrying out a machete attack - BBC investigation reveals'"
      ]
     },
     "metadata": {},
     "output_type": "display_data"
    },
    {
     "data": {
      "text/plain": [
       "'Queen makes surprise visit to Paddington station to see completed Elizabeth line'"
      ]
     },
     "metadata": {},
     "output_type": "display_data"
    },
    {
     "data": {
      "text/plain": [
       "'Blackpool footballer Jake Daniels becomes first openly gay UK male professional footballer in decades'"
      ]
     },
     "metadata": {},
     "output_type": "display_data"
    },
    {
     "data": {
      "text/plain": [
       "'UK MP arrested on suspicion of sexual offences, including rape and sexual assault, over seven-year period'"
      ]
     },
     "metadata": {},
     "output_type": "display_data"
    },
    {
     "data": {
      "text/plain": [
       "'Hundreds of Ukrainian fighters holed up in Azovstal steel plant in Mariupol for over two months have left, senior Ukrainian official says'"
      ]
     },
     "metadata": {},
     "output_type": "display_data"
    },
    {
     "data": {
      "text/plain": [
       "\"London's Metropolitan Police ends investigation into lockdown parties in Downing Street\""
      ]
     },
     "metadata": {},
     "output_type": "display_data"
    },
    {
     "data": {
      "text/plain": [
       "'Russian soldier accused of killing unarmed Ukrainian civilian pleads guilty in first war crimes trial of the conflict'"
      ]
     },
     "metadata": {},
     "output_type": "display_data"
    },
    {
     "data": {
      "text/plain": [
       "{'0': {'who': '0',\n",
       "  'what': '0',\n",
       "  'when': '0',\n",
       "  'where': '0',\n",
       "  'why': '0',\n",
       "  'how': '0'},\n",
       " '1': {'who': 'UK',\n",
       "  'what': 'to phase out Russian oil imports',\n",
       "  'when': '0',\n",
       "  'where': '0',\n",
       "  'why': 'UK',\n",
       "  'how': 'out Russian oil imports by end of this year ,'},\n",
       " '2': {'who': '0',\n",
       "  'what': '0',\n",
       "  'when': '0',\n",
       "  'where': '0',\n",
       "  'why': 'One million refugees',\n",
       "  'how': 'as Russian invasion continues .'},\n",
       " '3': {'who': '0',\n",
       "  'what': '0',\n",
       "  'when': '0',\n",
       "  'where': '0',\n",
       "  'why': 'UK',\n",
       "  'how': 'on Russian oligarchs Alisher Usmanov and Igor Shuvalov following Russia'},\n",
       " '4': {'who': '0',\n",
       "  'what': '0',\n",
       "  'when': '0',\n",
       "  'where': '0',\n",
       "  'why': 'Russia',\n",
       "  'how': '0'},\n",
       " '5': {'who': '0',\n",
       "  'what': '0',\n",
       "  'when': '0',\n",
       "  'where': '0',\n",
       "  'why': 'tree',\n",
       "  'how': 'tree falls on car , as Storm Eunice lashes UK'},\n",
       " '6': {'who': 'Russia',\n",
       "  'what': 'are being pulled out from Ukraine border',\n",
       "  'when': '0',\n",
       "  'where': '0',\n",
       "  'why': '0',\n",
       "  'how': '0'},\n",
       " '7': {'who': '0',\n",
       "  'what': '0',\n",
       "  'when': '0',\n",
       "  'where': '0',\n",
       "  'why': 'UK economy',\n",
       "  'how': '0'},\n",
       " '8': {'who': '0',\n",
       "  'what': '0',\n",
       "  'when': '0',\n",
       "  'where': '0',\n",
       "  'why': '0',\n",
       "  'how': 'Indian singing icon Lata Mangeshkar , the “ Nightingale of'},\n",
       " '9': {'who': '0',\n",
       "  'what': '0',\n",
       "  'when': '0',\n",
       "  'where': '0',\n",
       "  'why': 'tree',\n",
       "  'how': 'tree falls on them in Staffordshire during Storm Malik'},\n",
       " '10': {'who': '0',\n",
       "  'what': '0',\n",
       "  'when': '0',\n",
       "  'where': '0',\n",
       "  'why': 'fully vaccinated travellers',\n",
       "  'how': 'for fully vaccinated travellers arriving in England to be scrapped'},\n",
       " '11': {'who': '0',\n",
       "  'what': '0',\n",
       "  'when': '0',\n",
       "  'where': '0',\n",
       "  'why': '0',\n",
       "  'how': 'whose bombastic rock operas catapulted him to the status of'},\n",
       " '12': {'who': 'UK',\n",
       "  'what': 'cost of living rises',\n",
       "  'when': '0',\n",
       "  'where': '0',\n",
       "  'why': 'UK',\n",
       "  'how': 'its fastest pace for 30 years .'},\n",
       " '13': {'who': '0',\n",
       "  'what': '0',\n",
       "  'when': '0',\n",
       "  'where': 'South Pacific',\n",
       "  'why': '0',\n",
       "  'how': 'after giant underwater volcano eruption sends shockwaves across South Pacific'},\n",
       " '14': {'who': 'Novak Djokovic ’s appeal over his deportation from Australia',\n",
       "  'what': 'adjourned until Monday',\n",
       "  'when': '0',\n",
       "  'where': '0',\n",
       "  'why': '0',\n",
       "  'how': '0'},\n",
       " '15': {'who': '0',\n",
       "  'what': '0',\n",
       "  'when': '0',\n",
       "  'where': '0',\n",
       "  'why': 'Travellers to England',\n",
       "  'how': 'need pre-departure Covid test and will only need a lateral'},\n",
       " '16': {'who': '0',\n",
       "  'what': '0',\n",
       "  'when': '0',\n",
       "  'where': '0',\n",
       "  'why': '0',\n",
       "  'how': \"unidentified projectile ' into sea .\"},\n",
       " '17': {'who': '0',\n",
       "  'what': '0',\n",
       "  'when': '0',\n",
       "  'where': '0',\n",
       "  'why': 'Joanna Lumley',\n",
       "  'how': '0'},\n",
       " '18': {'who': '0',\n",
       "  'what': '0',\n",
       "  'when': '0',\n",
       "  'where': '0',\n",
       "  'why': '0',\n",
       "  'how': 'hospitality firms hit by Covid'},\n",
       " '19': {'who': '0',\n",
       "  'what': '0',\n",
       "  'when': '0',\n",
       "  'where': '0',\n",
       "  'why': 'there',\n",
       "  'how': '“ still some things we need to be clearer about'},\n",
       " '20': {'who': '0',\n",
       "  'what': '0',\n",
       "  'when': '0',\n",
       "  'where': '0',\n",
       "  'why': '0',\n",
       "  'how': '0'},\n",
       " '21': {'who': '0',\n",
       "  'what': '0',\n",
       "  'when': '0',\n",
       "  'where': '0',\n",
       "  'why': '0',\n",
       "  'how': 'travel red list from 4 am on Wednesday .'},\n",
       " '22': {'who': '0',\n",
       "  'what': '0',\n",
       "  'when': '0',\n",
       "  'where': '0',\n",
       "  'why': 'Travellers heading to UK',\n",
       "  'how': 'have Covid test before their departure in effort to limit'},\n",
       " '23': {'who': '0',\n",
       "  'what': '0',\n",
       "  'when': '0',\n",
       "  'where': '0',\n",
       "  'why': '0',\n",
       "  'how': 'Giant ash cloud sends people sprinting for cover after volcano'},\n",
       " '24': {'who': '0',\n",
       "  'what': '0',\n",
       "  'when': '0',\n",
       "  'where': '0',\n",
       "  'why': '0',\n",
       "  'how': 'announces immediate suspension of all tournaments in China over concern'},\n",
       " '25': {'who': '0',\n",
       "  'what': '0',\n",
       "  'when': '0',\n",
       "  'where': '0',\n",
       "  'why': '0',\n",
       "  'how': '0'},\n",
       " '26': {'who': '0',\n",
       "  'what': '0',\n",
       "  'when': '0',\n",
       "  'where': '0',\n",
       "  'why': 'Anyone entering UK',\n",
       "  'how': '0'},\n",
       " '27': {'who': '0',\n",
       "  'what': '0',\n",
       "  'when': '0',\n",
       "  'where': '0',\n",
       "  'why': 'All over-40s',\n",
       "  'how': '0'},\n",
       " '28': {'who': '0',\n",
       "  'what': '0',\n",
       "  'when': '0',\n",
       "  'where': 'Cenotaph',\n",
       "  'why': 'Prince Charles',\n",
       "  'how': 'part of Remembrance'},\n",
       " '29': {'who': 'The Queen',\n",
       "  'what': 'will not attend the Remembrance Sunday service',\n",
       "  'when': '0',\n",
       "  'where': 'Cenotaph',\n",
       "  'why': 'because she has sprained her back .',\n",
       "  'how': 'her back .'},\n",
       " '30': {'who': 'Britney Spears',\n",
       "  'what': 'released from conservatorship',\n",
       "  'when': '0',\n",
       "  'where': '0',\n",
       "  'why': 'Britney Spears',\n",
       "  'how': '0'},\n",
       " '31': {'who': '0',\n",
       "  'what': '0',\n",
       "  'when': '0',\n",
       "  'where': '0',\n",
       "  'why': 'pledges',\n",
       "  'how': 'on course to heat by 2.4 C despite pledges made'},\n",
       " '32': {'who': '0',\n",
       "  'what': '0',\n",
       "  'when': '0',\n",
       "  'where': '0',\n",
       "  'why': 'workers',\n",
       "  'how': 'be fully vaccinated against Covid , the BBC has been'},\n",
       " '33': {'who': \"Conservative Owen Paterson 's suspension\",\n",
       "  'what': 'put on hold vote to review the way',\n",
       "  'when': '0',\n",
       "  'where': '0',\n",
       "  'why': '0',\n",
       "  'how': \"Conservative Owen Paterson 's suspension put on hold as UK\"},\n",
       " '34': {'who': 'Indian Prime Minister Narendra Modi',\n",
       "  'what': 'pledges his country',\n",
       "  'when': '0',\n",
       "  'where': '0',\n",
       "  'why': '0',\n",
       "  'how': 'Indian Prime Minister Narendra Modi pledges his country will target'},\n",
       " '35': {'who': '0',\n",
       "  'what': '0',\n",
       "  'when': '0',\n",
       "  'where': '0',\n",
       "  'why': '0',\n",
       "  'how': 'undertake official visits during this time , Buckingham Palace says'},\n",
       " '36': {'who': '0',\n",
       "  'what': '0',\n",
       "  'when': '0',\n",
       "  'where': '0',\n",
       "  'why': 'Chancellor Rishi Sunak',\n",
       "  'how': 'to pre-Covid levels by end of 2021 , Chancellor Rishi'},\n",
       " '37': {'who': '0',\n",
       "  'what': '0',\n",
       "  'when': '0',\n",
       "  'where': '0',\n",
       "  'why': 'The Queen',\n",
       "  'how': 'being advised to rest ,'},\n",
       " '38': {'who': '0',\n",
       "  'what': '0',\n",
       "  'when': '0',\n",
       "  'where': '0',\n",
       "  'why': '0',\n",
       "  'how': 'Former Rangers , Everton and Scotland manager Walter Smith dies'},\n",
       " '39': {'who': '0',\n",
       "  'what': '0',\n",
       "  'when': '0',\n",
       "  'where': '0',\n",
       "  'why': 'UK National',\n",
       "  'how': '0'},\n",
       " '40': {'who': 'US',\n",
       "  'what': 'announces it',\n",
       "  'when': '0',\n",
       "  'where': '0',\n",
       "  'why': '0',\n",
       "  'how': 'to fully vaccinated travellers from 8 November .'},\n",
       " '41': {'who': 'Dubai ruler Sheikh Mohammed Al - Maktoum',\n",
       "  'what': 'ordered the hacking',\n",
       "  'when': '0',\n",
       "  'where': '0',\n",
       "  'why': '0',\n",
       "  'how': 'of mobile phones during his divorce custody case with Princess'},\n",
       " '42': {'who': 'Japan ’s Princess Mako',\n",
       "  'what': 'will marry her former classmate and give up her royal status',\n",
       "  'when': '0',\n",
       "  'where': '0',\n",
       "  'why': '0',\n",
       "  'how': 'her former classmate , a commoner , this month and'},\n",
       " '43': {'who': '0',\n",
       "  'what': '0',\n",
       "  'when': '0',\n",
       "  'where': '0',\n",
       "  'why': '0',\n",
       "  'how': '5,000 overseas lorry drivers and 5,500 poultry workers will be'},\n",
       " '44': {'who': '0',\n",
       "  'what': '0',\n",
       "  'when': '0',\n",
       "  'where': '0',\n",
       "  'why': 'Trudeau',\n",
       "  'how': 'flying home , Trudeau says , after a US deal'},\n",
       " '45': {'who': 'North Korea',\n",
       "  'what': 'fires two ballistic missiles',\n",
       "  'when': '0',\n",
       "  'where': '0',\n",
       "  'why': '0',\n",
       "  'how': 'two ballistic missiles , South Korea says .'},\n",
       " '46': {'who': '0',\n",
       "  'what': '0',\n",
       "  'when': '0',\n",
       "  'where': '0',\n",
       "  'why': '0',\n",
       "  'how': 'wanted militant as interior minister .'},\n",
       " '47': {'who': '0',\n",
       "  'what': '0',\n",
       "  'when': '0',\n",
       "  'where': '0',\n",
       "  'why': 'UK',\n",
       "  'how': \"Russian state - backed news channel RT 's licence to\"},\n",
       " '48': {'who': '0',\n",
       "  'what': '0',\n",
       "  'when': '0',\n",
       "  'where': '0',\n",
       "  'why': '0',\n",
       "  'how': 'Legendary Australian leg - spinner Shane Warne , one of'},\n",
       " '49': {'who': '0',\n",
       "  'what': '0',\n",
       "  'when': '0',\n",
       "  'where': '0',\n",
       "  'why': 'Vladimir Putin',\n",
       "  'how': 'as humanitarian crisis grows in cities under Russian bombardment .'},\n",
       " '50': {'who': '0',\n",
       "  'what': '0',\n",
       "  'when': '0',\n",
       "  'where': 'Mariupol',\n",
       "  'why': '0',\n",
       "  'how': 'in Ukrainian city of Mariupol where hundreds of civilians were'},\n",
       " '51': {'who': '0',\n",
       "  'what': '0',\n",
       "  'when': '0',\n",
       "  'where': '0',\n",
       "  'why': '0',\n",
       "  'how': 'Sarah Everard , judges rule'},\n",
       " '52': {'who': '0',\n",
       "  'what': '0',\n",
       "  'when': '0',\n",
       "  'where': '0',\n",
       "  'why': '0',\n",
       "  'how': 'hitting Chris Rock but refused ,'},\n",
       " '53': {'who': '0',\n",
       "  'what': '0',\n",
       "  'when': '0',\n",
       "  'where': '0',\n",
       "  'why': '0',\n",
       "  'how': 'very promising \" in peace talks with Ukraine so far'},\n",
       " '54': {'who': '0',\n",
       "  'what': '0',\n",
       "  'when': '0',\n",
       "  'where': '0',\n",
       "  'why': '0',\n",
       "  'how': 'was unacceptable and inexcusable ” - Will Smith apologises after'},\n",
       " '55': {'who': 'The Oscars',\n",
       "  'what': 'condemns \" Will Smith \\'s and says',\n",
       "  'when': '0',\n",
       "  'where': '0',\n",
       "  'why': 'it',\n",
       "  'how': 'launched formal review of incident .'},\n",
       " '56': {'who': '0',\n",
       "  'what': '0',\n",
       "  'when': '0',\n",
       "  'where': '0',\n",
       "  'why': 'Roman Abramovich',\n",
       "  'how': 'Russian billionaire Roman Abramovich suffered symptoms of suspected poisoning at'},\n",
       " '57': {'who': 'More than 200 babies in England',\n",
       "  'what': 'might have survived if they',\n",
       "  'when': '0',\n",
       "  'where': '0',\n",
       "  'why': 'they',\n",
       "  'how': 'given better maternity care by NHS Trust , BBC learns'},\n",
       " '58': {'who': 'Russia',\n",
       "  'what': 'will \" drastically reduce \" assault',\n",
       "  'when': '0',\n",
       "  'where': 'Kyiv',\n",
       "  'why': 'it',\n",
       "  'how': 'drastically reduce \" assault on Ukraine \\'s capital Kyiv'},\n",
       " '59': {'who': '0',\n",
       "  'what': '0',\n",
       "  'when': '0',\n",
       "  'where': '0',\n",
       "  'why': '0',\n",
       "  'how': 'should initially be issued over Downing Street parties that breached'},\n",
       " '60': {'who': '0',\n",
       "  'what': '0',\n",
       "  'when': '0',\n",
       "  'where': '0',\n",
       "  'why': 'US gas deal',\n",
       "  'how': 'on Russian energy .'},\n",
       " '61': {'who': '0',\n",
       "  'what': '0',\n",
       "  'when': '0',\n",
       "  'where': '0',\n",
       "  'why': '0',\n",
       "  'how': 'dies aged 50 , band announces .'},\n",
       " '62': {'who': '0',\n",
       "  'what': '0',\n",
       "  'when': '0',\n",
       "  'where': '0',\n",
       "  'why': '0',\n",
       "  'how': 'dies aged 33 after being diagnosed with terminal brain cancer'},\n",
       " '63': {'who': '0',\n",
       "  'what': '0',\n",
       "  'when': '0',\n",
       "  'where': '0',\n",
       "  'why': '0',\n",
       "  'how': 'is long \" : Actor Will Smith resigns from Oscars'},\n",
       " '64': {'who': '0',\n",
       "  'what': '0',\n",
       "  'when': '0',\n",
       "  'where': '0',\n",
       "  'why': '0',\n",
       "  'how': 'the parliamentary party pending investigation into allegations about conduct .'},\n",
       " '65': {'who': '0',\n",
       "  'what': '0',\n",
       "  'when': '0',\n",
       "  'where': '0',\n",
       "  'why': 'This',\n",
       "  'how': 'very tragic situation \" : At least six people dead'},\n",
       " '66': {'who': '0',\n",
       "  'what': '0',\n",
       "  'when': '0',\n",
       "  'where': '0',\n",
       "  'why': '0',\n",
       "  'how': '0'},\n",
       " '67': {'who': '0',\n",
       "  'what': '0',\n",
       "  'when': '0',\n",
       "  'where': 'Mariupol',\n",
       "  'why': '0',\n",
       "  'how': 'besieged Ukrainian city of Mariupol failed , as reports say'},\n",
       " '68': {'who': 'McDonald ’s',\n",
       "  'what': 'will temporarily close all its restaurants',\n",
       "  'when': '0',\n",
       "  'where': '0',\n",
       "  'why': '0',\n",
       "  'how': 'will temporarily close all its restaurants in Russia , saying'},\n",
       " '69': {'who': '0',\n",
       "  'what': '0',\n",
       "  'when': '0',\n",
       "  'where': '0',\n",
       "  'why': '0',\n",
       "  'how': '0'},\n",
       " '70': {'who': '0',\n",
       "  'what': '0',\n",
       "  'when': '0',\n",
       "  'where': 'Mariupol',\n",
       "  'why': '0',\n",
       "  'how': \"Russian strikes hit maternity and children 's hospital in Ukrainian\"},\n",
       " '71': {'who': '0',\n",
       "  'what': '0',\n",
       "  'when': '0',\n",
       "  'where': '0',\n",
       "  'why': '0',\n",
       "  'how': 'given genetically modified pig heart in world - first surgery'},\n",
       " '72': {'who': '0',\n",
       "  'what': '0',\n",
       "  'when': '0',\n",
       "  'where': '0',\n",
       "  'why': 'US',\n",
       "  'how': 'bans Russian oil imports as part of international moves against'},\n",
       " '73': {'who': '0',\n",
       "  'what': '0',\n",
       "  'when': '0',\n",
       "  'where': '0',\n",
       "  'why': \"Twitter 's board\",\n",
       "  'how': \"the social media giant 's potential .\"},\n",
       " '74': {'who': '0',\n",
       "  'what': '0',\n",
       "  'when': '0',\n",
       "  'where': '0',\n",
       "  'why': '0',\n",
       "  'how': 'all Russian oil imports in major new sanctions package over'},\n",
       " '75': {'who': '0',\n",
       "  'what': '0',\n",
       "  'when': '0',\n",
       "  'where': '0',\n",
       "  'why': '0',\n",
       "  'how': 'first black female justice in the 233 - year history'},\n",
       " '76': {'who': '0',\n",
       "  'what': '0',\n",
       "  'when': '0',\n",
       "  'where': '0',\n",
       "  'why': 'Russia',\n",
       "  'how': '0'},\n",
       " '77': {'who': 'MI5 agent',\n",
       "  'what': 'alleged to have exploited his status',\n",
       "  'when': '0',\n",
       "  'where': '0',\n",
       "  'why': 'MI5 agent',\n",
       "  'how': '0'},\n",
       " '78': {'who': '0',\n",
       "  'what': '0',\n",
       "  'when': '0',\n",
       "  'where': 'Earth',\n",
       "  'why': '0',\n",
       "  'how': 'a huge asteroid collided with the Earth .'},\n",
       " '79': {'who': 'Ed Sheeran',\n",
       "  'what': 'wins High Court copyright battle',\n",
       "  'when': '0',\n",
       "  'where': '0',\n",
       "  'why': 'Ed Sheeran',\n",
       "  'how': '0'},\n",
       " '80': {'who': '0',\n",
       "  'what': '0',\n",
       "  'when': '0',\n",
       "  'where': '0',\n",
       "  'why': '0',\n",
       "  'how': 'Twitter worth almost $ 3bn .'},\n",
       " '81': {'who': 'Lam',\n",
       "  'what': \"held on as Hong Kong 's through mass protests\",\n",
       "  'when': '0',\n",
       "  'where': '0',\n",
       "  'why': 'She',\n",
       "  'how': 'through mass protests .'},\n",
       " '82': {'who': '0',\n",
       "  'what': '0',\n",
       "  'when': '0',\n",
       "  'where': '0',\n",
       "  'why': 'It',\n",
       "  'how': 'the abundant renewable energy \" UN Secretary General Antonio Guterres'},\n",
       " '83': {'who': 'we',\n",
       "  'what': 'make drastic changes',\n",
       "  'when': '0',\n",
       "  'where': '0',\n",
       "  'why': 'we',\n",
       "  'how': 'or never \" to avoid disastrous climate change - but'},\n",
       " '84': {'who': '0',\n",
       "  'what': '0',\n",
       "  'when': '0',\n",
       "  'where': '0',\n",
       "  'why': '0',\n",
       "  'how': 'Legendary EastEnders actress June Brown .'},\n",
       " '85': {'who': '0',\n",
       "  'what': '0',\n",
       "  'when': '0',\n",
       "  'where': '0',\n",
       "  'why': '0',\n",
       "  'how': 'dies aged 95 .'},\n",
       " '86': {'who': '0',\n",
       "  'what': '0',\n",
       "  'when': '0',\n",
       "  'where': 'Kyiv',\n",
       "  'why': '0',\n",
       "  'how': 'Ukraine accuses Russia of genocide'},\n",
       " '87': {'who': '0',\n",
       "  'what': '0',\n",
       "  'when': '0',\n",
       "  'where': '0',\n",
       "  'why': 'it',\n",
       "  'how': 'Russian warship Moskva has sunk , state media says ,'},\n",
       " '88': {'who': '0',\n",
       "  'what': '0',\n",
       "  'when': '0',\n",
       "  'where': '0',\n",
       "  'why': '0',\n",
       "  'how': \"for Russian oil , Ukraine 's President Zelensky tells BBC\"},\n",
       " '89': {'who': '0',\n",
       "  'what': '0',\n",
       "  'when': '0',\n",
       "  'where': '0',\n",
       "  'why': '0',\n",
       "  'how': 'miles away to Rwanda and military to take control of'},\n",
       " '90': {'who': '0',\n",
       "  'what': '0',\n",
       "  'when': '0',\n",
       "  'where': '0',\n",
       "  'why': '0',\n",
       "  'how': 'in rush hour attack at New York City subway station'},\n",
       " '91': {'who': '0',\n",
       "  'what': '0',\n",
       "  'when': '0',\n",
       "  'where': '0',\n",
       "  'why': 'Ali Harbi Ali',\n",
       "  'how': 'IS fanatic Ali Harbi Ali given whole - life jail'},\n",
       " '92': {'who': '0',\n",
       "  'what': '0',\n",
       "  'when': '0',\n",
       "  'where': '0',\n",
       "  'why': '0',\n",
       "  'how': '0'},\n",
       " '93': {'who': '0',\n",
       "  'what': '0',\n",
       "  'when': '0',\n",
       "  'where': '0',\n",
       "  'why': 'DJ Tim Westwood',\n",
       "  'how': 'following sexual misconduct claims .'},\n",
       " '94': {'who': '0',\n",
       "  'what': '0',\n",
       "  'when': '0',\n",
       "  'where': '0',\n",
       "  'why': '0',\n",
       "  'how': 'for clear victory in France ’s presidential election , beating'},\n",
       " '95': {'who': '0',\n",
       "  'what': '0',\n",
       "  'when': '0',\n",
       "  'where': '0',\n",
       "  'why': 'Government policies of discharging patients from hospital to care homes in England at start of pandemic',\n",
       "  'how': 'unlawful \" , High Court judges rule .'},\n",
       " '96': {'who': 'Parish',\n",
       "  'what': \"'s resigning as an MP after admitting he\",\n",
       "  'when': '0',\n",
       "  'where': '0',\n",
       "  'why': 'he',\n",
       "  'how': 'pornography twice in the House of Commons .'},\n",
       " '97': {'who': '0',\n",
       "  'what': '0',\n",
       "  'when': '0',\n",
       "  'where': '0',\n",
       "  'why': '0',\n",
       "  'how': 'Conservative MP Neil Parish , who is being investigated for'},\n",
       " '98': {'who': '0',\n",
       "  'what': '0',\n",
       "  'when': '0',\n",
       "  'where': '0',\n",
       "  'why': 'British - born Islamic State militant Alexanda Kotey',\n",
       "  'how': 'British - born Islamic State militant Alexanda Kotey sentenced to'},\n",
       " '99': {'who': '0',\n",
       "  'what': '0',\n",
       "  'when': '0',\n",
       "  'where': '0',\n",
       "  'why': '0',\n",
       "  'how': 'Former Wimbledon champion Boris Becker jailed for two and half'},\n",
       " '100': {'who': '0',\n",
       "  'what': '0',\n",
       "  'when': '0',\n",
       "  'where': '0',\n",
       "  'why': '0',\n",
       "  'how': 'Conservative MP Neil Parish investigated for allegedly watching pornography in'},\n",
       " '101': {'who': '0',\n",
       "  'what': '0',\n",
       "  'when': '0',\n",
       "  'where': 'West',\n",
       "  'why': 'Russia',\n",
       "  'how': 'proposes record $ 33bn aid package to help Ukraine ,'},\n",
       " '102': {'who': '0',\n",
       "  'what': '0',\n",
       "  'when': '0',\n",
       "  'where': '0',\n",
       "  'why': 'Man',\n",
       "  'how': '0'},\n",
       " '103': {'who': '0',\n",
       "  'what': '0',\n",
       "  'when': '0',\n",
       "  'where': 'Mariupol',\n",
       "  'why': '0',\n",
       "  'how': 'the Ukrainian city of Mariupol is underway , UN says'},\n",
       " '104': {'who': '0',\n",
       "  'what': '0',\n",
       "  'when': '0',\n",
       "  'where': '0',\n",
       "  'why': '0',\n",
       "  'how': 'British national killed in Ukraine and second is missing ,'},\n",
       " '105': {'who': '0',\n",
       "  'what': '0',\n",
       "  'when': '0',\n",
       "  'where': '0',\n",
       "  'why': 'Ex-Radio 1 DJ Tim Westwood',\n",
       "  'how': 'of sexual misconduct by multiple women , in joint investigation'},\n",
       " '106': {'who': '0',\n",
       "  'what': '0',\n",
       "  'when': '0',\n",
       "  'where': '0',\n",
       "  'why': 'Will Smith',\n",
       "  'how': 'slapping comic Chris Rock at the Oscars .'},\n",
       " '107': {'who': \"UK Chancellor Rishi Sunak 's wife Akshata Murty\",\n",
       "  'what': 'announces she',\n",
       "  'when': '0',\n",
       "  'where': '0',\n",
       "  'why': 'she',\n",
       "  'how': 'her overseas income , following a row over her non-dom'},\n",
       " '108': {'who': '0',\n",
       "  'what': '0',\n",
       "  'when': '0',\n",
       "  'where': '0',\n",
       "  'why': '0',\n",
       "  'how': \"Russian President Vladimir Putin 's daughters targeted by new UK\"},\n",
       " '109': {'who': '0',\n",
       "  'what': '0',\n",
       "  'when': '0',\n",
       "  'where': '0',\n",
       "  'why': 'Man',\n",
       "  'how': 'with minimum term of 36 years for murder of London'},\n",
       " '110': {'who': '0',\n",
       "  'what': '0',\n",
       "  'when': '0',\n",
       "  'where': '0',\n",
       "  'why': 'more than 100',\n",
       "  'how': 'feared dead and more than 100 wounded after missile strike'},\n",
       " '111': {'who': '0',\n",
       "  'what': '0',\n",
       "  'when': '0',\n",
       "  'where': 'Kyiv',\n",
       "  'why': '0',\n",
       "  'how': \"talks with Ukraine 's President Zelensky\"},\n",
       " '112': {'who': '0',\n",
       "  'what': '0',\n",
       "  'when': '0',\n",
       "  'where': '0',\n",
       "  'why': '0',\n",
       "  'how': 'person of interest in subway shooting that injured more than'},\n",
       " '113': {'who': '0',\n",
       "  'what': '0',\n",
       "  'when': '0',\n",
       "  'where': '0',\n",
       "  'why': '0',\n",
       "  'how': 'Multiple people injured in subway shooting in Brooklyn , New'},\n",
       " '114': {'who': '0',\n",
       "  'what': '0',\n",
       "  'when': '0',\n",
       "  'where': '0',\n",
       "  'why': '0',\n",
       "  'how': 'at least 30 more Downing Street lockdown fines .'},\n",
       " '115': {'who': '0',\n",
       "  'what': '0',\n",
       "  'when': '0',\n",
       "  'where': '0',\n",
       "  'why': '0',\n",
       "  'how': 'Khan guilty of sexually assaulting 15 - year - old'},\n",
       " '116': {'who': '0',\n",
       "  'what': '0',\n",
       "  'when': '0',\n",
       "  'where': '0',\n",
       "  'why': '0',\n",
       "  'how': 'found guilty of murdering UK MP Sir David Amess ,'},\n",
       " '117': {'who': '0',\n",
       "  'what': '0',\n",
       "  'when': '0',\n",
       "  'where': '0',\n",
       "  'why': 'Russia',\n",
       "  'how': \"other senior ministers from entering Russia over the UK 's\"},\n",
       " '118': {'who': '0',\n",
       "  'what': '0',\n",
       "  'when': '0',\n",
       "  'where': '0',\n",
       "  'why': '0',\n",
       "  'how': 'into fatal shooting by actor Alec Baldwin finds production company'},\n",
       " '119': {'who': 'Sturgeon',\n",
       "  'what': \"was filmed apparently breaching Scotland 's\",\n",
       "  'when': '0',\n",
       "  'where': '0',\n",
       "  'why': 'she',\n",
       "  'how': \"filmed apparently breaching Scotland 's face mask rules and no\"},\n",
       " '120': {'who': '0',\n",
       "  'what': '0',\n",
       "  'when': '0',\n",
       "  'where': 'Lviv',\n",
       "  'why': '0',\n",
       "  'how': 'in western Ukrainian city of Lviv , officials say ,'},\n",
       " '121': {'who': '0',\n",
       "  'what': '0',\n",
       "  'when': '0',\n",
       "  'where': 'Mwangi',\n",
       "  'why': '0',\n",
       "  'how': 'and teenage boy guilty of murdering five - year -'},\n",
       " '122': {'who': '0',\n",
       "  'what': '0',\n",
       "  'when': '0',\n",
       "  'where': '0',\n",
       "  'why': '0',\n",
       "  'how': 'found guilty of murdering six - year - old Rikki'},\n",
       " '123': {'who': '0',\n",
       "  'what': '0',\n",
       "  'when': '0',\n",
       "  'where': '0',\n",
       "  'why': '0',\n",
       "  'how': 'Russian President Vladimir Putin abandons plan to storm last Mariupol'},\n",
       " '124': {'who': '0',\n",
       "  'what': '0',\n",
       "  'when': '0',\n",
       "  'where': '0',\n",
       "  'why': '0',\n",
       "  'how': 'company secretly owned by a sanctioned Russian oligarch , documents'},\n",
       " '125': {'who': '0',\n",
       "  'what': '0',\n",
       "  'when': '0',\n",
       "  'where': '0',\n",
       "  'why': '0',\n",
       "  'how': '0'},\n",
       " '126': {'who': '0',\n",
       "  'what': '0',\n",
       "  'when': '0',\n",
       "  'where': 'Kyiv',\n",
       "  'why': 'Intense fighting north west of Kyiv as reports',\n",
       "  'how': 'Intense fighting north west of Kyiv as reports suggest bulk'},\n",
       " '127': {'who': '0',\n",
       "  'what': '0',\n",
       "  'when': '0',\n",
       "  'where': 'Mariupol',\n",
       "  'why': '0',\n",
       "  'how': '0'},\n",
       " '128': {'who': '0',\n",
       "  'what': '0',\n",
       "  'when': '0',\n",
       "  'where': 'Lviv',\n",
       "  'why': 'and 134',\n",
       "  'how': 'At least 35 people killed and 134 injured in Russian'},\n",
       " '129': {'who': '0',\n",
       "  'what': '0',\n",
       "  'when': '0',\n",
       "  'where': 'province',\n",
       "  'why': '0',\n",
       "  'how': ', Chinese state media is reporting .'},\n",
       " '130': {'who': 'Usmanov',\n",
       "  'what': 'ditched UK mansions',\n",
       "  'when': '0',\n",
       "  'where': '0',\n",
       "  'why': 'sanctions',\n",
       "  'how': 'Russian billionaire and ex-Arsenal shareholder Alisher Usmanov says he ditched'},\n",
       " '131': {'who': '0',\n",
       "  'what': '0',\n",
       "  'when': '0',\n",
       "  'where': '0',\n",
       "  'why': '0',\n",
       "  'how': 'fundamentally flawed \" , watchdog finds .'},\n",
       " '132': {'who': '0',\n",
       "  'what': '0',\n",
       "  'when': '0',\n",
       "  'where': '0',\n",
       "  'why': '0',\n",
       "  'how': 'banned intercontinental missile for first time since 2017 , according'},\n",
       " '133': {'who': '0',\n",
       "  'what': '0',\n",
       "  'when': '0',\n",
       "  'where': '0',\n",
       "  'why': '0',\n",
       "  'how': 'dies aged 84 .'},\n",
       " '134': {'who': '0',\n",
       "  'what': '0',\n",
       "  'when': '0',\n",
       "  'where': 'Aquatics Centre',\n",
       "  'why': '0',\n",
       "  'how': '0'},\n",
       " '135': {'who': '0',\n",
       "  'what': '0',\n",
       "  'when': '0',\n",
       "  'where': '0',\n",
       "  'why': 'UK prices',\n",
       "  'how': 'the fastest for 30 years - as fuel , energy'},\n",
       " '136': {'who': '0',\n",
       "  'what': '0',\n",
       "  'when': '0',\n",
       "  'where': '0',\n",
       "  'why': '0',\n",
       "  'how': '– aged just 25 .'},\n",
       " '137': {'who': '0',\n",
       "  'what': '0',\n",
       "  'when': '0',\n",
       "  'where': '0',\n",
       "  'why': '0',\n",
       "  'how': 'British - Iranian nationals Nazanin Zaghari - Ratcliffe and Anoosheh'},\n",
       " '138': {'who': '0',\n",
       "  'what': '0',\n",
       "  'when': '0',\n",
       "  'where': '0',\n",
       "  'why': '0',\n",
       "  'how': 'unforgivable rhetoric \" .'},\n",
       " '139': {'who': 'British - Iranian Nazanin Zaghari - Ratcliffe',\n",
       "  'what': 'is on her way home to UK after nearly six years',\n",
       "  'when': '0',\n",
       "  'where': '0',\n",
       "  'why': 'British - Iranian Nazanin Zaghari - Ratcliffe',\n",
       "  'how': 'British - Iranian Nazanin Zaghari - Ratcliffe is on her'},\n",
       " '140': {'who': '0',\n",
       "  'what': '0',\n",
       "  'when': '0',\n",
       "  'where': '0',\n",
       "  'why': '0',\n",
       "  'how': 'first female jockey to win Cheltenham Gold Cup .'},\n",
       " '141': {'who': '0',\n",
       "  'what': '0',\n",
       "  'when': '0',\n",
       "  'where': '0',\n",
       "  'why': '0',\n",
       "  'how': 'of indecent exposure that predate her murder .'},\n",
       " '142': {'who': 'Abramovich',\n",
       "  'what': 'is selling the club',\n",
       "  'when': '0',\n",
       "  'where': '0',\n",
       "  'why': 'he',\n",
       "  'how': 'net proceeds \" to go to charitable foundation to'},\n",
       " '143': {'who': '0',\n",
       "  'what': '0',\n",
       "  'when': '0',\n",
       "  'where': 'Kyiv',\n",
       "  'why': '0',\n",
       "  'how': 'Russian missile strike hits TV tower in Ukrainian capital Kyiv'},\n",
       " '144': {'who': '0',\n",
       "  'what': '0',\n",
       "  'when': '0',\n",
       "  'where': '0',\n",
       "  'why': 'Fifa and Uefa',\n",
       "  'how': 'all Russian football clubs and national teams from all competitions'},\n",
       " '145': {'who': '0',\n",
       "  'what': '0',\n",
       "  'when': '0',\n",
       "  'where': '0',\n",
       "  'why': '0',\n",
       "  'how': 'in Russian state - owned oil firm Rosneft after Russia'},\n",
       " '146': {'who': 'EU',\n",
       "  'what': 'to provide weapons',\n",
       "  'when': '0',\n",
       "  'where': '0',\n",
       "  'why': '0',\n",
       "  'how': 'to Russian flights and ban two Russian state media outlets'},\n",
       " '147': {'who': '0',\n",
       "  'what': '0',\n",
       "  'when': '0',\n",
       "  'where': 'Kharkiv',\n",
       "  'why': '0',\n",
       "  'how': 'battle Russian troops on streets of second - largest city'},\n",
       " '148': {'who': '0',\n",
       "  'what': '0',\n",
       "  'when': '0',\n",
       "  'where': '0',\n",
       "  'why': '0',\n",
       "  'how': 'of Russian banks from main international payment system Swift .'},\n",
       " '149': {'who': '0',\n",
       "  'what': '0',\n",
       "  'when': '0',\n",
       "  'where': '0',\n",
       "  'why': '0',\n",
       "  'how': '\\'s Russian owner Roman Abramovich to hand over \" stewardship'},\n",
       " '150': {'who': '0',\n",
       "  'what': '0',\n",
       "  'when': '0',\n",
       "  'where': '0',\n",
       "  'why': 'Poland',\n",
       "  'how': '0'},\n",
       " '151': {'who': '0',\n",
       "  'what': '0',\n",
       "  'when': '0',\n",
       "  'where': 'Heathrow Airport',\n",
       "  'why': 'British Airways',\n",
       "  'how': 'all short - haul flights from Heathrow Airport until midday'},\n",
       " '152': {'who': '0',\n",
       "  'what': '0',\n",
       "  'when': '0',\n",
       "  'where': '0',\n",
       "  'why': '0',\n",
       "  'how': 'against Russian President Vladimir Putin and Foreign Minister Sergey Lavrov'},\n",
       " '153': {'who': '0',\n",
       "  'what': '0',\n",
       "  'when': '0',\n",
       "  'where': '0',\n",
       "  'why': '0',\n",
       "  'how': 'pleads guilty to murdering London primary school teacher Sabina Nessa'},\n",
       " '154': {'who': '0',\n",
       "  'what': '0',\n",
       "  'when': '0',\n",
       "  'where': '0',\n",
       "  'why': '0',\n",
       "  'how': 'first black female judge to the Supreme Court , Judge'},\n",
       " '155': {'who': '0',\n",
       "  'what': '0',\n",
       "  'when': '0',\n",
       "  'where': '0',\n",
       "  'why': '0',\n",
       "  'how': 'League final moved from Russia to France following invasion of'},\n",
       " '156': {'who': '0',\n",
       "  'what': '0',\n",
       "  'when': '0',\n",
       "  'where': '0',\n",
       "  'why': '0',\n",
       "  'how': 'confirms pre-dawn missile strikes , targeting both military and civilian'},\n",
       " '157': {'who': '0',\n",
       "  'what': '0',\n",
       "  'when': '0',\n",
       "  'where': '0',\n",
       "  'why': '0',\n",
       "  'how': \"special military operation ' in eastern Ukraine in televised\"},\n",
       " '158': {'who': '0',\n",
       "  'what': '0',\n",
       "  'when': '0',\n",
       "  'where': 'Europe',\n",
       "  'why': 'Russia',\n",
       "  'how': \"major war in Europe ' any day now ,\"},\n",
       " '159': {'who': '0',\n",
       "  'what': '0',\n",
       "  'when': '0',\n",
       "  'where': '0',\n",
       "  'why': '0',\n",
       "  'how': \"'s top security official says .\"},\n",
       " '160': {'who': '0',\n",
       "  'what': '0',\n",
       "  'when': '0',\n",
       "  'where': '0',\n",
       "  'why': '0',\n",
       "  'how': \"'s legal Covid restrictions , including the wearing of face\"},\n",
       " '161': {'who': '0',\n",
       "  'what': '0',\n",
       "  'when': '0',\n",
       "  'where': '0',\n",
       "  'why': 'UK',\n",
       "  'how': 'five Russian banks and freezes assets of three wealthy individuals'},\n",
       " '162': {'who': '0',\n",
       "  'what': '0',\n",
       "  'when': '0',\n",
       "  'where': '0',\n",
       "  'why': '0',\n",
       "  'how': 'by Russian - backed separatists , in a move likely'},\n",
       " '163': {'who': '0',\n",
       "  'what': '0',\n",
       "  'when': '0',\n",
       "  'where': '0',\n",
       "  'why': 'Boris Johnson',\n",
       "  'how': 'Free mass lateral flow testing will stop on 1 April'},\n",
       " '164': {'who': '0',\n",
       "  'what': '0',\n",
       "  'when': '0',\n",
       "  'where': '0',\n",
       "  'why': 'We',\n",
       "  'how': 'remaining domestic restrictions in law \" UK PM Boris Johnson'},\n",
       " '165': {'who': '0',\n",
       "  'what': '0',\n",
       "  'when': '0',\n",
       "  'where': '0',\n",
       "  'why': '0',\n",
       "  'how': 'Legal requirement to self - isolate after positive Covid test'},\n",
       " '166': {'who': '0',\n",
       "  'what': '0',\n",
       "  'when': '0',\n",
       "  'where': '0',\n",
       "  'why': 'Over-75s and the most vulnerable over-12s across UK',\n",
       "  'how': 'most vulnerable over-12s across UK will be offered another Covid'},\n",
       " '167': {'who': '0',\n",
       "  'what': '0',\n",
       "  'when': '0',\n",
       "  'where': '0',\n",
       "  'why': '0',\n",
       "  'how': '0'},\n",
       " '168': {'who': '0',\n",
       "  'what': '0',\n",
       "  'when': '0',\n",
       "  'where': 'Palace',\n",
       "  'why': 'The Queen',\n",
       "  'how': 'tested positive for Covid and has \" mild cold -'},\n",
       " '169': {'who': '0',\n",
       "  'what': '0',\n",
       "  'when': '0',\n",
       "  'where': '0',\n",
       "  'why': 'the passengers',\n",
       "  'how': 'found alive , authorities say .'},\n",
       " '170': {'who': '0',\n",
       "  'what': '0',\n",
       "  'when': '0',\n",
       "  'where': '0',\n",
       "  'why': '0',\n",
       "  'how': '0'},\n",
       " '171': {'who': '0',\n",
       "  'what': '0',\n",
       "  'when': '0',\n",
       "  'where': '0',\n",
       "  'why': 'Great Britain',\n",
       "  'how': \"Great Britain stripped of silver medal in men 's 4x100m\"},\n",
       " '172': {'who': '0',\n",
       "  'what': '0',\n",
       "  'when': '0',\n",
       "  'where': '0',\n",
       "  'why': 'New red weather warning',\n",
       "  'how': 'New red weather warning issued for Storm Eunice , covering'},\n",
       " '173': {'who': '0',\n",
       "  'what': '0',\n",
       "  'when': '0',\n",
       "  'where': '0',\n",
       "  'why': '0',\n",
       "  'how': 'to red - meaning danger to life from flying debris'},\n",
       " '174': {'who': '0',\n",
       "  'what': '0',\n",
       "  'when': '0',\n",
       "  'where': '0',\n",
       "  'why': '0',\n",
       "  'how': 'from open prison .'},\n",
       " '175': {'who': '0',\n",
       "  'what': '0',\n",
       "  'when': '0',\n",
       "  'where': '0',\n",
       "  'why': '0',\n",
       "  'how': 'named locally as 35 - year - old British diving'},\n",
       " '176': {'who': '0',\n",
       "  'what': '0',\n",
       "  'when': '0',\n",
       "  'where': 'Wales',\n",
       "  'why': 'Children',\n",
       "  'how': 'offered low - dose Covid vaccine , UK government says'},\n",
       " '177': {'who': '0',\n",
       "  'what': '0',\n",
       "  'when': '0',\n",
       "  'where': '0',\n",
       "  'why': '0',\n",
       "  'how': 'to Saudi citizen .'},\n",
       " '178': {'who': '0',\n",
       "  'what': '0',\n",
       "  'when': '0',\n",
       "  'where': '0',\n",
       "  'why': 'Prince Andrew and Virginia Giuffre',\n",
       "  'how': 'over civil sex assault claim filed in US .'},\n",
       " '179': {'who': 'Djokovic',\n",
       "  'what': 'would rather skip future tournaments',\n",
       "  'when': '0',\n",
       "  'where': '0',\n",
       "  'why': 'he',\n",
       "  'how': 'would rather skip future tournaments than be forced to get'},\n",
       " '180': {'who': '0',\n",
       "  'what': '0',\n",
       "  'when': '0',\n",
       "  'where': '0',\n",
       "  'why': '0',\n",
       "  'how': 'Canadian PM invokes Emergencies Act for first time to crack'},\n",
       " '181': {'who': '0',\n",
       "  'what': '0',\n",
       "  'when': '0',\n",
       "  'where': '0',\n",
       "  'why': '0',\n",
       "  'how': 'A crucial window for diplomacy \" - Joe Biden and'},\n",
       " '182': {'who': '0',\n",
       "  'what': '0',\n",
       "  'when': '0',\n",
       "  'where': '0',\n",
       "  'why': '0',\n",
       "  'how': 'Canadian police move in to clear last protesters occupying key'},\n",
       " '183': {'who': '0',\n",
       "  'what': '0',\n",
       "  'when': '0',\n",
       "  'where': '0',\n",
       "  'why': '0',\n",
       "  'how': 'part of inquiry into lockdown parties'},\n",
       " '184': {'who': 'British nationals in Ukraine',\n",
       "  'what': 'should leave the country',\n",
       "  'when': '0',\n",
       "  'where': '0',\n",
       "  'why': '0',\n",
       "  'how': 'British nationals in Ukraine should leave the country now ,'},\n",
       " '185': {'who': '0',\n",
       "  'what': '0',\n",
       "  'when': '0',\n",
       "  'where': '0',\n",
       "  'why': '0',\n",
       "  'how': 'rule breakers threatened with $ 100,000 fines and jail time'},\n",
       " '186': {'who': 'Home Secretary Priti Patel',\n",
       "  'what': 'has released a statement',\n",
       "  'when': '0',\n",
       "  'where': '0',\n",
       "  'why': '0',\n",
       "  'how': 'she has devoted to serving the public'},\n",
       " '187': {'who': 'Khan',\n",
       "  'what': 'made clear the scale',\n",
       "  'when': '0',\n",
       "  'where': '0',\n",
       "  'why': 'he',\n",
       "  'how': 'made clear the scale of change needed \" to root'},\n",
       " '188': {'who': '0',\n",
       "  'what': '0',\n",
       "  'when': '0',\n",
       "  'where': '0',\n",
       "  'why': '0',\n",
       "  'how': 'head of the'},\n",
       " '189': {'who': '0',\n",
       "  'what': '0',\n",
       "  'when': '0',\n",
       "  'where': '0',\n",
       "  'why': '0',\n",
       "  'how': 'tests positive for Covid - 19 and is self -'},\n",
       " '190': {'who': '0',\n",
       "  'what': '0',\n",
       "  'when': '0',\n",
       "  'where': '0',\n",
       "  'why': '0',\n",
       "  'how': 'Boris Johnson photo leak'},\n",
       " '191': {'who': '0',\n",
       "  'what': '0',\n",
       "  'when': '0',\n",
       "  'where': 'Downing Street',\n",
       "  'why': 'Photo',\n",
       "  'how': 'standing next to bottle of sparkling wine at what appears'},\n",
       " '192': {'who': 'Zouma',\n",
       "  'what': 'kicking and slapping one',\n",
       "  'when': '0',\n",
       "  'where': 'West Ham',\n",
       "  'why': '0',\n",
       "  'how': 'two pet cats after videos of him kicking and slapping'},\n",
       " '193': {'who': 'people',\n",
       "  'what': 'catch Covid',\n",
       "  'when': '0',\n",
       "  'where': '0',\n",
       "  'why': '0',\n",
       "  'how': 'month early , UK Prime Minister Boris Johnson says .'},\n",
       " '194': {'who': 'Scientists',\n",
       "  'what': 'have made major breakthrough',\n",
       "  'when': '0',\n",
       "  'where': '0',\n",
       "  'why': 'they',\n",
       "  'how': 'made major breakthrough in quest to develop practical nuclear fusion'},\n",
       " '195': {'who': '0',\n",
       "  'what': '0',\n",
       "  'when': '0',\n",
       "  'where': '0',\n",
       "  'why': 'Academy Awards nominations',\n",
       "  'how': '0'},\n",
       " '196': {'who': '0',\n",
       "  'what': '0',\n",
       "  'when': '0',\n",
       "  'where': '0',\n",
       "  'why': 'Jacob Rees - Mogg',\n",
       "  'how': 'becomes Brexit opportunities minister as UK Prime Minister Boris Johnson'},\n",
       " '197': {'who': '0',\n",
       "  'what': '0',\n",
       "  'when': '0',\n",
       "  'where': '0',\n",
       "  'why': '0',\n",
       "  'how': 'the original host of TV quiz show University Challenge ,'},\n",
       " '198': {'who': 'The Queen',\n",
       "  'what': 'announces she',\n",
       "  'when': '0',\n",
       "  'where': '0',\n",
       "  'why': '0',\n",
       "  'how': 'Queen when Prince Charles becomes King'},\n",
       " '199': {'who': '0',\n",
       "  'what': '0',\n",
       "  'when': '0',\n",
       "  'where': '0',\n",
       "  'why': '0',\n",
       "  'how': 'A little boy whose painstaking rescue from a well gripped'},\n",
       " '200': {'who': '0',\n",
       "  'what': '0',\n",
       "  'when': '0',\n",
       "  'where': '0',\n",
       "  'why': '0',\n",
       "  'how': 'named locally as Rayan , dies after being rescued from'},\n",
       " '201': {'who': 'Five - year - old boy',\n",
       "  'what': 'taken out of deep well in Morocco after four days',\n",
       "  'when': '0',\n",
       "  'where': '0',\n",
       "  'why': '0',\n",
       "  'how': 'of deep well in Morocco after four days trapped inside'},\n",
       " '202': {'who': '0',\n",
       "  'what': '0',\n",
       "  'when': '0',\n",
       "  'where': '0',\n",
       "  'why': 'Boris Johnson names',\n",
       "  'how': 'names new No 10 chief of staff and communications head'},\n",
       " '203': {'who': '0',\n",
       "  'what': '0',\n",
       "  'when': '0',\n",
       "  'where': '0',\n",
       "  'why': '0',\n",
       "  'how': 'Second senior aide to UK PM Boris Johnson , communications'},\n",
       " '204': {'who': '0',\n",
       "  'what': '0',\n",
       "  'when': '0',\n",
       "  'where': '0',\n",
       "  'why': \"The DUP 's Paul Givan\",\n",
       "  'how': 'deputy first minister also ejected from office .'},\n",
       " '205': {'who': \"UK PM Boris Johnson 's policy chief Munira Mirza\",\n",
       "  'what': 'quits , condemning his \" inappropriate \" attack',\n",
       "  'when': '0',\n",
       "  'where': '0',\n",
       "  'why': '0',\n",
       "  'how': 'inappropriate \" attack on Keir Starmer over Jimmy Savile'},\n",
       " '206': {'who': '0',\n",
       "  'what': '0',\n",
       "  'when': '0',\n",
       "  'where': '0',\n",
       "  'why': '0',\n",
       "  'how': '0'},\n",
       " '207': {'who': '0',\n",
       "  'what': '0',\n",
       "  'when': '0',\n",
       "  'where': '0',\n",
       "  'why': '0',\n",
       "  'how': 'with average households facing annual increase of £ 693 .'},\n",
       " '208': {'who': '0',\n",
       "  'what': '0',\n",
       "  'when': '0',\n",
       "  'where': 'Europe',\n",
       "  'why': 'US',\n",
       "  'how': 'to eastern Europe amid tensions over a Russian military build'},\n",
       " '209': {'who': '0',\n",
       "  'what': '0',\n",
       "  'when': '0',\n",
       "  'where': '0',\n",
       "  'why': '0',\n",
       "  'how': 'of sexual assault and making threats to kill .'},\n",
       " '210': {'who': 'I',\n",
       "  'what': \"'m sorry for the things\",\n",
       "  'when': '0',\n",
       "  'where': '0',\n",
       "  'why': 'I',\n",
       "  'how': \"'m sorry for the things we simply did n't get\"},\n",
       " '211': {'who': '0',\n",
       "  'what': '0',\n",
       "  'when': '0',\n",
       "  'where': '0',\n",
       "  'why': 'No 10',\n",
       "  'how': 'hosted several lockdown parties and events that \" should not'},\n",
       " '212': {'who': '0',\n",
       "  'what': '0',\n",
       "  'when': '0',\n",
       "  'where': '0',\n",
       "  'why': '0',\n",
       "  'how': 'difficult to justify \" .'},\n",
       " '213': {'who': '0',\n",
       "  'what': '0',\n",
       "  'when': '0',\n",
       "  'where': 'Downing Street',\n",
       "  'why': '0',\n",
       "  'how': '’s initial findings on lockdown parties at Downing Street published'},\n",
       " '214': {'who': '0',\n",
       "  'what': '0',\n",
       "  'when': '0',\n",
       "  'where': '0',\n",
       "  'why': 'UK Prime Minister Boris Johnson',\n",
       "  'how': ', ahead of expected public release today .'},\n",
       " '215': {'who': '0',\n",
       "  'what': '0',\n",
       "  'when': '0',\n",
       "  'where': '0',\n",
       "  'why': 'Boris Johnson and Rishi Sunak',\n",
       "  'how': '0'},\n",
       " '216': {'who': 'Sue Gray',\n",
       "  'what': 'expected to deliver her report PM without waiting for police inquiry to conclude',\n",
       "  'when': '0',\n",
       "  'where': '0',\n",
       "  'why': '0',\n",
       "  'how': 'police inquiry to conclude'},\n",
       " '217': {'who': 'Gray',\n",
       "  'what': 'are investigating',\n",
       "  'when': '0',\n",
       "  'where': '0',\n",
       "  'why': \"London 's Met Police investigating No 10 lockdown parties\",\n",
       "  'how': 'minimal reference \" to events they are investigating .'},\n",
       " '218': {'who': '0',\n",
       "  'what': '0',\n",
       "  'when': '0',\n",
       "  'where': '0',\n",
       "  'why': '0',\n",
       "  'how': ', beloved personality who became one of the most prolific'},\n",
       " '219': {'who': '0',\n",
       "  'what': '0',\n",
       "  'when': '0',\n",
       "  'where': '0',\n",
       "  'why': '0',\n",
       "  'how': 'dies aged 86 .'},\n",
       " '220': {'who': '0',\n",
       "  'what': '0',\n",
       "  'when': '0',\n",
       "  'where': '0',\n",
       "  'why': '0',\n",
       "  'how': '0'},\n",
       " '221': {'who': '0',\n",
       "  'what': '0',\n",
       "  'when': '0',\n",
       "  'where': 'Downing Street',\n",
       "  'why': 'I',\n",
       "  'how': '“ potential breaches of Covid - 19 regulations ” .'},\n",
       " '222': {'who': '0',\n",
       "  'what': '0',\n",
       "  'when': '0',\n",
       "  'where': 'Heidelberg',\n",
       "  'why': '0',\n",
       "  'how': 'gunman dead after injuring several people at university in Heidelberg'},\n",
       " '223': {'who': 'Ghani',\n",
       "  'what': 'was raised as reason why she',\n",
       "  'when': '0',\n",
       "  'where': '0',\n",
       "  'why': 'she',\n",
       "  'how': 'her Muslim faith was raised as reason why she was'},\n",
       " '224': {'who': '0',\n",
       "  'what': '0',\n",
       "  'when': '0',\n",
       "  'where': '0',\n",
       "  'why': '0',\n",
       "  'how': 'the best - selling of all time , dies aged'},\n",
       " '225': {'who': 'Ex-pope Benedict',\n",
       "  'what': 'failed to act over four child abuse cases when he',\n",
       "  'when': '0',\n",
       "  'where': '0',\n",
       "  'why': 'Ex-pope Benedict',\n",
       "  'how': 'Ex-pope Benedict failed to act over four child abuse cases'},\n",
       " '226': {'who': '0',\n",
       "  'what': '0',\n",
       "  'when': '0',\n",
       "  'where': 'Republic',\n",
       "  'why': '0',\n",
       "  'how': '0'},\n",
       " '227': {'who': '0',\n",
       "  'what': '0',\n",
       "  'when': '0',\n",
       "  'where': '0',\n",
       "  'why': '0',\n",
       "  'how': 'and mandatory face mask rules to be dropped as England'},\n",
       " '228': {'who': '0',\n",
       "  'what': '0',\n",
       "  'when': '0',\n",
       "  'where': '0',\n",
       "  'why': '0',\n",
       "  'how': 'Conservative MP Christian Wakeford moves to opposition party , Labour'},\n",
       " '229': {'who': '0',\n",
       "  'what': '0',\n",
       "  'when': '0',\n",
       "  'where': '0',\n",
       "  'why': 'Two teenagers arrested in England as part of investigation into hostage - taking at Texas synagogue',\n",
       "  'how': 'part of investigation into hostage - taking at Texas synagogue'},\n",
       " '230': {'who': '0',\n",
       "  'what': '0',\n",
       "  'when': '0',\n",
       "  'where': '0',\n",
       "  'why': 'Irish police',\n",
       "  'how': 'Irish police investigating death of teacher Ashling Murphy arrest a'},\n",
       " '231': {'who': '0',\n",
       "  'what': '0',\n",
       "  'when': '0',\n",
       "  'where': '0',\n",
       "  'why': \"Scotland 's Covid rules\",\n",
       "  'how': ', large indoor events resuming and social distancing rules dropped'},\n",
       " '232': {'who': 'UK PM Boris Johnson \"',\n",
       "  'what': 'denies anyone',\n",
       "  'when': '0',\n",
       "  'where': '0',\n",
       "  'why': 'anyone',\n",
       "  'how': 'categorically \" denies anyone warned him the No 10'},\n",
       " '233': {'who': '0',\n",
       "  'what': '0',\n",
       "  'when': '0',\n",
       "  'where': '0',\n",
       "  'why': 'an island',\n",
       "  'how': 'by deadly tsunami , Tonga government says in first words'},\n",
       " '234': {'who': '0',\n",
       "  'what': '0',\n",
       "  'when': '0',\n",
       "  'where': '0',\n",
       "  'why': '0',\n",
       "  'how': 'British man , who took hostages at Texas synagogue ,'},\n",
       " '235': {'who': '0',\n",
       "  'what': '0',\n",
       "  'when': '0',\n",
       "  'where': '0',\n",
       "  'why': '0',\n",
       "  'how': 'as British citizen Malik Faisal Akram .'},\n",
       " '236': {'who': '0',\n",
       "  'what': '0',\n",
       "  'when': '0',\n",
       "  'where': '0',\n",
       "  'why': 'Judges',\n",
       "  'how': \"'s last - ditch appeal to remain in Australia .\"},\n",
       " '237': {'who': '0',\n",
       "  'what': '0',\n",
       "  'when': '0',\n",
       "  'where': '0',\n",
       "  'why': '0',\n",
       "  'how': 'makes last - ditch court appeal to stay in Australia'},\n",
       " '238': {'who': \"UK 's former head of Cabinet Office Covid taskforce Kate Josephs\",\n",
       "  'what': 'apologises for having leaving drinks',\n",
       "  'when': '0',\n",
       "  'where': '0',\n",
       "  'why': '0',\n",
       "  'how': \"'s former head of Cabinet Office Covid taskforce Kate Josephs\"},\n",
       " '239': {'who': 'Downing Street',\n",
       "  'what': 'apologises to the Queen',\n",
       "  'when': '0',\n",
       "  'where': '0',\n",
       "  'why': '0',\n",
       "  'how': 'two parties held in Downing Street the'},\n",
       " '240': {'who': '0',\n",
       "  'what': '0',\n",
       "  'when': '0',\n",
       "  'where': '0',\n",
       "  'why': \"UK Prime Minister Boris Johnson 's former director of communications James Slack\",\n",
       "  'how': \"'s former director of communications James Slack apologises for “\"},\n",
       " '241': {'who': '0',\n",
       "  'what': '0',\n",
       "  'when': '0',\n",
       "  'where': '0',\n",
       "  'why': 'Australia',\n",
       "  'how': 'a legal challenge now his only hope of defending Grand'},\n",
       " '242': {'who': '0',\n",
       "  'what': '0',\n",
       "  'when': '0',\n",
       "  'where': '0',\n",
       "  'why': 'Prince Andrew',\n",
       "  'how': 'loses military titles and patronages , and will no longer'},\n",
       " '243': {'who': '0',\n",
       "  'what': '0',\n",
       "  'when': '0',\n",
       "  'where': 'Covid',\n",
       "  'why': '0',\n",
       "  'how': 'test positive for Covid is being cut to five full'},\n",
       " '244': {'who': '0',\n",
       "  'what': '0',\n",
       "  'when': '0',\n",
       "  'where': '0',\n",
       "  'why': '0',\n",
       "  'how': 'Syrian man found guilty of crimes against humanity and sentenced'},\n",
       " '245': {'who': '0',\n",
       "  'what': '0',\n",
       "  'when': '0',\n",
       "  'where': '0',\n",
       "  'why': '0',\n",
       "  'how': 'deputy chief medical officer .'},\n",
       " '246': {'who': 'Prince Andrew',\n",
       "  'what': 'fails in his bid to get US',\n",
       "  'when': '0',\n",
       "  'where': '0',\n",
       "  'why': 'Prince Andrew',\n",
       "  'how': 'dismiss civil case which alleges he sexually assaulted Virginia Giuffre'},\n",
       " '247': {'who': 'Johnson',\n",
       "  'what': 'takes responsibility',\n",
       "  'when': 'May 2020',\n",
       "  'where': '0',\n",
       "  'why': 'he',\n",
       "  'how': 'he apologises for attending party in Downing Street garden ,'},\n",
       " '248': {'who': '0',\n",
       "  'what': '0',\n",
       "  'when': '0',\n",
       "  'where': '0',\n",
       "  'why': '0',\n",
       "  'how': 'on large outdoor events in Scotland to be lifted from'},\n",
       " '249': {'who': '0',\n",
       "  'what': '0',\n",
       "  'when': '0',\n",
       "  'where': '0',\n",
       "  'why': 'Novak Djokovic',\n",
       "  'how': 'winning legal battle in Australia over visa .'},\n",
       " '250': {'who': '0',\n",
       "  'what': '0',\n",
       "  'when': '0',\n",
       "  'where': 'EU',\n",
       "  'why': '0',\n",
       "  'how': 'the hottest on record globally , EU satellite system data'},\n",
       " '251': {'who': '0',\n",
       "  'what': '0',\n",
       "  'when': '0',\n",
       "  'where': '0',\n",
       "  'why': '0',\n",
       "  'how': 'vaccine exemption row'},\n",
       " '252': {'who': '0',\n",
       "  'what': '0',\n",
       "  'when': '0',\n",
       "  'where': '0',\n",
       "  'why': '0',\n",
       "  'how': 'At least 19 people , including nine children , have'},\n",
       " '253': {'who': '0',\n",
       "  'what': '0',\n",
       "  'when': '0',\n",
       "  'where': '0',\n",
       "  'why': '0',\n",
       "  'how': 'a positive Covid test in the UK since the pandemic'},\n",
       " '254': {'who': '0',\n",
       "  'what': '0',\n",
       "  'when': '0',\n",
       "  'where': '0',\n",
       "  'why': '0',\n",
       "  'how': 'two white men who murdered black jogger Ahmaud Arbery as'},\n",
       " '255': {'who': '0',\n",
       "  'what': '0',\n",
       "  'when': '0',\n",
       "  'where': '0',\n",
       "  'why': '0',\n",
       "  'how': 'not yet needed as booster dose continues to provide high'},\n",
       " '256': {'who': '0',\n",
       "  'what': '0',\n",
       "  'when': '0',\n",
       "  'where': '0',\n",
       "  'why': '0',\n",
       "  'how': 'died aged 73 .'},\n",
       " '257': {'who': '0',\n",
       "  'what': '0',\n",
       "  'when': '0',\n",
       "  'where': '0',\n",
       "  'why': '0',\n",
       "  'how': 'the iconic actor and director .'},\n",
       " '258': {'who': '0',\n",
       "  'what': '0',\n",
       "  'when': '0',\n",
       "  'where': '0',\n",
       "  'why': '0',\n",
       "  'how': 'first black man to win a best actor Oscar ,'},\n",
       " '259': {'who': 'Djokovic',\n",
       "  'what': 'awaits deportation decision',\n",
       "  'when': '0',\n",
       "  'where': '0',\n",
       "  'why': 'he',\n",
       "  'how': '0'},\n",
       " '260': {'who': '0',\n",
       "  'what': '0',\n",
       "  'when': '0',\n",
       "  'where': '0',\n",
       "  'why': '0',\n",
       "  'how': 'as anti-government demonstrations continue .'},\n",
       " '261': {'who': '0',\n",
       "  'what': '0',\n",
       "  'when': '0',\n",
       "  'where': 'Capitol',\n",
       "  'why': '0',\n",
       "  'how': 'the American people \" and “ created a web of'},\n",
       " '262': {'who': 'visa',\n",
       "  'what': 'expected to appeal',\n",
       "  'when': '0',\n",
       "  'where': '0',\n",
       "  'why': 'Australia',\n",
       "  'how': '0'},\n",
       " '263': {'who': '0',\n",
       "  'what': '0',\n",
       "  'when': '0',\n",
       "  'where': '0',\n",
       "  'why': 'PCR tests',\n",
       "  'how': 'a positive lateral flow test but no Covid symptoms from'},\n",
       " '264': {'who': '0',\n",
       "  'what': '0',\n",
       "  'when': '0',\n",
       "  'where': '0',\n",
       "  'why': '0',\n",
       "  'how': 'shield fully deployed on James Webb Space Telescope , a'},\n",
       " '265': {'who': '0',\n",
       "  'what': '0',\n",
       "  'when': '0',\n",
       "  'where': '0',\n",
       "  'why': 'Ex-Silicon Valley CEO Elizabeth Holmes',\n",
       "  'how': 'found guilty of conspiring to defraud investors over blood -'},\n",
       " '266': {'who': '0',\n",
       "  'what': '0',\n",
       "  'when': '0',\n",
       "  'where': '0',\n",
       "  'why': '0',\n",
       "  'how': 'made public .'},\n",
       " '267': {'who': \"US television 's Golden Girl Betty White\",\n",
       "  'what': 'dies aged 99',\n",
       "  'when': '0',\n",
       "  'where': '0',\n",
       "  'why': '0',\n",
       "  'how': 'her comic acting over eight decades , dies aged 99'},\n",
       " '268': {'who': '0',\n",
       "  'what': '0',\n",
       "  'when': '0',\n",
       "  'where': '0',\n",
       "  'why': '0',\n",
       "  'how': 'trafficking teenage girls for abuse by Jeffrey Epstein .'},\n",
       " '269': {'who': 'Javid',\n",
       "  'what': 'will be no further Covid restrictions',\n",
       "  'when': '0',\n",
       "  'where': '0',\n",
       "  'why': 'There',\n",
       "  'how': 'remain cautious \" .'},\n",
       " '270': {'who': '0',\n",
       "  'what': '0',\n",
       "  'when': '0',\n",
       "  'where': '0',\n",
       "  'why': '0',\n",
       "  'how': 'died aged 90 .'},\n",
       " '271': {'who': '0',\n",
       "  'what': '0',\n",
       "  'when': '0',\n",
       "  'where': '0',\n",
       "  'why': 'The biggest space telescope',\n",
       "  'how': 'The biggest space telescope ever built lifts off into orbit'},\n",
       " '272': {'who': 'Former US police officer Kim Potter',\n",
       "  'what': 'found guilty of manslaughter for fatal shooting Daunte Wright , after claiming she',\n",
       "  'when': '0',\n",
       "  'where': '0',\n",
       "  'why': 'she',\n",
       "  'how': 'Former US police officer Kim Potter found guilty of manslaughter'},\n",
       " '273': {'who': '0',\n",
       "  'what': '0',\n",
       "  'when': '0',\n",
       "  'where': '0',\n",
       "  'why': '0',\n",
       "  'how': 'Percent less likely to need hospital care compared with previous'},\n",
       " '274': {'who': '0',\n",
       "  'what': '0',\n",
       "  'when': '0',\n",
       "  'where': '0',\n",
       "  'why': 'UK',\n",
       "  'how': '100,000 daily Covid cases for the first time since mass'},\n",
       " '275': {'who': '0',\n",
       "  'what': '0',\n",
       "  'when': '0',\n",
       "  'where': '0',\n",
       "  'why': '0',\n",
       "  'how': 'to vulnerable five to 11 year olds in UK ,'},\n",
       " '276': {'who': '0',\n",
       "  'what': '0',\n",
       "  'when': '0',\n",
       "  'where': 'Wales',\n",
       "  'why': '0',\n",
       "  'how': 'introduce new Covid restrictions from 26 December including rule of'},\n",
       " '277': {'who': 'Johnson',\n",
       "  'what': 'ca n’t rule out any further measures',\n",
       "  'when': '0',\n",
       "  'where': '0',\n",
       "  'why': '0',\n",
       "  'how': 'ca n’t rule out any further measures after Christmas ”'},\n",
       " '278': {'who': '0',\n",
       "  'what': '0',\n",
       "  'when': '0',\n",
       "  'where': '0',\n",
       "  'why': '0',\n",
       "  'how': 'other large events in Scotland cancelled as Covid rules tightened'},\n",
       " '279': {'who': '0',\n",
       "  'what': '0',\n",
       "  'when': '0',\n",
       "  'where': '0',\n",
       "  'why': '0',\n",
       "  'how': \"'s Strictly Come Dancing .\"},\n",
       " '280': {'who': 'UK Brexit minister Lord Frost',\n",
       "  'what': 'has reportedly resigned from the government',\n",
       "  'when': '0',\n",
       "  'where': '0',\n",
       "  'why': '0',\n",
       "  'how': 'has reportedly resigned from the government over its \" political'},\n",
       " '281': {'who': '0',\n",
       "  'what': '0',\n",
       "  'when': '0',\n",
       "  'where': '0',\n",
       "  'why': '0',\n",
       "  'how': 'into tight lockdown from Sunday to control spread of Omicron'},\n",
       " '282': {'who': \"UK 's top civil servant Simon Case\",\n",
       "  'what': 'will no longer lead inquiry',\n",
       "  'when': '0',\n",
       "  'where': 'Downing Street',\n",
       "  'why': 'it',\n",
       "  'how': \"'s top civil servant Simon Case will no longer lead\"},\n",
       " '283': {'who': '0',\n",
       "  'what': '0',\n",
       "  'when': '0',\n",
       "  'where': '0',\n",
       "  'why': '0',\n",
       "  'how': 'of young twins killed in south London house fire .'},\n",
       " '284': {'who': '0',\n",
       "  'what': '0',\n",
       "  'when': '0',\n",
       "  'where': 'North Shropshire',\n",
       "  'why': 'Liberal Democrats',\n",
       "  'how': 'Liberal Democrats overcome huge Conservative majority to win North Shropshire'},\n",
       " '285': {'who': '0',\n",
       "  'what': '0',\n",
       "  'when': '0',\n",
       "  'where': '0',\n",
       "  'why': 'Four children',\n",
       "  'how': '0'},\n",
       " '286': {'who': '0',\n",
       "  'what': '0',\n",
       "  'when': '0',\n",
       "  'where': 'Wales',\n",
       "  'why': 'Nightclubs',\n",
       "  'how': 'and social distancing will be required in offices to limit'},\n",
       " '287': {'who': '0',\n",
       "  'what': '0',\n",
       "  'when': '0',\n",
       "  'where': '0',\n",
       "  'why': 'Bank of England',\n",
       "  'how': '0'},\n",
       " '288': {'who': '0',\n",
       "  'what': '0',\n",
       "  'when': '0',\n",
       "  'where': '0',\n",
       "  'why': 'it',\n",
       "  'how': 'cancels pre-Christmas family lunch , with sources suggesting it could'},\n",
       " '289': {'who': '0',\n",
       "  'what': '0',\n",
       "  'when': '0',\n",
       "  'where': '0',\n",
       "  'why': 'others',\n",
       "  'how': 'others critically injured after falling from a bouncy castle that'},\n",
       " '290': {'who': 'UK',\n",
       "  'what': 'reports its highest number',\n",
       "  'when': '0',\n",
       "  'where': '0',\n",
       "  'why': 'UK',\n",
       "  'how': 'its highest number of daily coronavirus cases since pandemic began'},\n",
       " '291': {'who': '0',\n",
       "  'what': '0',\n",
       "  'when': '0',\n",
       "  'where': '0',\n",
       "  'why': 'Woman',\n",
       "  'how': 'catastrophic \" injuries .'},\n",
       " '292': {'who': 'Fuller',\n",
       "  'what': 'will spend the rest',\n",
       "  'when': '0',\n",
       "  'where': '0',\n",
       "  'why': 'he',\n",
       "  'how': 'Double murderer David Fuller who sexually abused more than 100'},\n",
       " '293': {'who': '0',\n",
       "  'what': '0',\n",
       "  'when': '0',\n",
       "  'where': '0',\n",
       "  'why': '0',\n",
       "  'how': '0'},\n",
       " '294': {'who': '0',\n",
       "  'what': '0',\n",
       "  'when': '0',\n",
       "  'where': '0',\n",
       "  'why': 'Covid',\n",
       "  'how': 'for large venues like nightclubs in England win backing of'},\n",
       " '295': {'who': '0',\n",
       "  'what': '0',\n",
       "  'when': '0',\n",
       "  'where': '0',\n",
       "  'why': '0',\n",
       "  'how': 'Belarusian opposition leader Sergei Tikhanovsky , who rallied mass protests'},\n",
       " '296': {'who': '0',\n",
       "  'what': '0',\n",
       "  'when': '0',\n",
       "  'where': '0',\n",
       "  'why': '0',\n",
       "  'how': \"found guilty of murdering her partner 's 16 - month\"},\n",
       " '297': {'who': '0',\n",
       "  'what': '0',\n",
       "  'when': '0',\n",
       "  'where': '0',\n",
       "  'why': 'US citizen Anne Sacoolas will face London court in January',\n",
       "  'how': 'by dangerous driving , prosecutors say .'},\n",
       " '298': {'who': '0',\n",
       "  'what': '0',\n",
       "  'when': '0',\n",
       "  'where': '0',\n",
       "  'why': '0',\n",
       "  'how': \"declared void by European football 's governing body Uefa and\"},\n",
       " '299': {'who': '0',\n",
       "  'what': '0',\n",
       "  'when': '0',\n",
       "  'where': '0',\n",
       "  'why': '0',\n",
       "  'how': '0'},\n",
       " '300': {'who': 'UK PM Boris Johnson',\n",
       "  'what': 'warns , as he',\n",
       "  'when': '0',\n",
       "  'where': '0',\n",
       "  'why': 'There',\n",
       "  'how': 'a tidal wave of Omicron coming , \" UK PM'},\n",
       " '301': {'who': \"UK 's Covid alert level\",\n",
       "  'what': 'raised to level four due to the spread',\n",
       "  'when': '0',\n",
       "  'where': '0',\n",
       "  'why': '0',\n",
       "  'how': \"'s chief medical officers say .\"},\n",
       " '302': {'who': '0',\n",
       "  'what': '0',\n",
       "  'when': '0',\n",
       "  'where': '0',\n",
       "  'why': 'More than 70 people',\n",
       "  'how': '0'},\n",
       " '303': {'who': '0',\n",
       "  'what': '0',\n",
       "  'when': '0',\n",
       "  'where': '0',\n",
       "  'why': 'UK',\n",
       "  'how': 'faces substantial wave of Omicron infections in January without further'},\n",
       " '304': {'who': '0',\n",
       "  'what': '0',\n",
       "  'when': '0',\n",
       "  'where': '0',\n",
       "  'why': 'tornadoes',\n",
       "  'how': 'feared dead as tornadoes hit several US states including Kentucky'},\n",
       " '305': {'who': '0',\n",
       "  'what': '0',\n",
       "  'when': '0',\n",
       "  'where': '0',\n",
       "  'why': '0',\n",
       "  'how': 'dies aged 78 .'},\n",
       " '306': {'who': '0',\n",
       "  'what': '0',\n",
       "  'when': '0',\n",
       "  'where': '0',\n",
       "  'why': '0',\n",
       "  'how': 'against symptomatic infection .'},\n",
       " '307': {'who': '0',\n",
       "  'what': '0',\n",
       "  'when': '0',\n",
       "  'where': '0',\n",
       "  'why': '0',\n",
       "  'how': 'Assange closer to being extradited from UK to US ,'},\n",
       " '308': {'who': '0',\n",
       "  'what': '0',\n",
       "  'when': '0',\n",
       "  'where': '0',\n",
       "  'why': '0',\n",
       "  'how': 'At least 54 killed and more than 100 injured after'},\n",
       " '309': {'who': 'UK Prime Minister Boris Johnson and his wife Carrie',\n",
       "  'what': 'announce birth of healthy baby girl',\n",
       "  'when': '0',\n",
       "  'where': '0',\n",
       "  'why': '0',\n",
       "  'how': 'of healthy baby girl .'},\n",
       " '310': {'who': '0',\n",
       "  'what': '0',\n",
       "  'when': '0',\n",
       "  'where': '0',\n",
       "  'why': 'England',\n",
       "  'how': 'part of Plan B restrictions for England announced by Prime'},\n",
       " '311': {'who': 'Allegra Stratton',\n",
       "  'what': 'gives a tearful statement',\n",
       "  'when': '0',\n",
       "  'where': '0',\n",
       "  'why': 'she',\n",
       "  'how': 'a tearful statement as she resigns as government adviser ,'},\n",
       " '312': {'who': 'UK government spokeswoman Allegra Stratton',\n",
       "  'what': 'resigns after she',\n",
       "  'when': '0',\n",
       "  'where': 'Downing Street',\n",
       "  'why': 'she',\n",
       "  'how': 'she was seen in video joking about lockdown'},\n",
       " '313': {'who': 'Chief of Defence Staff Gen Bipin Rawat , his wife and 11 others',\n",
       "  'what': 'were travelling in a helicopter',\n",
       "  'when': '0',\n",
       "  'where': 'Coonoor',\n",
       "  'why': '0',\n",
       "  'how': '0'},\n",
       " '314': {'who': \"India 's top military commander\",\n",
       "  'what': 'dies in helicopter crash in south',\n",
       "  'when': '0',\n",
       "  'where': '0',\n",
       "  'why': '0',\n",
       "  'how': \"'s top military commander dies in helicopter crash in south\"},\n",
       " '315': {'who': 'I',\n",
       "  'what': 'was also furious to see that clip',\n",
       "  'when': '0',\n",
       "  'where': '0',\n",
       "  'why': 'I',\n",
       "  'how': 'was also furious to see that clip ” UK Prime'},\n",
       " '316': {'who': '0',\n",
       "  'what': '0',\n",
       "  'when': '0',\n",
       "  'where': '0',\n",
       "  'why': '0',\n",
       "  'how': 'video where staff joked about lockdown'},\n",
       " '317': {'who': '0',\n",
       "  'what': '0',\n",
       "  'when': '0',\n",
       "  'where': '0',\n",
       "  'why': 'Suspect',\n",
       "  'how': '0'},\n",
       " '318': {'who': '0',\n",
       "  'what': '0',\n",
       "  'when': '0',\n",
       "  'where': '0',\n",
       "  'why': '0',\n",
       "  'how': \"announces diplomatic boycott of China 's 2022 Winter Olympics in\"},\n",
       " '319': {'who': '0',\n",
       "  'what': '0',\n",
       "  'when': '0',\n",
       "  'where': '0',\n",
       "  'why': '0',\n",
       "  'how': '0'},\n",
       " '320': {'who': '0',\n",
       "  'what': '0',\n",
       "  'when': '0',\n",
       "  'where': '0',\n",
       "  'why': '0',\n",
       "  'how': 'be subject of national review to protect other children from'},\n",
       " '321': {'who': 'Parents of boy',\n",
       "  'what': 'suspected of killing four students',\n",
       "  'when': '0',\n",
       "  'where': '0',\n",
       "  'why': 'Parents of boy',\n",
       "  'how': 'US high school charged with involuntary manslaughter , alleging several'},\n",
       " '322': {'who': 'Father of six - year - old Arthur Labinjo - Hughes',\n",
       "  'what': 'is jailed for 21 years for a minimum',\n",
       "  'when': '0',\n",
       "  'where': '0',\n",
       "  'why': '0',\n",
       "  'how': 'a minimum of'},\n",
       " '323': {'who': '0',\n",
       "  'what': '0',\n",
       "  'when': '0',\n",
       "  'where': '0',\n",
       "  'why': 'Germany',\n",
       "  'how': 'ban unvaccinated people from large parts of public life ,'},\n",
       " '324': {'who': 'Meghan , Duchess of Sussex ,',\n",
       "  'what': 'wins latest stage',\n",
       "  'when': '0',\n",
       "  'where': '0',\n",
       "  'why': 'Meghan , Duchess of Sussex ,',\n",
       "  'how': 'wins latest stage in privacy fight against Mail on Sunday'},\n",
       " '325': {'who': '0',\n",
       "  'what': '0',\n",
       "  'when': '0',\n",
       "  'where': '0',\n",
       "  'why': 'MI6 chief',\n",
       "  'how': 'of Chinese \" debt traps and data traps \" and'},\n",
       " '326': {'who': '0',\n",
       "  'what': '0',\n",
       "  'when': '0',\n",
       "  'where': '0',\n",
       "  'why': '0',\n",
       "  'how': 'as chief executive , media reports say .'},\n",
       " '327': {'who': '0',\n",
       "  'what': '0',\n",
       "  'when': '0',\n",
       "  'where': '0',\n",
       "  'why': '0',\n",
       "  'how': 'Covid booster jabs should be offered to all UK over-18s'},\n",
       " '328': {'who': '0',\n",
       "  'what': '0',\n",
       "  'when': '0',\n",
       "  'where': '0',\n",
       "  'why': '0',\n",
       "  'how': 'more likely to be found in the coming days .'},\n",
       " '329': {'who': '0',\n",
       "  'what': '0',\n",
       "  'when': '0',\n",
       "  'where': '0',\n",
       "  'why': '0',\n",
       "  'how': 'of greatest team owners .'},\n",
       " '330': {'who': '0',\n",
       "  'what': '0',\n",
       "  'when': '0',\n",
       "  'where': '0',\n",
       "  'why': '0',\n",
       "  'how': 'most successful in the sport , has died .'},\n",
       " '331': {'who': '0',\n",
       "  'what': '0',\n",
       "  'when': '0',\n",
       "  'where': '0',\n",
       "  'why': '0',\n",
       "  'how': 'the new Covid variant , Omicron , health secretary says'},\n",
       " '332': {'who': '0',\n",
       "  'what': '0',\n",
       "  'when': '0',\n",
       "  'where': '0',\n",
       "  'why': '0',\n",
       "  'how': ', legendary US composer and lyricist who became a giant'},\n",
       " '333': {'who': 'her father in Iraq',\n",
       "  'what': 'tells BBC of his grief',\n",
       "  'when': '0',\n",
       "  'where': '0',\n",
       "  'why': '0',\n",
       "  'how': 'Kurdish woman named Maryam , 24 , is first victim'},\n",
       " '334': {'who': '0',\n",
       "  'what': '0',\n",
       "  'when': '0',\n",
       "  'where': '0',\n",
       "  'why': 'because of new coronavirus variant concerns Latest .',\n",
       "  'how': 'other African countries because of new coronavirus variant concerns Latest'},\n",
       " '335': {'who': '0',\n",
       "  'what': '0',\n",
       "  'when': '0',\n",
       "  'where': '0',\n",
       "  'why': '0',\n",
       "  'how': 'New variant of concern , named Omicron by World Health'},\n",
       " '336': {'who': '0',\n",
       "  'what': '0',\n",
       "  'when': '0',\n",
       "  'where': '0',\n",
       "  'why': '0',\n",
       "  'how': 'Preliminary evidence suggests new Covid variant B. 1.1.529 carries higher'},\n",
       " '337': {'who': '0',\n",
       "  'what': '0',\n",
       "  'when': '0',\n",
       "  'where': '0',\n",
       "  'why': 'European Union',\n",
       "  'how': 'from southern African countries affected by new Covid variant .'},\n",
       " '338': {'who': '0',\n",
       "  'what': '0',\n",
       "  'when': '0',\n",
       "  'where': '0',\n",
       "  'why': 'France',\n",
       "  'how': 'cancels high - level migrant talks in protest at letter'},\n",
       " '339': {'who': '0',\n",
       "  'what': '0',\n",
       "  'when': '0',\n",
       "  'where': '0',\n",
       "  'why': 'Travellers arriving into UK from several southern African countries',\n",
       "  'how': 'from several southern African countries will have to quarantine amid'},\n",
       " '340': {'who': '0',\n",
       "  'what': '0',\n",
       "  'when': '0',\n",
       "  'where': '0',\n",
       "  'why': '0',\n",
       "  'how': 'at Siberian coal mine rises to 52 , as rescue'},\n",
       " '341': {'who': '0',\n",
       "  'what': '0',\n",
       "  'when': '0',\n",
       "  'where': '0',\n",
       "  'why': 'Five people',\n",
       "  'how': 'at least 27 people who died trying to cross the'},\n",
       " '342': {'who': '0',\n",
       "  'what': '0',\n",
       "  'when': '0',\n",
       "  'where': '0',\n",
       "  'why': '0',\n",
       "  'how': 'of black jogger Ahmaud Arbery , who was chased and'},\n",
       " '343': {'who': '0',\n",
       "  'what': '0',\n",
       "  'when': '0',\n",
       "  'where': '0',\n",
       "  'why': 'I',\n",
       "  'how': \"'m shocked and appalled ... by the loss of life\"},\n",
       " '344': {'who': '0',\n",
       "  'what': '0',\n",
       "  'when': '0',\n",
       "  'where': '0',\n",
       "  'why': '0',\n",
       "  'how': '0'},\n",
       " '345': {'who': 'At least 30 migrants',\n",
       "  'what': 'have died while heading for the UK , after their boat',\n",
       "  'when': '0',\n",
       "  'where': '0',\n",
       "  'why': '0',\n",
       "  'how': 'At least 30 migrants have died while heading for the'},\n",
       " '346': {'who': 'migrants',\n",
       "  'what': 'sinks',\n",
       "  'when': '0',\n",
       "  'where': '0',\n",
       "  'why': 'Several migrants headed for UK',\n",
       "  'how': 'Several migrants headed for UK drown in English Channel near'},\n",
       " '347': {'who': '0',\n",
       "  'what': '0',\n",
       "  'when': '0',\n",
       "  'where': '0',\n",
       "  'why': '0',\n",
       "  'how': 'found guilty of conspiring to blackmail former teammate with sex'},\n",
       " '348': {'who': 'I',\n",
       "  'what': \"'m sorry I\",\n",
       "  'when': '0',\n",
       "  'where': '0',\n",
       "  'why': '0',\n",
       "  'how': \"'m sorry I targeted Prince Harry 's ex-girlfriend , says\"},\n",
       " '349': {'who': 'Bulb',\n",
       "  'what': 'will enter administration',\n",
       "  'when': '0',\n",
       "  'where': '0',\n",
       "  'why': 'it',\n",
       "  'how': '0'},\n",
       " '350': {'who': '0',\n",
       "  'what': '0',\n",
       "  'when': '0',\n",
       "  'where': '0',\n",
       "  'why': 'car',\n",
       "  'how': 'At least five dead and more than 40 injured ,'},\n",
       " '351': {'who': 'driver',\n",
       "  'what': 'is alive',\n",
       "  'when': '0',\n",
       "  'where': '0',\n",
       "  'why': 'it',\n",
       "  'how': 'is alive and he is “ thankful that no -'},\n",
       " '352': {'who': '0',\n",
       "  'what': '0',\n",
       "  'when': '0',\n",
       "  'where': '0',\n",
       "  'why': '0',\n",
       "  'how': 'during racial justice protests , cleared of homicide after claiming'},\n",
       " '353': {'who': '0',\n",
       "  'what': '0',\n",
       "  'when': '0',\n",
       "  'where': '0',\n",
       "  'why': 'Joe Biden',\n",
       "  'how': 'given presidential powers while Joe Biden is under anaesthesia for'},\n",
       " '354': {'who': 'migrants',\n",
       "  'what': 'were helped to cross into Poland but denies inviting them',\n",
       "  'when': '0',\n",
       "  'where': '0',\n",
       "  'why': 'migrants',\n",
       "  'how': 'an exclusive BBC interview .'},\n",
       " '355': {'who': '0',\n",
       "  'what': '0',\n",
       "  'when': '0',\n",
       "  'where': '0',\n",
       "  'why': 'Austria',\n",
       "  'how': 'in full national lockdown and makes vaccines compulsory after new'},\n",
       " '356': {'who': '0',\n",
       "  'what': '0',\n",
       "  'when': '0',\n",
       "  'where': '0',\n",
       "  'why': 'Narendra Modi',\n",
       "  'how': 'Indian PM Narendra Modi has announced the repeal of three'},\n",
       " '357': {'who': '0',\n",
       "  'what': '0',\n",
       "  'when': '0',\n",
       "  'where': 'Mediterranean',\n",
       "  'why': '0',\n",
       "  'how': 'British F - 35 fighter jet crashes during routine operation'},\n",
       " '358': {'who': 'Liverpool bomber Emad Al Swealmeen',\n",
       "  'what': 'began making purchases',\n",
       "  'when': '0',\n",
       "  'where': '0',\n",
       "  'why': 'Liverpool bomber Emad Al Swealmeen',\n",
       "  'how': 'his attack in'},\n",
       " '359': {'who': '0',\n",
       "  'what': '0',\n",
       "  'when': '0',\n",
       "  'where': '0',\n",
       "  'why': '0',\n",
       "  'how': 'measured by the Consumer Prices Index , hit 4.2 Percent'},\n",
       " '360': {'who': '0',\n",
       "  'what': '0',\n",
       "  'when': '0',\n",
       "  'where': '0',\n",
       "  'why': '0',\n",
       "  'how': 'begins highly anticipated virtual meeting with Chinese counterpart Xi Jinping'},\n",
       " '361': {'who': '0',\n",
       "  'what': '0',\n",
       "  'when': '0',\n",
       "  'where': '0',\n",
       "  'why': '0',\n",
       "  'how': '0'},\n",
       " '362': {'who': 'Police',\n",
       "  'what': 'believe the man',\n",
       "  'when': '0',\n",
       "  'where': \"Women 's Hospital\",\n",
       "  'why': 'they',\n",
       "  'how': '0'},\n",
       " '363': {'who': '0',\n",
       "  'what': '0',\n",
       "  'when': '0',\n",
       "  'where': '0',\n",
       "  'why': 'UK terror threat level raised to severe from substantial , meaning attack',\n",
       "  'how': 'to severe from substantial , meaning attack is “ highly'},\n",
       " '364': {'who': 'An improvised explosive device',\n",
       "  'what': 'has been manufactured',\n",
       "  'when': '0',\n",
       "  'where': '0',\n",
       "  'why': 'Russ Jackson',\n",
       "  'how': 'improvised explosive device has been manufactured and our assumption so'},\n",
       " '365': {'who': '0',\n",
       "  'what': '0',\n",
       "  'when': '0',\n",
       "  'where': \"Women 's Hospital\",\n",
       "  'why': '0',\n",
       "  'how': \"one person killed in car explosion outside Liverpool Women 's\"},\n",
       " '366': {'who': '0',\n",
       "  'what': '0',\n",
       "  'when': '0',\n",
       "  'where': '0',\n",
       "  'why': 'Glasgow',\n",
       "  'how': 'coal power'},\n",
       " '367': {'who': '0',\n",
       "  'what': '0',\n",
       "  'when': '0',\n",
       "  'where': '0',\n",
       "  'why': 'Glasgow climate',\n",
       "  'how': 'coal power'},\n",
       " '368': {'who': '0',\n",
       "  'what': '0',\n",
       "  'when': '0',\n",
       "  'where': '0',\n",
       "  'why': '0',\n",
       "  'how': 'New global climate deal agreed at COP26 in Glasgow after'},\n",
       " '369': {'who': 'The husband of British - Iranian detainee Nazanin Zaghari - Ratcliffe',\n",
       "  'what': 'is ending his hunger strike',\n",
       "  'when': '0',\n",
       "  'where': '0',\n",
       "  'why': 'The husband of British - Iranian detainee Nazanin Zaghari - Ratcliffe',\n",
       "  'how': 'of British - Iranian detainee Nazanin Zaghari - Ratcliffe is'},\n",
       " '370': {'who': '0',\n",
       "  'what': '0',\n",
       "  'when': '0',\n",
       "  'where': '0',\n",
       "  'why': '0',\n",
       "  'how': 'the latest developments .'},\n",
       " '371': {'who': '0',\n",
       "  'what': '0',\n",
       "  'when': '0',\n",
       "  'where': '0',\n",
       "  'why': '0',\n",
       "  'how': 'Myanmar military court .'},\n",
       " '372': {'who': '0',\n",
       "  'what': '0',\n",
       "  'when': '0',\n",
       "  'where': '0',\n",
       "  'why': '0',\n",
       "  'how': 'in central London following break from engagements on medical advice'},\n",
       " '373': {'who': '0',\n",
       "  'what': '0',\n",
       "  'when': '0',\n",
       "  'where': 'Yorkshire',\n",
       "  'why': \"Yorkshire 's chief executive Mark Arthur\",\n",
       "  'how': \"'s chief executive Mark Arthur resigns over cricket club 's\"},\n",
       " '374': {'who': '0',\n",
       "  'what': '0',\n",
       "  'when': '0',\n",
       "  'where': '0',\n",
       "  'why': '0',\n",
       "  'how': 'the last president of a segregated South Africa , who'},\n",
       " '375': {'who': '0',\n",
       "  'what': '0',\n",
       "  'when': '0',\n",
       "  'where': '0',\n",
       "  'why': '0',\n",
       "  'how': 'work together on climate action , saying they recognise \"'},\n",
       " '376': {'who': '0',\n",
       "  'what': '0',\n",
       "  'when': '0',\n",
       "  'where': '0',\n",
       "  'why': '0',\n",
       "  'how': '0'},\n",
       " '377': {'who': '0',\n",
       "  'what': '0',\n",
       "  'when': '0',\n",
       "  'where': '0',\n",
       "  'why': 'many',\n",
       "  'how': 'At least eight people killed and many injured after crowd'},\n",
       " '378': {'who': '0',\n",
       "  'what': '0',\n",
       "  'when': '0',\n",
       "  'where': '0',\n",
       "  'why': '0',\n",
       "  'how': 'a major domestic victory for President Joe Biden .'},\n",
       " '379': {'who': '0',\n",
       "  'what': '0',\n",
       "  'when': '0',\n",
       "  'where': '0',\n",
       "  'why': 'Greta Thunberg',\n",
       "  'how': '0'},\n",
       " '380': {'who': '0',\n",
       "  'what': '0',\n",
       "  'when': '0',\n",
       "  'where': '0',\n",
       "  'why': 'Experimental pill , developed by Pfizer to treat Covid ,',\n",
       "  'how': 'Experimental pill , developed by Pfizer to treat Covid ,'},\n",
       " '381': {'who': 'Yorkshire chairman Roger Hutton',\n",
       "  'what': \"resigns over the cricket club 's to racism\",\n",
       "  'when': '0',\n",
       "  'where': '0',\n",
       "  'why': 'Yorkshire chairman Roger Hutton',\n",
       "  'how': 'by former player Azeem Rafiq .'},\n",
       " '382': {'who': 'Entertainer , presenter and dancer Lionel Blair',\n",
       "  'what': 'has died aged 92',\n",
       "  'when': '0',\n",
       "  'where': '0',\n",
       "  'why': '0',\n",
       "  'how': 'died aged 92 , his agent says .'},\n",
       " '383': {'who': '0',\n",
       "  'what': '0',\n",
       "  'when': '0',\n",
       "  'where': '0',\n",
       "  'why': 'England',\n",
       "  'how': 'by former player Azeem Rafiq .'},\n",
       " '384': {'who': '0',\n",
       "  'what': '0',\n",
       "  'when': '0',\n",
       "  'where': '0',\n",
       "  'why': '0',\n",
       "  'how': 'Conservative MP Owen Paterson , at centre of UK government'},\n",
       " '385': {'who': '0',\n",
       "  'what': '0',\n",
       "  'when': '0',\n",
       "  'where': '0',\n",
       "  'why': 'UK',\n",
       "  'how': 'treat symptomatic Covid in the most vulnerable patients .'},\n",
       " '386': {'who': '0',\n",
       "  'what': '0',\n",
       "  'when': '0',\n",
       "  'where': '0',\n",
       "  'why': '0',\n",
       "  'how': 'found alive in Australia more than two weeks after vanishing'},\n",
       " '387': {'who': '0',\n",
       "  'what': '0',\n",
       "  'when': '0',\n",
       "  'where': '0',\n",
       "  'why': 'Former Fifa officials Sepp Blatter and Michel Platini',\n",
       "  'how': 'Former Fifa officials Sepp Blatter and Michel Platini charged with'},\n",
       " '388': {'who': '0',\n",
       "  'what': '0',\n",
       "  'when': '0',\n",
       "  'where': '0',\n",
       "  'why': 'At least 80 countries',\n",
       "  'how': 'At least 80 countries sign up to pledge to slash'},\n",
       " '389': {'who': '0',\n",
       "  'what': '0',\n",
       "  'when': '0',\n",
       "  'where': '0',\n",
       "  'why': '0',\n",
       "  'how': 'plead guilty to taking and sharing photos of the bodies'},\n",
       " '390': {'who': '0',\n",
       "  'what': '0',\n",
       "  'when': '0',\n",
       "  'where': '0',\n",
       "  'why': '0',\n",
       "  'how': 'First major deal at COP26 climate summit sees 100 nations'},\n",
       " '391': {'who': '0',\n",
       "  'what': '0',\n",
       "  'when': '0',\n",
       "  'where': '0',\n",
       "  'why': '0',\n",
       "  'how': 'achieve true statesmanship \" and create a \" safer ,'},\n",
       " '392': {'who': '0',\n",
       "  'what': '0',\n",
       "  'when': '0',\n",
       "  'where': '0',\n",
       "  'why': '0',\n",
       "  'how': '19 worldwide since start of pandemic , according to Johns'},\n",
       " '393': {'who': '0',\n",
       "  'what': '0',\n",
       "  'when': '0',\n",
       "  'where': '0',\n",
       "  'why': 'Representatives from 200 countries',\n",
       "  'how': 'of global warming .'},\n",
       " '394': {'who': '0',\n",
       "  'what': '0',\n",
       "  'when': '0',\n",
       "  'where': '0',\n",
       "  'why': '0',\n",
       "  'how': '0'},\n",
       " '395': {'who': '0',\n",
       "  'what': '0',\n",
       "  'when': '0',\n",
       "  'where': 'south Wales',\n",
       "  'why': 'one',\n",
       "  'how': 'a critical condition in hospital after a group of paddleboarders'},\n",
       " '396': {'who': 'Facebook',\n",
       "  'what': 'changes its name',\n",
       "  'when': '0',\n",
       "  'where': 'Meta',\n",
       "  'why': 'Facebook',\n",
       "  'how': 'in major rebrand .'},\n",
       " '397': {'who': '0',\n",
       "  'what': '0',\n",
       "  'when': '0',\n",
       "  'where': '0',\n",
       "  'why': '0',\n",
       "  'how': 'found guilty by majority verdict of endangering safety of an'},\n",
       " '398': {'who': '0',\n",
       "  'what': '0',\n",
       "  'when': '0',\n",
       "  'where': '0',\n",
       "  'why': 'Killer who randomly murdered sisters Nicole Smallman and Bibaa Henry in north - west London',\n",
       "  'how': 'who randomly murdered sisters Nicole Smallman and Bibaa Henry in'},\n",
       " '399': {'who': '0',\n",
       "  'what': '0',\n",
       "  'when': '0',\n",
       "  'where': '0',\n",
       "  'why': '0',\n",
       "  'how': 'be worse off next year amid rising costs and tax'},\n",
       " '400': {'who': '0',\n",
       "  'what': '0',\n",
       "  'when': '0',\n",
       "  'where': '0',\n",
       "  'why': 'UK Chancellor Rishi Sunak',\n",
       "  'how': \"Historic change ' to alcohol taxes in Britain ,\"},\n",
       " '401': {'who': '0',\n",
       "  'what': '0',\n",
       "  'when': '0',\n",
       "  'where': '0',\n",
       "  'why': 'children',\n",
       "  'how': 'experts back use of Pfizer Covid vaccine for children aged'},\n",
       " '402': {'who': 'Smallman',\n",
       "  'what': 'were reported missing',\n",
       "  'when': '0',\n",
       "  'where': '0',\n",
       "  'why': '0',\n",
       "  'how': 'failings in the way it responded when they were reported'},\n",
       " '403': {'who': '0',\n",
       "  'what': '0',\n",
       "  'when': '0',\n",
       "  'where': '0',\n",
       "  'why': 'there',\n",
       "  'how': 'after fatal shooting of Halyna Hutchins on film set .'},\n",
       " '404': {'who': 'Hollywood actor Alec Baldwin',\n",
       "  'what': 'discharged a prop gun',\n",
       "  'when': '0',\n",
       "  'where': '0',\n",
       "  'why': '0',\n",
       "  'how': 'his new film Rust - police .'},\n",
       " '405': {'who': '0',\n",
       "  'what': '0',\n",
       "  'when': '0',\n",
       "  'where': '0',\n",
       "  'why': '0',\n",
       "  'how': '0'},\n",
       " '406': {'who': '0',\n",
       "  'what': '0',\n",
       "  'when': '0',\n",
       "  'where': 'Castle',\n",
       "  'why': '0',\n",
       "  'how': 'is back at Windsor Castle and \" in good spirits'},\n",
       " '407': {'who': '0',\n",
       "  'what': '0',\n",
       "  'when': '0',\n",
       "  'where': '0',\n",
       "  'why': 'Ali Harbi Ali , 25 ,',\n",
       "  'how': 'of terrorist acts .'},\n",
       " '408': {'who': '0',\n",
       "  'what': '0',\n",
       "  'when': '0',\n",
       "  'where': '0',\n",
       "  'why': '0',\n",
       "  'how': '0'},\n",
       " '409': {'who': '0',\n",
       "  'what': '0',\n",
       "  'when': '0',\n",
       "  'where': '0',\n",
       "  'why': 'Gunman who killed 17 people in Parkland , Florida , in one of the deadliest US school shootings',\n",
       "  'how': 'the deadliest US school shootings pleads guilty to murder ,'},\n",
       " '410': {'who': '0',\n",
       "  'what': '0',\n",
       "  'when': '0',\n",
       "  'where': '0',\n",
       "  'why': '0',\n",
       "  'how': 'Multiple failures by UK police and prosecutors meant child abuse'},\n",
       " '411': {'who': 'Southend - on - Sea',\n",
       "  'what': 'will be \" accorded the city status \"',\n",
       "  'when': '0',\n",
       "  'where': '0',\n",
       "  'why': 'Queen',\n",
       "  'how': 'so clearly deserves \" , in honour of MP Sir'},\n",
       " '412': {'who': '0',\n",
       "  'what': '0',\n",
       "  'when': '0',\n",
       "  'where': '0',\n",
       "  'why': '0',\n",
       "  'how': 'a long - held ambition of the late MP Sir'},\n",
       " '413': {'who': '0',\n",
       "  'what': '0',\n",
       "  'when': '0',\n",
       "  'where': '0',\n",
       "  'why': '0',\n",
       "  'how': 'from humble background to first African - American US secretary'},\n",
       " '414': {'who': '0',\n",
       "  'what': '0',\n",
       "  'when': '0',\n",
       "  'where': '0',\n",
       "  'why': '0',\n",
       "  'how': 'first African - American US Secretary of State , has'},\n",
       " '415': {'who': '0',\n",
       "  'what': '0',\n",
       "  'when': '0',\n",
       "  'where': '0',\n",
       "  'why': '0',\n",
       "  'how': '0'},\n",
       " '416': {'who': '0',\n",
       "  'what': '0',\n",
       "  'when': '0',\n",
       "  'where': '0',\n",
       "  'why': 'further',\n",
       "  'how': '0'},\n",
       " '417': {'who': '0',\n",
       "  'what': '0',\n",
       "  'when': '0',\n",
       "  'where': '0',\n",
       "  'why': '0',\n",
       "  'how': 'The fatal stabbing of Conservative MP Sir David Amess in'},\n",
       " '418': {'who': 'Boris Johnson',\n",
       "  'what': 'pays tribute to Sir David Amess , who was killed after being stabbed in his constituency',\n",
       "  'when': '0',\n",
       "  'where': '0',\n",
       "  'why': 'He',\n",
       "  'how': 'the kindest , nicest , most gentle people in politics'},\n",
       " '419': {'who': '0',\n",
       "  'what': '0',\n",
       "  'when': '0',\n",
       "  'where': '0',\n",
       "  'why': '0',\n",
       "  'how': 'the prominent campaigner .'},\n",
       " '420': {'who': 'Conservative MP Sir David Amess',\n",
       "  'what': 'dies after being stabbed at his constituency surgery in Essex , UK',\n",
       "  'when': '0',\n",
       "  'where': '0',\n",
       "  'why': '0',\n",
       "  'how': 'Conservative MP Sir David Amess dies after being stabbed at'},\n",
       " '421': {'who': '0',\n",
       "  'what': '0',\n",
       "  'when': '0',\n",
       "  'where': 'Leigh - on - Sea',\n",
       "  'why': 'Aerial pictures',\n",
       "  'how': 'Aerial pictures show an air ambulance at the scene in'},\n",
       " '422': {'who': '0',\n",
       "  'what': '0',\n",
       "  'when': '0',\n",
       "  'where': 'Leigh - on - Sea',\n",
       "  'why': '0',\n",
       "  'how': 'Conservative MP Sir David Amess stabbed while holding constituency meeting'},\n",
       " '423': {'who': '0',\n",
       "  'what': '0',\n",
       "  'when': '0',\n",
       "  'where': '0',\n",
       "  'why': '0',\n",
       "  'how': '0'},\n",
       " '424': {'who': '0',\n",
       "  'what': '0',\n",
       "  'when': '0',\n",
       "  'where': 'Kandahar',\n",
       "  'why': '0',\n",
       "  'how': 'Many casualties feared after explosion hits Shia mosque during Friday'},\n",
       " '425': {'who': 'people',\n",
       "  'what': 'was negative , after being processed by one lab',\n",
       "  'when': '0',\n",
       "  'where': 'Wolverhampton',\n",
       "  'why': '0',\n",
       "  'how': 'been wrongly told their Covid PCR test was negative ,'},\n",
       " '426': {'who': '0',\n",
       "  'what': '0',\n",
       "  'when': '0',\n",
       "  'where': '0',\n",
       "  'why': '0',\n",
       "  'how': \"be streetwise following Sarah Everard 's murder by police officer\"},\n",
       " '427': {'who': '0',\n",
       "  'what': '0',\n",
       "  'when': '0',\n",
       "  'where': '0',\n",
       "  'why': '0',\n",
       "  'how': '0'},\n",
       " '428': {'who': '0',\n",
       "  'what': '0',\n",
       "  'when': '0',\n",
       "  'where': '0',\n",
       "  'why': '0',\n",
       "  'how': 'Man armed with bow and arrows kills several people and'},\n",
       " '429': {'who': '0',\n",
       "  'what': '0',\n",
       "  'when': '0',\n",
       "  'where': '0',\n",
       "  'why': '0',\n",
       "  'how': 'the oldest person to go to space .'},\n",
       " '430': {'who': '0',\n",
       "  'what': '0',\n",
       "  'when': '0',\n",
       "  'where': '0',\n",
       "  'why': '0',\n",
       "  'how': '\\'s early Covid response was \" one of the most'},\n",
       " '431': {'who': \"Austria 's Chancellor Sebastian Kurz\",\n",
       "  'what': 'resigns amid corruption probe , and proposes foreign minister',\n",
       "  'when': '0',\n",
       "  'where': '0',\n",
       "  'why': \"Austria 's Chancellor Sebastian Kurz\",\n",
       "  'how': 'proposes foreign minister as his successor .'},\n",
       " '432': {'who': 'ban',\n",
       "  'what': 'was blocked in a lower court',\n",
       "  'when': '0',\n",
       "  'where': '0',\n",
       "  'why': 'it',\n",
       "  'how': \"'s near total ban on abortions , two days after\"},\n",
       " '433': {'who': '0',\n",
       "  'what': '0',\n",
       "  'when': '0',\n",
       "  'where': '0',\n",
       "  'why': '0',\n",
       "  'how': 'Conservative MP and former UK government minister James Brokenshire ,'},\n",
       " '434': {'who': 'Journalists Maria Ressa and Dmitry Muratov',\n",
       "  'what': 'win Nobel Peace Prize',\n",
       "  'when': '0',\n",
       "  'where': '0',\n",
       "  'why': 'Journalists Maria Ressa and Dmitry Muratov',\n",
       "  'how': 'Muratov jointly win Nobel Peace Prize for their fight to'},\n",
       " '435': {'who': '0',\n",
       "  'what': '0',\n",
       "  'when': '0',\n",
       "  'where': '0',\n",
       "  'why': \"South Africa and Brazil among 47 destinations to be moved off UK 's travel red list from Monday , meaning passengers returning to England\",\n",
       "  'how': 'travel red list from Monday , meaning passengers returning to'},\n",
       " '436': {'who': '0',\n",
       "  'what': '0',\n",
       "  'when': '0',\n",
       "  'where': '0',\n",
       "  'why': '0',\n",
       "  'how': 'Saudi Arabian - backed takeover of Newcastle United football club'},\n",
       " '437': {'who': '0',\n",
       "  'what': '0',\n",
       "  'when': '0',\n",
       "  'where': 'Africa',\n",
       "  'why': 'Children across much of Africa',\n",
       "  'how': 'across much of Africa are to be vaccinated against malaria'},\n",
       " '438': {'who': '0',\n",
       "  'what': '0',\n",
       "  'when': '0',\n",
       "  'where': '0',\n",
       "  'why': '0',\n",
       "  'how': 'systematic failures \" that allowed Sarah Everard ’s killer'},\n",
       " '439': {'who': '0',\n",
       "  'what': '0',\n",
       "  'when': '0',\n",
       "  'where': '0',\n",
       "  'why': '0',\n",
       "  'how': 'of sexual abuse by Catholic priests in France over last'},\n",
       " '440': {'who': '0',\n",
       "  'what': '0',\n",
       "  'when': '0',\n",
       "  'where': '0',\n",
       "  'why': '0',\n",
       "  'how': 'Retail tycoons , foreign royals and super-rich Russians - BBC'},\n",
       " '441': {'who': '0',\n",
       "  'what': '0',\n",
       "  'when': '0',\n",
       "  'where': '0',\n",
       "  'why': '0',\n",
       "  'how': \"Social media platforms Facebook , WhatsApp and Instagram ' coming\"},\n",
       " '442': {'who': '0',\n",
       "  'what': '0',\n",
       "  'when': '0',\n",
       "  'where': 'Whatsapp',\n",
       "  'why': '0',\n",
       "  'how': 'Social media services Facebook , Whatsapp and Instagram hit by'},\n",
       " '443': {'who': '0',\n",
       "  'what': '0',\n",
       "  'when': '0',\n",
       "  'where': 'Europe',\n",
       "  'why': '0',\n",
       "  'how': \"'s biggest corruption scandals , BBC investigation discovers .\"},\n",
       " '444': {'who': 'Fumio Kishida',\n",
       "  'what': \"has formally been announced as Japan 's , a week\",\n",
       "  'when': '0',\n",
       "  'where': '0',\n",
       "  'why': 'he',\n",
       "  'how': \"has formally been announced as Japan 's new prime minister\"},\n",
       " '445': {'who': 'Former UK Prime Minister Tony Blair and his wife Cherie',\n",
       "  'what': 'saved £ 312,000',\n",
       "  'when': '0',\n",
       "  'where': '0',\n",
       "  'why': '0',\n",
       "  'how': 'Former UK Prime Minister Tony Blair and his wife Cherie'},\n",
       " '446': {'who': 'world leaders and the super-rich',\n",
       "  'what': 'are secretly buying up luxury property',\n",
       "  'when': '0',\n",
       "  'where': '0',\n",
       "  'why': '0',\n",
       "  'how': 'Massive data leak , the Pandora Papers , exposes how'},\n",
       " '447': {'who': '0',\n",
       "  'what': '0',\n",
       "  'when': '0',\n",
       "  'where': 'South East',\n",
       "  'why': '0',\n",
       "  'how': 'virtually over \" in Scotland , northern England ,'},\n",
       " '448': {'who': '0',\n",
       "  'what': '0',\n",
       "  'when': '0',\n",
       "  'where': '0',\n",
       "  'why': 'Met Police officer who murdered Sarah Everard after kidnapping and raping her under the guise of an arrest',\n",
       "  'how': 'handed whole - life sentence .'},\n",
       " '449': {'who': '0',\n",
       "  'what': '0',\n",
       "  'when': '0',\n",
       "  'where': '0',\n",
       "  'why': 'officer Wayne Couzens',\n",
       "  'how': 'false arrest \" before murdering her , court told'},\n",
       " '450': {'who': '0',\n",
       "  'what': '0',\n",
       "  'when': '0',\n",
       "  'where': '0',\n",
       "  'why': '0',\n",
       "  'how': 'Former Liverpool and England World Cup - winning striker Roger'},\n",
       " '451': {'who': 'Mr Kelly',\n",
       "  'what': 'is the worst',\n",
       "  'when': '0',\n",
       "  'where': '0',\n",
       "  'why': '0',\n",
       "  'how': 'the worst , a dangerous sexual predator \" .'},\n",
       " '452': {'who': '0',\n",
       "  'what': '0',\n",
       "  'when': '0',\n",
       "  'where': '0',\n",
       "  'why': '0',\n",
       "  'how': 'of primary school teacher Sabina Nessa , who was killed'},\n",
       " '453': {'who': '0',\n",
       "  'what': '0',\n",
       "  'when': '0',\n",
       "  'where': '0',\n",
       "  'why': 'singer R. Kelly',\n",
       "  'how': 'found guilty on all counts in sex trafficking trial .'},\n",
       " '454': {'who': '0',\n",
       "  'what': '0',\n",
       "  'when': '0',\n",
       "  'where': '0',\n",
       "  'why': 'Police',\n",
       "  'how': 'is significant development .'},\n",
       " '455': {'who': '0',\n",
       "  'what': '0',\n",
       "  'when': '0',\n",
       "  'where': '0',\n",
       "  'why': '0',\n",
       "  'how': 'Top Huawei executive flies home to China after being freed'},\n",
       " '456': {'who': '0',\n",
       "  'what': '0',\n",
       "  'when': '0',\n",
       "  'where': '0',\n",
       "  'why': '0',\n",
       "  'how': 'free top Huawei executive detained in Canada , in case'},\n",
       " '457': {'who': '0',\n",
       "  'what': '0',\n",
       "  'when': '0',\n",
       "  'where': '0',\n",
       "  'why': '0',\n",
       "  'how': 'in south - east London , police say .'},\n",
       " '458': {'who': '0',\n",
       "  'what': '0',\n",
       "  'when': '0',\n",
       "  'where': '0',\n",
       "  'why': 'civilian deaths',\n",
       "  'how': 'of civilian deaths linked to British armed forces in Afghanistan'},\n",
       " '459': {'who': '0',\n",
       "  'what': '0',\n",
       "  'when': '0',\n",
       "  'where': 'Europe',\n",
       "  'why': 'Office for National Statistics',\n",
       "  'how': 'men in the UK falls for the'},\n",
       " '460': {'who': '0',\n",
       "  'what': '0',\n",
       "  'when': '0',\n",
       "  'where': '0',\n",
       "  'why': '0',\n",
       "  'how': '0'},\n",
       " '461': {'who': 'Gabby Petito and coroner',\n",
       "  'what': 'believes she',\n",
       "  'when': '0',\n",
       "  'where': '0',\n",
       "  'why': '0',\n",
       "  'how': 'US national park is that of missing travel blogger Gabby'},\n",
       " '462': {'who': '0',\n",
       "  'what': '0',\n",
       "  'when': '0',\n",
       "  'where': '0',\n",
       "  'why': '0',\n",
       "  'how': 'A decisive decade for our world \" - Joe Biden'},\n",
       " '463': {'who': '0',\n",
       "  'what': '0',\n",
       "  'when': '0',\n",
       "  'where': '0',\n",
       "  'why': 'Russian',\n",
       "  'how': 'Third Russian accused by UK police of involvement in 2018'},\n",
       " '464': {'who': '0',\n",
       "  'what': '0',\n",
       "  'when': '0',\n",
       "  'where': '0',\n",
       "  'why': '0',\n",
       "  'how': 'Russia responsible for killing Alexander Litvinenko , a former Russian'},\n",
       " '465': {'who': 'Trudeau',\n",
       "  'what': 'failed to make the gains',\n",
       "  'when': '0',\n",
       "  'where': '0',\n",
       "  'why': \"Canada 's Justin Trudeau\",\n",
       "  'how': 'brighter days ahead \" after projected win in election'},\n",
       " '466': {'who': '0',\n",
       "  'what': '0',\n",
       "  'when': '0',\n",
       "  'where': '0',\n",
       "  'why': '0',\n",
       "  'how': 'of Afghan interpreters .'},\n",
       " '467': {'who': '0',\n",
       "  'what': '0',\n",
       "  'when': '0',\n",
       "  'where': '0',\n",
       "  'why': 'Covid',\n",
       "  'how': 'for fully vaccinated passengers from UK and EU , ending'},\n",
       " '468': {'who': '0',\n",
       "  'what': '0',\n",
       "  'when': '0',\n",
       "  'where': '0',\n",
       "  'why': '0',\n",
       "  'how': 'follow live updates .'},\n",
       " '469': {'who': '0',\n",
       "  'what': '0',\n",
       "  'when': '0',\n",
       "  'where': '0',\n",
       "  'why': '0',\n",
       "  'how': ', best known for playing Boycie in British TV comedy'},\n",
       " '470': {'who': '0',\n",
       "  'what': '0',\n",
       "  'when': '0',\n",
       "  'where': '0',\n",
       "  'why': 'it',\n",
       "  'how': 'of new security pact it describes as \" a stab'},\n",
       " '471': {'who': '0',\n",
       "  'what': '0',\n",
       "  'when': '0',\n",
       "  'where': '0',\n",
       "  'why': '0',\n",
       "  'how': 'before military pullout killed 10 innocent people - official tells'},\n",
       " '472': {'who': '0',\n",
       "  'what': '0',\n",
       "  'when': '0',\n",
       "  'where': '0',\n",
       "  'why': '0',\n",
       "  'how': 'no longer necessary for fully vaccinated travellers in English travel'},\n",
       " '473': {'who': '0',\n",
       "  'what': '0',\n",
       "  'when': '0',\n",
       "  'where': '0',\n",
       "  'why': '0',\n",
       "  'how': 'shot dead in Londonderry in 2019 .'},\n",
       " '474': {'who': '0',\n",
       "  'what': '0',\n",
       "  'when': '0',\n",
       "  'where': '0',\n",
       "  'why': '0',\n",
       "  'how': 'becomes new UK foreign secretary , replacing Dominic Raab .'},\n",
       " '475': {'who': '0',\n",
       "  'what': '0',\n",
       "  'when': '0',\n",
       "  'where': '0',\n",
       "  'why': '0',\n",
       "  'how': 'his handling of disruption to schools and exams during pandemic'},\n",
       " '476': {'who': '0',\n",
       "  'what': '0',\n",
       "  'when': '0',\n",
       "  'where': '0',\n",
       "  'why': '0',\n",
       "  'how': 'and younger adults with health conditions recommended by UK government'},\n",
       " '477': {'who': '0',\n",
       "  'what': '0',\n",
       "  'when': '0',\n",
       "  'where': '0',\n",
       "  'why': '0',\n",
       "  'how': 'sees twice as many days with temperatures over 50C ,'},\n",
       " '478': {'who': '0',\n",
       "  'what': '0',\n",
       "  'when': '0',\n",
       "  'where': '0',\n",
       "  'why': '0',\n",
       "  'how': '’s chief medical officers recommend .'},\n",
       " '479': {'who': '0',\n",
       "  'what': '0',\n",
       "  'when': '0',\n",
       "  'where': '0',\n",
       "  'why': 'Russia ’s Daniil Medvedev',\n",
       "  'how': 'Open final , ending the Serb ’s dream of a'},\n",
       " '480': {'who': '0',\n",
       "  'what': '0',\n",
       "  'when': '0',\n",
       "  'where': '0',\n",
       "  'why': '0',\n",
       "  'how': 'and large events in England will not be going ahead'},\n",
       " '481': {'who': '0',\n",
       "  'what': '0',\n",
       "  'when': '0',\n",
       "  'where': '0',\n",
       "  'why': '0',\n",
       "  'how': 'first British woman to secure a Grand Slam singles victory'},\n",
       " '482': {'who': '0',\n",
       "  'what': '0',\n",
       "  'when': '0',\n",
       "  'where': 'World Trade Center',\n",
       "  'why': 'first plane',\n",
       "  'how': 'will shortly begin US 9/11 commemorations .'},\n",
       " '483': {'who': 'Lawyers',\n",
       "  'what': 'have successfully served him',\n",
       "  'when': '0',\n",
       "  'where': '0',\n",
       "  'why': '0',\n",
       "  'how': 'of sexual abuse , claim they have successfully served him'},\n",
       " '484': {'who': '0',\n",
       "  'what': '0',\n",
       "  'when': '0',\n",
       "  'where': '0',\n",
       "  'why': '0',\n",
       "  'how': 'is likely to have \" emboldened \" so - called'},\n",
       " '485': {'who': '0',\n",
       "  'what': '0',\n",
       "  'when': '0',\n",
       "  'where': 'Old Trafford',\n",
       "  'why': '0',\n",
       "  'how': \"'s final cricket Test match against India at Old Trafford\"},\n",
       " '486': {'who': '0',\n",
       "  'what': '0',\n",
       "  'when': '0',\n",
       "  'where': '0',\n",
       "  'why': 'Emma Raducanu',\n",
       "  'how': 'first British woman to reach a Grand Slam singles final'},\n",
       " '487': {'who': '0',\n",
       "  'what': '0',\n",
       "  'when': '0',\n",
       "  'where': '0',\n",
       "  'why': '0',\n",
       "  'how': 'and social care .'},\n",
       " '488': {'who': '0',\n",
       "  'what': '0',\n",
       "  'when': '0',\n",
       "  'where': '0',\n",
       "  'why': 'Emma Raducanu',\n",
       "  'how': ', British teenager Emma Raducanu reaches semi-finals - beating Olympic'},\n",
       " '489': {'who': '0',\n",
       "  'what': '0',\n",
       "  'when': '0',\n",
       "  'where': '0',\n",
       "  'why': '0',\n",
       "  'how': 'and social care in England .'},\n",
       " '490': {'who': '0',\n",
       "  'what': '0',\n",
       "  'when': '0',\n",
       "  'where': '0',\n",
       "  'why': '0',\n",
       "  'how': 'Girls Aloud singer Sarah Harding , 39 , who had'},\n",
       " '491': {'who': '0',\n",
       "  'what': '0',\n",
       "  'when': '0',\n",
       "  'where': '0',\n",
       "  'why': '0',\n",
       "  'how': 'vaccine advisory body refuses to approve vaccinating healthy children aged'},\n",
       " '492': {'who': '0',\n",
       "  'what': '0',\n",
       "  'when': '0',\n",
       "  'where': '0',\n",
       "  'why': 'New Zealand Prime Minister Jacinda Ardern',\n",
       "  'how': 'terrorist attack \" by a Sri Lankan national who'},\n",
       " '493': {'who': '0',\n",
       "  'what': '0',\n",
       "  'when': '0',\n",
       "  'where': '0',\n",
       "  'why': '0',\n",
       "  'how': 'shoot dead man after he entered an Auckland supermarket and'},\n",
       " '494': {'who': '0',\n",
       "  'what': '0',\n",
       "  'when': '0',\n",
       "  'where': '0',\n",
       "  'why': 'Abba',\n",
       "  'how': 'release new music , 40 years after they split .'},\n",
       " '495': {'who': '0',\n",
       "  'what': '0',\n",
       "  'when': '0',\n",
       "  'where': '0',\n",
       "  'why': 'Sarah Storey',\n",
       "  'how': \"17th Paralympic gold to become Great Britain 's most successful\"},\n",
       " '496': {'who': '0',\n",
       "  'what': '0',\n",
       "  'when': '0',\n",
       "  'where': '0',\n",
       "  'why': '0',\n",
       "  'how': 'Double child killer Colin Pitchfork released from prison , UK'},\n",
       " '497': {'who': '0',\n",
       "  'what': '0',\n",
       "  'when': '0',\n",
       "  'where': '0',\n",
       "  'why': '0',\n",
       "  'how': '0'},\n",
       " '498': {'who': '0',\n",
       "  'what': '0',\n",
       "  'when': '0',\n",
       "  'where': '0',\n",
       "  'why': '0',\n",
       "  'how': 'Gargantuan black hole at the centre of our galaxy pictured'},\n",
       " '499': {'who': 'Damehood given to BBC podcast host Deborah James , days after she',\n",
       "  'what': 'revealed she',\n",
       "  'when': '0',\n",
       "  'where': '0',\n",
       "  'why': 'she',\n",
       "  'how': 'she revealed she is receiving end - of - life'},\n",
       " '500': {'who': '0',\n",
       "  'what': '0',\n",
       "  'when': '0',\n",
       "  'where': '0',\n",
       "  'why': 'Russian soldiers',\n",
       "  'how': 'Russian soldiers caught on camera shooting unarmed Ukrainian civilians in'},\n",
       " '501': {'who': '0',\n",
       "  'what': '0',\n",
       "  'when': '0',\n",
       "  'where': 'Downing Street',\n",
       "  'why': '0',\n",
       "  'how': '0'},\n",
       " '502': {'who': 'Nato',\n",
       "  'what': \"announce , after Russia 's\",\n",
       "  'when': '0',\n",
       "  'where': '0',\n",
       "  'why': 'Finland',\n",
       "  'how': \"Russia 's invasion of Ukraine\"},\n",
       " '503': {'who': '0',\n",
       "  'what': '0',\n",
       "  'when': '0',\n",
       "  'where': '0',\n",
       "  'why': 'UK and Sweden',\n",
       "  'how': 'sign mutual security deal , pledging support if either country'},\n",
       " '504': {'who': 'Queen',\n",
       "  'what': \"pulls out of reading the Queen 's Opening\",\n",
       "  'when': '0',\n",
       "  'where': 'Palace',\n",
       "  'why': 'Queen',\n",
       "  'how': '0'},\n",
       " '505': {'who': 'Starmer',\n",
       "  'what': \"'ll quit if given Covid\",\n",
       "  'when': '0',\n",
       "  'where': '0',\n",
       "  'why': '0',\n",
       "  'how': 'Covid fine by police .'},\n",
       " '506': {'who': \"Sri Lanka 's Prime Minister Mahinda Rajapaksa\",\n",
       "  'what': 'resigns amid mass protests',\n",
       "  'when': '0',\n",
       "  'where': '0',\n",
       "  'why': '0',\n",
       "  'how': \"amid mass protests over the country 's worst economic crisis\"},\n",
       " '507': {'who': \"Russia 's President Vladimir Putin\",\n",
       "  'what': 'apologised after his foreign minister',\n",
       "  'when': '0',\n",
       "  'where': '0',\n",
       "  'why': \"Russia 's President Vladimir Putin\",\n",
       "  'how': 'his foreign minister said that Nazi leader Adolf Hitler had'},\n",
       " '508': {'who': 'Ukrainian President Zelensky',\n",
       "  'what': 'tells UN',\n",
       "  'when': '0',\n",
       "  'where': '0',\n",
       "  'why': '0',\n",
       "  'how': 'Ukrainian President Zelensky tells UN that Russian soldiers killed and'},\n",
       " '509': {'who': '0',\n",
       "  'what': '0',\n",
       "  'when': '0',\n",
       "  'where': '0',\n",
       "  'why': '0',\n",
       "  'how': '’s true death toll from Covid pandemic is nearly 15'},\n",
       " '510': {'who': 'UK interest rates',\n",
       "  'what': 'raised from 0.75 Percent to 1 Percent , as Bank',\n",
       "  'when': '0',\n",
       "  'where': '0',\n",
       "  'why': '0',\n",
       "  'how': 'their highest level since 2009 , as Bank of England'},\n",
       " '511': {'who': '0',\n",
       "  'what': '0',\n",
       "  'when': '0',\n",
       "  'where': 'Northern',\n",
       "  'why': '0',\n",
       "  'how': 'Historic election result in Northern Ireland as Sinn Féin wins'},\n",
       " '512': {'who': '0',\n",
       "  'what': '0',\n",
       "  'when': '0',\n",
       "  'where': '0',\n",
       "  'why': 'The SNP',\n",
       "  'how': 'as biggest party in Scottish council elections - with Labour'},\n",
       " '513': {'who': '0',\n",
       "  'what': '0',\n",
       "  'when': '0',\n",
       "  'where': 'Palace',\n",
       "  'why': 'Prince Harry and Andrew',\n",
       "  'how': \"Queen 's Platinum Jubilee celebrations\"},\n",
       " '514': {'who': '0',\n",
       "  'what': '0',\n",
       "  'when': '0',\n",
       "  'where': '0',\n",
       "  'why': '0',\n",
       "  'how': 'over alleged Covid breach last year .'},\n",
       " '515': {'who': '0',\n",
       "  'what': '0',\n",
       "  'when': '0',\n",
       "  'where': '0',\n",
       "  'why': '0',\n",
       "  'how': \"convenience store McColl 's collapses into administration\"},\n",
       " '516': {'who': 'Minder , The Sweeney and New Tricks ,',\n",
       "  'what': 'has died aged 74',\n",
       "  'when': '0',\n",
       "  'where': '0',\n",
       "  'why': '0',\n",
       "  'how': 'died aged 74 , his family says .'},\n",
       " '517': {'who': '0',\n",
       "  'what': '0',\n",
       "  'when': '0',\n",
       "  'where': '0',\n",
       "  'why': '0',\n",
       "  'how': 'the next Dr Who , the BBC announces .'},\n",
       " '518': {'who': '0',\n",
       "  'what': '0',\n",
       "  'when': '0',\n",
       "  'where': '0',\n",
       "  'why': 'Ukraine',\n",
       "  'how': 'of public support to be crowne .'},\n",
       " '519': {'who': '0',\n",
       "  'what': '0',\n",
       "  'when': '0',\n",
       "  'where': '0',\n",
       "  'why': 'Liverpool',\n",
       "  'how': 'cup final at Wembley after a deadlocked game went to'},\n",
       " '520': {'who': '0',\n",
       "  'what': '0',\n",
       "  'when': '0',\n",
       "  'where': 'Kharkiv',\n",
       "  'why': \"Kharkiv 's mayor\",\n",
       "  'how': \"that Russian forces have withdrawn far out from Ukraine 's\"},\n",
       " '521': {'who': 'winners',\n",
       "  'what': 'have “ time',\n",
       "  'when': '0',\n",
       "  'where': '0',\n",
       "  'why': 'they',\n",
       "  'how': '’s biggest ever lottery winners , who won £ 184m'},\n",
       " '522': {'who': 'MI5 agent',\n",
       "  'what': 'used secret status',\n",
       "  'when': '0',\n",
       "  'where': '0',\n",
       "  'why': '0',\n",
       "  'how': 'used secret status to terrorise his girlfriend , including carrying'},\n",
       " '523': {'who': '0',\n",
       "  'what': '0',\n",
       "  'when': '0',\n",
       "  'where': 'Paddington',\n",
       "  'why': 'Queen',\n",
       "  'how': '0'},\n",
       " '524': {'who': '0',\n",
       "  'what': '0',\n",
       "  'when': '0',\n",
       "  'where': '0',\n",
       "  'why': '0',\n",
       "  'how': 'first openly gay UK male professional footballer in decades .'},\n",
       " '525': {'who': '0',\n",
       "  'what': '0',\n",
       "  'when': '0',\n",
       "  'where': '0',\n",
       "  'why': '0',\n",
       "  'how': 'of sexual offences , including rape and sexual assault ,'},\n",
       " '526': {'who': '0',\n",
       "  'what': '0',\n",
       "  'when': '0',\n",
       "  'where': 'Azovstal',\n",
       "  'why': '0',\n",
       "  'how': 'of Ukrainian fighters holed up in Azovstal steel plant in'},\n",
       " '527': {'who': '0',\n",
       "  'what': '0',\n",
       "  'when': '0',\n",
       "  'where': 'Downing Street',\n",
       "  'why': '0',\n",
       "  'how': '0'},\n",
       " '528': {'who': '0',\n",
       "  'what': '0',\n",
       "  'when': '0',\n",
       "  'where': '0',\n",
       "  'why': 'Russian soldier accused of killing unarmed Ukrainian civilian',\n",
       "  'how': 'Russian soldier accused of killing unarmed Ukrainian civilian pleads guilty'}}"
      ]
     },
     "execution_count": 9,
     "metadata": {},
     "output_type": "execute_result"
    }
   ],
   "source": [
    "results = evaluate_(cleaned_tweets)\n",
    "results"
   ]
  },
  {
   "cell_type": "code",
   "execution_count": 10,
   "id": "952ee530",
   "metadata": {},
   "outputs": [],
   "source": [
    "results_df = pd.DataFrame.from_dict(results)\n",
    "results_df = results_df.T\n",
    "results_df['text'] = cleaned_tweets['text'].to_numpy()\n",
    "results_df.to_csv('./data/corenlp440/bbc_breaking_v1.csv')"
   ]
  }
 ],
 "metadata": {
  "kernelspec": {
   "display_name": "Python 3 (ipykernel)",
   "language": "python",
   "name": "python3"
  },
  "language_info": {
   "codemirror_mode": {
    "name": "ipython",
    "version": 3
   },
   "file_extension": ".py",
   "mimetype": "text/x-python",
   "name": "python",
   "nbconvert_exporter": "python",
   "pygments_lexer": "ipython3",
   "version": "3.9.12"
  }
 },
 "nbformat": 4,
 "nbformat_minor": 5
}
