{
 "cells": [
  {
   "cell_type": "code",
   "execution_count": 2,
   "id": "2f04ce7d",
   "metadata": {},
   "outputs": [],
   "source": [
    "import pandas as pd\n",
    "import numpy as np\n",
    "from Giveme5W1H.extractor.document import Document\n",
    "from Giveme5W1H.extractor.extractor import MasterExtractor"
   ]
  },
  {
   "cell_type": "markdown",
   "id": "4f976e98",
   "metadata": {},
   "source": [
    "# Cleaning Tweets"
   ]
  },
  {
   "cell_type": "code",
   "execution_count": 3,
   "id": "0693e9e7",
   "metadata": {},
   "outputs": [
    {
     "name": "stdout",
     "output_type": "stream",
     "text": [
      "0\n"
     ]
    },
    {
     "ename": "IndexError",
     "evalue": "list index out of range",
     "output_type": "error",
     "traceback": [
      "\u001b[1;31m---------------------------------------------------------------------------\u001b[0m",
      "\u001b[1;31mIndexError\u001b[0m                                Traceback (most recent call last)",
      "Input \u001b[1;32mIn [3]\u001b[0m, in \u001b[0;36m<cell line: 38>\u001b[1;34m()\u001b[0m\n\u001b[0;32m     36\u001b[0m tweets_df \u001b[38;5;241m=\u001b[39m pd\u001b[38;5;241m.\u001b[39mread_csv(\u001b[38;5;124m'\u001b[39m\u001b[38;5;124mtweets-bbcbreaking.csv\u001b[39m\u001b[38;5;124m'\u001b[39m)\n\u001b[0;32m     37\u001b[0m cleaned_tweets_dict \u001b[38;5;241m=\u001b[39m prepare_tweets_from(tweets_df)\n\u001b[1;32m---> 38\u001b[0m results \u001b[38;5;241m=\u001b[39m \u001b[43mevaluate_\u001b[49m\u001b[43m(\u001b[49m\u001b[43mcleaned_tweets_dict\u001b[49m\u001b[43m)\u001b[49m\n\u001b[0;32m     39\u001b[0m results\n",
      "Input \u001b[1;32mIn [3]\u001b[0m, in \u001b[0;36mevaluate_\u001b[1;34m(tweets_dict)\u001b[0m\n\u001b[0;32m     23\u001b[0m doc \u001b[38;5;241m=\u001b[39m Document\u001b[38;5;241m.\u001b[39mfrom_text(tweets_dict[tweet][\u001b[38;5;124m'\u001b[39m\u001b[38;5;124mtext\u001b[39m\u001b[38;5;124m'\u001b[39m], tweets_dict[tweet][\u001b[38;5;124m'\u001b[39m\u001b[38;5;124mtext\u001b[39m\u001b[38;5;124m'\u001b[39m], tweets_dict[tweet][\u001b[38;5;124m'\u001b[39m\u001b[38;5;124mdate\u001b[39m\u001b[38;5;124m'\u001b[39m])\n\u001b[0;32m     24\u001b[0m doc \u001b[38;5;241m=\u001b[39m extractor\u001b[38;5;241m.\u001b[39mparse(doc)\n\u001b[1;32m---> 25\u001b[0m row[\u001b[38;5;124m'\u001b[39m\u001b[38;5;124mwho\u001b[39m\u001b[38;5;124m'\u001b[39m] \u001b[38;5;241m=\u001b[39m \u001b[43mdoc\u001b[49m\u001b[38;5;241;43m.\u001b[39;49m\u001b[43mget_top_answer\u001b[49m\u001b[43m(\u001b[49m\u001b[38;5;124;43m'\u001b[39;49m\u001b[38;5;124;43mwho\u001b[39;49m\u001b[38;5;124;43m'\u001b[39;49m\u001b[43m)\u001b[49m\u001b[38;5;241m.\u001b[39mget_parts_as_text()\n\u001b[0;32m     26\u001b[0m row[\u001b[38;5;124m'\u001b[39m\u001b[38;5;124mwhat\u001b[39m\u001b[38;5;124m'\u001b[39m] \u001b[38;5;241m=\u001b[39m doc\u001b[38;5;241m.\u001b[39mget_top_answer(\u001b[38;5;124m'\u001b[39m\u001b[38;5;124mwhat\u001b[39m\u001b[38;5;124m'\u001b[39m)\u001b[38;5;241m.\u001b[39mget_parts_as_text()\n\u001b[0;32m     27\u001b[0m row[\u001b[38;5;124m'\u001b[39m\u001b[38;5;124mwhen\u001b[39m\u001b[38;5;124m'\u001b[39m] \u001b[38;5;241m=\u001b[39m doc\u001b[38;5;241m.\u001b[39mget_top_answer(\u001b[38;5;124m'\u001b[39m\u001b[38;5;124mwhen\u001b[39m\u001b[38;5;124m'\u001b[39m)\u001b[38;5;241m.\u001b[39mget_parts_as_text()\n",
      "File \u001b[1;32m~\\Anaconda3\\lib\\site-packages\\Giveme5W1H\\extractor\\document.py:151\u001b[0m, in \u001b[0;36mDocument.get_top_answer\u001b[1;34m(self, question)\u001b[0m\n\u001b[0;32m    150\u001b[0m \u001b[38;5;28;01mdef\u001b[39;00m \u001b[38;5;21mget_top_answer\u001b[39m(\u001b[38;5;28mself\u001b[39m, question):\n\u001b[1;32m--> 151\u001b[0m     \u001b[38;5;28;01mreturn\u001b[39;00m \u001b[38;5;28;43mself\u001b[39;49m\u001b[38;5;241;43m.\u001b[39;49m\u001b[43mget_answers\u001b[49m\u001b[43m(\u001b[49m\u001b[43mquestion\u001b[49m\u001b[38;5;241;43m=\u001b[39;49m\u001b[43mquestion\u001b[49m\u001b[43m)\u001b[49m\u001b[43m[\u001b[49m\u001b[38;5;241;43m0\u001b[39;49m\u001b[43m]\u001b[49m\n",
      "\u001b[1;31mIndexError\u001b[0m: list index out of range"
     ]
    }
   ],
   "source": [
    "def prepare_tweets_from(dataframe):\n",
    "    dataframe = dataframe.drop(['id', 'username'], axis=1)\n",
    "\n",
    "    url_regex = r'https?:\\/\\/(www\\.)?[-a-zA-Z0-9@:%._\\+~#=]{1,256}\\.[a-zA-Z0-9()]{1,6}\\b([-a-zA-Z0-9()@:%_\\+.~#?&//=]*)'\n",
    "    hashtag_regex = r'#[a-z0-9A-Z_]+'\n",
    "\n",
    "    dataframe['text'] = dataframe['text'].str.replace(url_regex, '', regex=True)\n",
    "    dataframe['text'] = dataframe['text'].str.replace(hashtag_regex, '', regex=True)\n",
    "    dataframe['text'] = dataframe['text'].str.strip()\n",
    "    \n",
    "    df_dict = dataframe.T.to_dict()\n",
    "    \n",
    "    return df_dict\n",
    "\n",
    "def evaluate_(tweets_dict):\n",
    "    extractor = MasterExtractor()\n",
    "    result_dict = {}\n",
    "    idx = 0\n",
    "    \n",
    "    for tweet in tweets_dict:\n",
    "        row = {}\n",
    "        print(tweet)\n",
    "        doc = Document.from_text(tweets_dict[tweet]['text'], tweets_dict[tweet]['text'], tweets_dict[tweet]['date'])\n",
    "        doc = extractor.parse(doc)\n",
    "        row['who'] = doc.get_top_answer('who').get_parts_as_text()\n",
    "        row['what'] = doc.get_top_answer('what').get_parts_as_text()\n",
    "        row['when'] = doc.get_top_answer('when').get_parts_as_text()\n",
    "        row['where'] = doc.get_top_answer('where').get_parts_as_text()\n",
    "        row['why'] = doc.get_top_answer('why').get_parts_as_text()\n",
    "        row['how'] = doc.get_top_answer('how').get_parts_as_text()\n",
    "        result[str(idx)] = row\n",
    "        idx += 1\n",
    "    \n",
    "    return result_dict\n",
    "\n",
    "tweets_df = pd.read_csv('tweets-bbcbreaking.csv')\n",
    "cleaned_tweets_dict = prepare_tweets_from(tweets_df)\n",
    "results = evaluate_(cleaned_tweets_dict)\n",
    "results"
   ]
  },
  {
   "cell_type": "code",
   "execution_count": null,
   "id": "952ee530",
   "metadata": {},
   "outputs": [],
   "source": [
    "results_df = pd.from_dict(result)\n"
   ]
  }
 ],
 "metadata": {
  "kernelspec": {
   "display_name": "Python 3 (ipykernel)",
   "language": "python",
   "name": "python3"
  },
  "language_info": {
   "codemirror_mode": {
    "name": "ipython",
    "version": 3
   },
   "file_extension": ".py",
   "mimetype": "text/x-python",
   "name": "python",
   "nbconvert_exporter": "python",
   "pygments_lexer": "ipython3",
   "version": "3.9.12"
  }
 },
 "nbformat": 4,
 "nbformat_minor": 5
}
